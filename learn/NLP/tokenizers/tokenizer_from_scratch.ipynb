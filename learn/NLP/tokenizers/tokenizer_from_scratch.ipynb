{
 "cells": [
  {
   "cell_type": "code",
   "execution_count": 42,
   "id": "f77a7c96",
   "metadata": {},
   "outputs": [],
   "source": [
    "import numpy as np\n",
    "from collections  import defaultdict"
   ]
  },
  {
   "cell_type": "code",
   "execution_count": null,
   "id": "f4feac16",
   "metadata": {},
   "outputs": [],
   "source": [
    "class SimpleTokenizer:\n",
    "    def __init__(self, vocabsize=258) -> None:\n",
    "        self.vocab={}\n",
    "        self.merges={}\n",
    "        self.vocabsize= vocabsize\n",
    "        self.vocab={i:bytes([i]) for i in range(256)}\n",
    "\n",
    "    @staticmethod\n",
    "    def get_stats(tokens):\n",
    "        counter=defaultdict(int)\n",
    "        for p1,p2 in zip(tokens[:-1],tokens[1:]):\n",
    "            counter[(p1,p2)]+=1\n",
    "        return counter\n",
    "\n",
    "\n",
    "    def merge(self, tokens, maxpair, newtoken):\n",
    "        newtokens=[]\n",
    "        i=0\n",
    "        while i < len(tokens):\n",
    "            if tokens[i]==maxpair[0] and i<len(tokens)-1 and tokens[i+1]==maxpair[1]:\n",
    "                newtokens.append(newtoken)\n",
    "                i=i+2\n",
    "            else:\n",
    "                newtokens.append(tokens[i])\n",
    "                i=i+1\n",
    "    \n",
    "        return newtokens\n",
    "\n",
    "    def train(self, text):\n",
    "        encoded = text.encode(\"UTF-8\") \n",
    "        tokens = list(encoded)\n",
    "        print(f\"Initial token length: {len(tokens)}\")\n",
    "        iterations = self.vocabsize - 256\n",
    "        \n",
    "        for _ in range(iterations):\n",
    "            stats = self.get_stats(tokens)\n",
    "            if not stats: \n",
    "                print(f\"Not enough tokens, exiting early!\")\n",
    "                break\n",
    "            \n",
    "            maxpair = max(stats, key=stats.get)\n",
    "            print(f\"Pair to merge: {maxpair}\") \n",
    "            \n",
    "            newtoken = 256 + len(self.merges)\n",
    "            tokens = self.merge(tokens, maxpair, newtoken)\n",
    "            self.merges[maxpair] = newtoken\n",
    "\n",
    "        # Build vocab from merges for decode\n",
    "        for (p1, p2), idx in self.merges.items():\n",
    "            self.vocab[idx] = self.vocab[p1] + self.vocab[p2]\n",
    "\n",
    "\n",
    "\n",
    "    def encode(self, text):\n",
    "        encoded = text.encode(\"UTF-8\")\n",
    "        tokens = list(encoded)\n",
    "        while True:\n",
    "            stats = self.get_stats(tokens)\n",
    "            if not stats:  # ✓ Check if empty first!\n",
    "                break\n",
    "            maxtoken = min(stats, key=lambda x: self.merges.get(x, float(\"inf\")))\n",
    "            if maxtoken not in self.merges:\n",
    "                break\n",
    "            newtoken = self.merges[maxtoken] \n",
    "            tokens = self.merge(tokens, maxtoken, newtoken)  \n",
    "        return tokens\n",
    "    \n",
    "    def decode(self,input_ids):\n",
    "        bytes_seq = b''.join(self.vocab[i] for i in input_ids)\n",
    "        text= bytes_seq.decode(\"UTF-8\", errors=\"replace\")\n",
    "        return text\n",
    "\n",
    "    "
   ]
  },
  {
   "cell_type": "code",
   "execution_count": 107,
   "id": "1ed0dc47",
   "metadata": {},
   "outputs": [
    {
     "name": "stdout",
     "output_type": "stream",
     "text": [
      "Text: Hello, world! This is a test. The quick brown fox jumps over the lazy dog. Unicode is important too: 😄 🅤🅝🅘🅒🅞🅓🅔\n",
      "Length in characters: 110\n"
     ]
    }
   ],
   "source": [
    "# Step 1: Get the sample text from Nathan Reed's blog post\n",
    "text = \"\"\"Ｕｎｉｃｏｄｅ! 🅤🅝🅘🅒🅞🅓🅔‽ 🇺‌🇳‌🇮‌🇨‌🇴‌🇩‌🇪! 😄 The very name strikes fear and awe into the hearts of programmers worldwide. We all know we ought to \"support Unicode\" in our software (whatever that means—like using wchar_t for all the strings, right?). But Unicode can be abstruse, and diving into the thousand-page Unicode Standard plus its dozens of supplementary annexes, reports, and notes can be more than a little intimidating. I don't blame programmers for still finding the whole thing mysterious, even 30 years after Unicode's inception.\"\"\"\n",
    "text =\"Hello, world! This is a test. The quick brown fox jumps over the lazy dog. Unicode is important too: 😄 🅤🅝🅘🅒🅞🅓🅔\"\n",
    "print(f\"Text: {text}\")\n",
    "print(f\"Length in characters: {len(text)}\")"
   ]
  },
  {
   "cell_type": "code",
   "execution_count": 108,
   "id": "b7818157",
   "metadata": {},
   "outputs": [
    {
     "name": "stdout",
     "output_type": "stream",
     "text": [
      "Initial token length: 134\n",
      "Pair to merge: (240, 159)\n",
      "Pair to merge: (256, 133)\n"
     ]
    }
   ],
   "source": [
    "tokenizer = SimpleTokenizer()\n",
    "tokenizer.train(text)"
   ]
  },
  {
   "cell_type": "code",
   "execution_count": 109,
   "id": "fddde2be",
   "metadata": {},
   "outputs": [
    {
     "name": "stdout",
     "output_type": "stream",
     "text": [
      "Hello, world\n"
     ]
    }
   ],
   "source": [
    "encoded = tokenizer.encode(\"Hello, world\")\n",
    "decoded = tokenizer.decode(encoded)\n",
    "print(decoded)  "
   ]
  },
  {
   "cell_type": "code",
   "execution_count": 105,
   "id": "cb4cc19a",
   "metadata": {},
   "outputs": [
    {
     "data": {
      "text/plain": [
       "[256]"
      ]
     },
     "execution_count": 105,
     "metadata": {},
     "output_type": "execute_result"
    }
   ],
   "source": [
    "encoded"
   ]
  },
  {
   "cell_type": "code",
   "execution_count": null,
   "id": "ba425b67",
   "metadata": {},
   "outputs": [],
   "source": []
  },
  {
   "cell_type": "code",
   "execution_count": null,
   "id": "c64d14ce",
   "metadata": {},
   "outputs": [],
   "source": []
  }
 ],
 "metadata": {
  "kernelspec": {
   "display_name": "base",
   "language": "python",
   "name": "python3"
  },
  "language_info": {
   "codemirror_mode": {
    "name": "ipython",
    "version": 3
   },
   "file_extension": ".py",
   "mimetype": "text/x-python",
   "name": "python",
   "nbconvert_exporter": "python",
   "pygments_lexer": "ipython3",
   "version": "3.9.13"
  }
 },
 "nbformat": 4,
 "nbformat_minor": 5
}
