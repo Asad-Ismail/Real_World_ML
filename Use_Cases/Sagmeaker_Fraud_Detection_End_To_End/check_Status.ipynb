{
 "cells": [
  {
   "cell_type": "code",
   "execution_count": 1,
   "id": "1cb2e50d",
   "metadata": {},
   "outputs": [],
   "source": [
    "import boto3\n",
    "import time\n",
    "from botocore.exceptions import ClientError"
   ]
  },
  {
   "cell_type": "code",
   "execution_count": 4,
   "id": "ba46284a",
   "metadata": {},
   "outputs": [
    {
     "name": "stdout",
     "output_type": "stream",
     "text": [
      "Ingestion Status: Created\n"
     ]
    }
   ],
   "source": [
    "# Initialize the SageMaker client\n",
    "sagemaker_client = boto3.client('sagemaker')\n",
    "\n",
    "def check_ingestion_status(feature_group_name):\n",
    "    try:\n",
    "        # Get the details of the feature group\n",
    "        response = sagemaker_client.describe_feature_group(FeatureGroupName=feature_group_name)\n",
    "        ingestion_status = response['FeatureGroupStatus']\n",
    "        \n",
    "        while ingestion_status == 'Creating':\n",
    "            # Wait for a short period before checking again\n",
    "            time.sleep(30)  # Adjust the sleep time as needed\n",
    "            response = sagemaker_client.describe_feature_group(FeatureGroupName=feature_group_name)\n",
    "            ingestion_status = response['FeatureGroupStatus']\n",
    "            \n",
    "        print(f\"Ingestion Status: {ingestion_status}\")\n",
    "        if ingestion_status == 'CreateFailed':\n",
    "            print(f\"Failure Reason: {response.get('FailureReason', 'Unknown')}\")\n",
    "    except ClientError as e:\n",
    "        print(f\"An error occurred: {e}\")\n",
    "\n",
    "# Call the function to check the status\n",
    "check_ingestion_status(feature_group_name=\"fraud-feature-group\")\n"
   ]
  },
  {
   "cell_type": "code",
   "execution_count": 32,
   "id": "fc3fe27d",
   "metadata": {},
   "outputs": [],
   "source": [
    "import boto3\n",
    "\n",
    "athena_client = boto3.client('athena')\n",
    "\n",
    "# Define your query\n",
    "query_string = f\"\"\"\n",
    "SELECT * FROM fraud_feature_group_1704739102\n",
    "\"\"\"\n",
    "\n",
    "# Define the S3 bucket for query results\n",
    "output_location = 's3://sagemaker-us-east-1-470086202700/fraud_train'\n",
    "\n",
    "# Execute the query\n",
    "response = athena_client.start_query_execution(\n",
    "    QueryString=query_string,\n",
    "    QueryExecutionContext={\n",
    "        'Database': 'sagemaker_featurestore'  # The default database name\n",
    "    },\n",
    "    ResultConfiguration={\n",
    "        'OutputLocation': output_location,\n",
    "    }\n",
    ")\n",
    "\n",
    "# Get the query execution ID\n",
    "query_execution_id = response['QueryExecutionId']"
   ]
  },
  {
   "cell_type": "code",
   "execution_count": 34,
   "id": "b23a8304",
   "metadata": {},
   "outputs": [
    {
     "name": "stdout",
     "output_type": "stream",
     "text": [
      "Query succeeded, results are in: s3://sagemaker-us-east-1-470086202700/fraud_train\n"
     ]
    }
   ],
   "source": [
    "def get_query_results(query_execution_id):\n",
    "    # Check if the query has finished\n",
    "    query_status = athena_client.get_query_execution(QueryExecutionId=query_execution_id)\n",
    "    query_execution_status = query_status['QueryExecution']['Status']['State']\n",
    "    #print(query_status['QueryExecution']['Status'])\n",
    "\n",
    "    if query_execution_status == 'SUCCEEDED':\n",
    "        print(\"Query succeeded, results are in:\", output_location)\n",
    "        retun 200\n",
    "    elif query_execution_status in ['FAILED', 'CANCELLED']:\n",
    "        print(f\"Query {query_execution_status.lower()}.\")\n",
    "        return 201\n",
    "    else:\n",
    "        print(\"Query in progress...\")\n",
    "        return -1\n",
    "\n",
    "get_query_results(query_execution_id)"
   ]
  },
  {
   "cell_type": "code",
   "execution_count": 35,
   "id": "9063f895",
   "metadata": {},
   "outputs": [],
   "source": [
    "import boto3\n",
    "s3 = boto3.client('s3')\n",
    "\n",
    "bucket_name = \"sagemaker-us-east-1-470086202700\"\n",
    "prefix=\"fraud_train\"\n",
    "csv_key = f'{prefix}/{query_execution_id}.csv'  \n",
    "metadata_key = f'{prefix}/{query_execution_id}.csv.metadata'  \n",
    "\n",
    "# Specify the local file paths where you want to download the files\n",
    "local_csv_path = 'query_results.csv'\n",
    "local_metadata_path = 'query_metadata.txt'\n",
    "\n",
    "# Download the files\n",
    "s3.download_file(bucket_name, csv_key, local_csv_path)\n",
    "s3.download_file(bucket_name, metadata_key, local_metadata_path)\n"
   ]
  },
  {
   "cell_type": "code",
   "execution_count": 36,
   "id": "10b6db25",
   "metadata": {},
   "outputs": [
    {
     "data": {
      "text/plain": [
       "284807"
      ]
     },
     "execution_count": 36,
     "metadata": {},
     "output_type": "execute_result"
    }
   ],
   "source": [
    "import pandas as pd\n",
    "df = pd.read_csv(local_csv_path)\n",
    "# Display the first few rows of the DataFrame\n",
    "len(df)"
   ]
  },
  {
   "cell_type": "code",
   "execution_count": 37,
   "id": "563ed90f",
   "metadata": {},
   "outputs": [
    {
     "data": {
      "text/plain": [
       "Index(['index', 'time', 'v1', 'v2', 'v3', 'v4', 'v5', 'v6', 'v7', 'v8', 'v9',\n",
       "       'v10', 'v11', 'v12', 'v13', 'v14', 'v15', 'v16', 'v17', 'v18', 'v19',\n",
       "       'v20', 'v21', 'v22', 'v23', 'v24', 'v25', 'v26', 'v27', 'v28', 'amount',\n",
       "       'class', 'event_time', 'write_time', 'api_invocation_time',\n",
       "       'is_deleted'],\n",
       "      dtype='object')"
      ]
     },
     "execution_count": 37,
     "metadata": {},
     "output_type": "execute_result"
    }
   ],
   "source": [
    "df.columns"
   ]
  },
  {
   "cell_type": "code",
   "execution_count": 4,
   "id": "05f7d2e4",
   "metadata": {},
   "outputs": [
    {
     "name": "stdout",
     "output_type": "stream",
     "text": [
      "Rule Description: {'Name': 'model-approval-rule-specific-group', 'Arn': 'arn:aws:events:us-east-1:470086202700:rule/model-approval-rule-specific-group', 'EventPattern': '{\"source\": [\"aws.sagemaker\"], \"detail-type\": [\"SageMaker Model Package State Change\"], \"detail\": {\"ModelPackageGroupName\": [\"fraud-detection\"], \"ModelPackageStatus\": [\"Approved\"]}}', 'State': 'ENABLED', 'EventBusName': 'default', 'CreatedBy': '470086202700', 'ResponseMetadata': {'RequestId': 'cc739661-319a-46bd-af4b-0029733ceefe', 'HTTPStatusCode': 200, 'HTTPHeaders': {'x-amzn-requestid': 'cc739661-319a-46bd-af4b-0029733ceefe', 'content-type': 'application/x-amz-json-1.1', 'content-length': '417', 'date': 'Wed, 10 Jan 2024 20:38:19 GMT'}, 'RetryAttempts': 0}}\n"
     ]
    }
   ],
   "source": [
    "import boto3\n",
    "\n",
    "# Initialize the clients\n",
    "eventbridge_client = boto3.client('events')\n",
    "lambda_client = boto3.client('lambda')\n",
    "\n",
    "# The name of your EventBridge rule and Lambda function\n",
    "rule_name = 'model-approval-rule-specific-group'\n",
    "lambda_function_name = 'fraud-endpoint-deployment'\n",
    "\n",
    "# Describe the rule\n",
    "rule_response = eventbridge_client.describe_rule(Name=rule_name)\n",
    "print(\"Rule Description:\", rule_response)"
   ]
  },
  {
   "cell_type": "code",
   "execution_count": 5,
   "id": "84668c0c",
   "metadata": {},
   "outputs": [
    {
     "name": "stdout",
     "output_type": "stream",
     "text": [
      "Rule Targets: {'Targets': [{'Id': '1', 'Arn': 'arn:aws:lambda:us-east-1:470086202700:function:fraud-endpoint-deployment'}], 'ResponseMetadata': {'RequestId': '5c3d86e9-0398-41bb-9232-82dcd1b23832', 'HTTPStatusCode': 200, 'HTTPHeaders': {'x-amzn-requestid': '5c3d86e9-0398-41bb-9232-82dcd1b23832', 'content-type': 'application/x-amz-json-1.1', 'content-length': '105', 'date': 'Wed, 10 Jan 2024 20:38:30 GMT'}, 'RetryAttempts': 0}}\n"
     ]
    }
   ],
   "source": [
    "# List the targets for the rule\n",
    "targets_response = eventbridge_client.list_targets_by_rule(Rule=rule_name)\n",
    "print(\"Rule Targets:\", targets_response)"
   ]
  },
  {
   "cell_type": "code",
   "execution_count": 6,
   "id": "694ef8a8",
   "metadata": {},
   "outputs": [
    {
     "name": "stdout",
     "output_type": "stream",
     "text": [
      "EventBridge Client Region: us-east-1\n"
     ]
    }
   ],
   "source": [
    "# Assuming your EventBridge client is configured for the intended region\n",
    "eventbridge_client = boto3.client('events')\n",
    "eventbridge_region = eventbridge_client.meta.region_name\n",
    "print(\"EventBridge Client Region:\", eventbridge_region)"
   ]
  },
  {
   "cell_type": "code",
   "execution_count": 2,
   "id": "f935ac9b",
   "metadata": {},
   "outputs": [
    {
     "name": "stdout",
     "output_type": "stream",
     "text": [
      "Is Lambda function a target of the rule? True\n"
     ]
    }
   ],
   "source": [
    "# Check if the Lambda function is a target\n",
    "is_lambda_target = any(target['Arn'].endswith(lambda_function_name) for target in targets_response['Targets'])\n",
    "print(\"Is Lambda function a target of the rule?\", is_lambda_target)\n"
   ]
  },
  {
   "cell_type": "code",
   "execution_count": null,
   "id": "242739d3",
   "metadata": {},
   "outputs": [],
   "source": []
  },
  {
   "cell_type": "code",
   "execution_count": 1,
   "id": "022b3f72",
   "metadata": {},
   "outputs": [
    {
     "name": "stderr",
     "output_type": "stream",
     "text": [
      "/home/ec2-user/anaconda3/envs/python3/lib/python3.10/site-packages/pandas/core/computation/expressions.py:21: UserWarning: Pandas requires version '2.8.0' or newer of 'numexpr' (version '2.7.3' currently installed).\n",
      "  from pandas.core.computation.check import NUMEXPR_INSTALLED\n"
     ]
    },
    {
     "data": {
      "text/plain": [
       "284807"
      ]
     },
     "execution_count": 1,
     "metadata": {},
     "output_type": "execute_result"
    }
   ],
   "source": [
    "import pandas as pd\n",
    "local_csv_path = 'query_results.csv'\n",
    "data = pd.read_csv(local_csv_path)\n",
    "# Display the first few rows of the DataFrame\n",
    "len(data)"
   ]
  },
  {
   "cell_type": "code",
   "execution_count": 2,
   "id": "978969fe",
   "metadata": {},
   "outputs": [],
   "source": [
    "data = data.drop(['event_time', 'write_time', 'api_invocation_time', 'is_deleted','index'], axis=1)\n",
    "## Moving class to first column\n",
    "model_data = data\n",
    "model_data.head()\n",
    "model_data = pd.concat([model_data['class'], model_data.drop(['class'], axis=1)], axis=1)"
   ]
  },
  {
   "cell_type": "code",
   "execution_count": 3,
   "id": "e11ff806",
   "metadata": {},
   "outputs": [
    {
     "ename": "NameError",
     "evalue": "name 'np' is not defined",
     "output_type": "error",
     "traceback": [
      "\u001b[0;31m---------------------------------------------------------------------------\u001b[0m",
      "\u001b[0;31mNameError\u001b[0m                                 Traceback (most recent call last)",
      "Cell \u001b[0;32mIn[3], line 1\u001b[0m\n\u001b[0;32m----> 1\u001b[0m train_data, validation_data, test_data \u001b[38;5;241m=\u001b[39m \u001b[43mnp\u001b[49m\u001b[38;5;241m.\u001b[39msplit(model_data\u001b[38;5;241m.\u001b[39msample(frac\u001b[38;5;241m=\u001b[39m\u001b[38;5;241m1\u001b[39m, random_state\u001b[38;5;241m=\u001b[39m\u001b[38;5;241m1229\u001b[39m), [\u001b[38;5;28mint\u001b[39m(\u001b[38;5;241m0.7\u001b[39m \u001b[38;5;241m*\u001b[39m \u001b[38;5;28mlen\u001b[39m(model_data)), \u001b[38;5;28mint\u001b[39m(\u001b[38;5;241m0.9\u001b[39m \u001b[38;5;241m*\u001b[39m \u001b[38;5;28mlen\u001b[39m(model_data))])\n",
      "\u001b[0;31mNameError\u001b[0m: name 'np' is not defined"
     ]
    }
   ],
   "source": [
    "train_data, validation_data, test_data = np.split(model_data.sample(frac=1, random_state=1229), [int(0.7 * len(model_data)), int(0.9 * len(model_data))])"
   ]
  },
  {
   "cell_type": "code",
   "execution_count": null,
   "id": "6e990119",
   "metadata": {},
   "outputs": [],
   "source": [
    "from sagemaker.serializers import CSVSerializer\n",
    "\n",
    "def real_time_predictor(data, endpoint_name):\n",
    "    \"\"\"\n",
    "    Function to perform real-time predictions using a SageMaker endpoint with CSV input.\n",
    "    \"\"\"\n",
    "    # Create a SageMaker runtime client\n",
    "    runtime_client = boto3.client('sagemaker-runtime')\n",
    "\n",
    "    # Create a CSV serializer\n",
    "    serializer = CSVSerializer()\n",
    "\n",
    "    # Serialize the data\n",
    "    serialized_data = serializer.serialize(data)\n",
    "    \n",
    "    #print(f\"Serialized data is {serialized_data}\")\n",
    "\n",
    "    #Send the data to the SageMaker endpoint for prediction\n",
    "    response = runtime_client.invoke_endpoint(\n",
    "        EndpointName=endpoint_name,\n",
    "        ContentType='text/csv',  # Specify the content type as CSV\n",
    "        Body=serialized_data\n",
    "        )\n",
    "\n",
    "    # Decode the response\n",
    "\n",
    "    result = response['Body'].read().decode()\n",
    "    result_array = [float(val) for val in result.strip().split('\\n')]\n",
    "\n",
    "    return result_array\n"
   ]
  },
  {
   "cell_type": "code",
   "execution_count": 4,
   "id": "66914f73",
   "metadata": {},
   "outputs": [],
   "source": [
    "import json\n",
    "\n",
    "def predict(data, rows=500):\n",
    "    # Convert the DataFrame to a NumPy array\n",
    "    data_array = data.to_numpy() if hasattr(data, 'to_numpy') else data.values    \n",
    "    # Split the array into smaller arrays of size 'rows'\n",
    "    split_array = np.array_split(data_array, int(data_array.shape[0] / float(rows) + 1))   \n",
    "    predictions = []\n",
    "    for array in split_array:\n",
    "        # Assuming xgb_predictor is your model's predictor and it can handle NumPy arrays directly\n",
    "        prediction_result = real_time_predictor(array,\"fraud-detection-endpoint\")\n",
    "        predictions.extend(prediction_result)\n",
    "    return predictions"
   ]
  },
  {
   "cell_type": "code",
   "execution_count": 5,
   "id": "ad0492f9",
   "metadata": {},
   "outputs": [
    {
     "ename": "NameError",
     "evalue": "name 'test_data' is not defined",
     "output_type": "error",
     "traceback": [
      "\u001b[0;31m---------------------------------------------------------------------------\u001b[0m",
      "\u001b[0;31mNameError\u001b[0m                                 Traceback (most recent call last)",
      "Cell \u001b[0;32mIn[5], line 1\u001b[0m\n\u001b[0;32m----> 1\u001b[0m predictions \u001b[38;5;241m=\u001b[39m predict(\u001b[43mtest_data\u001b[49m\u001b[38;5;241m.\u001b[39miloc[:, \u001b[38;5;241m1\u001b[39m:])\n\u001b[1;32m      2\u001b[0m labels \u001b[38;5;241m=\u001b[39mtest_data\u001b[38;5;241m.\u001b[39miloc[:,\u001b[38;5;241m0\u001b[39m]\n",
      "\u001b[0;31mNameError\u001b[0m: name 'test_data' is not defined"
     ]
    }
   ],
   "source": [
    "predictions = predict(test_data.iloc[:, 1:])\n",
    "labels =test_data.iloc[:,0]"
   ]
  },
  {
   "cell_type": "code",
   "execution_count": 6,
   "id": "4854655a",
   "metadata": {},
   "outputs": [
    {
     "ename": "NameError",
     "evalue": "name 'np' is not defined",
     "output_type": "error",
     "traceback": [
      "\u001b[0;31m---------------------------------------------------------------------------\u001b[0m",
      "\u001b[0;31mNameError\u001b[0m                                 Traceback (most recent call last)",
      "Cell \u001b[0;32mIn[6], line 4\u001b[0m\n\u001b[1;32m      1\u001b[0m \u001b[38;5;28;01mfrom\u001b[39;00m \u001b[38;5;21;01msklearn\u001b[39;00m\u001b[38;5;21;01m.\u001b[39;00m\u001b[38;5;21;01mmetrics\u001b[39;00m \u001b[38;5;28;01mimport\u001b[39;00m confusion_matrix, accuracy_score, f1_score\n\u001b[1;32m      2\u001b[0m \u001b[38;5;28;01mfrom\u001b[39;00m \u001b[38;5;21;01msklearn\u001b[39;00m\u001b[38;5;21;01m.\u001b[39;00m\u001b[38;5;21;01mmetrics\u001b[39;00m \u001b[38;5;28;01mimport\u001b[39;00m precision_recall_fscore_support\n\u001b[0;32m----> 4\u001b[0m rounded_predictions \u001b[38;5;241m=\u001b[39m \u001b[43mnp\u001b[49m\u001b[38;5;241m.\u001b[39mround(predictions)\n\u001b[1;32m      6\u001b[0m \u001b[38;5;66;03m# Calculate Confusion Matrix\u001b[39;00m\n\u001b[1;32m      7\u001b[0m conf_matrix \u001b[38;5;241m=\u001b[39m confusion_matrix(labels, rounded_predictions)\n",
      "\u001b[0;31mNameError\u001b[0m: name 'np' is not defined"
     ]
    }
   ],
   "source": [
    "from sklearn.metrics import confusion_matrix, accuracy_score, f1_score\n",
    "from sklearn.metrics import precision_recall_fscore_support\n",
    "\n",
    "rounded_predictions = np.round(predictions)\n",
    "\n",
    "# Calculate Confusion Matrix\n",
    "conf_matrix = confusion_matrix(labels, rounded_predictions)\n",
    "\n",
    "# Calculate F1 Score\n",
    "f1score = f1_score(labels, rounded_predictions)\n",
    "\n",
    "# Precision Recall\n",
    "f_Suport = precision_recall_fscore_support(labels,rounded_predictions)\n",
    "\n",
    "print('precision: ', round(f_Suport [0][1], 2))\n",
    "print('recall: ', round(f_Suport [1][1], 2))\n",
    "print('F1 Score: ', round(f1score, 2))"
   ]
  },
  {
   "cell_type": "code",
   "execution_count": null,
   "id": "f1b962e0",
   "metadata": {},
   "outputs": [],
   "source": []
  }
 ],
 "metadata": {
  "kernelspec": {
   "display_name": "conda_python3",
   "language": "python",
   "name": "conda_python3"
  },
  "language_info": {
   "codemirror_mode": {
    "name": "ipython",
    "version": 3
   },
   "file_extension": ".py",
   "mimetype": "text/x-python",
   "name": "python",
   "nbconvert_exporter": "python",
   "pygments_lexer": "ipython3",
   "version": "3.10.13"
  }
 },
 "nbformat": 4,
 "nbformat_minor": 5
}
