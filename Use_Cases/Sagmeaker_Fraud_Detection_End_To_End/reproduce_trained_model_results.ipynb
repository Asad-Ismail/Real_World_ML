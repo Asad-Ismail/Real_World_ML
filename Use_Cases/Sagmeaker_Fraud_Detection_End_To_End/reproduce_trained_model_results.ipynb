{
 "cells": [
  {
   "cell_type": "code",
   "execution_count": 14,
   "id": "a9945a29",
   "metadata": {},
   "outputs": [
    {
     "name": "stdout",
     "output_type": "stream",
     "text": [
      "Trial Components:\n",
      "sagemaker-xgboost-2024-01-08-22-21-12-629-aws-training-job\n",
      "sagemaker-xgboost-2024-01-08-20-27-21-957-aws-training-job\n",
      "sagemaker-xgboost-2024-01-08-20-20-24-130-aws-training-job\n",
      "test-processing-job-2023-05-09-13-41-50-aws-processing-job\n",
      "test-processing-job-2023-05-09-12-38-51-aws-processing-job\n",
      "test-processing-job1-aws-processing-job\n",
      "test-processing-job-aws-processing-job\n",
      "pepp-detectron2-test-2022--profilerreport-1668068752-5febdeb9-aws-processing-job\n",
      "pepp-detectron2-test-2022-11-10-08-25-52-345-aws-training-job\n",
      "pepp-detectron2-test-2022--profilerreport-1668038719-aae6c7a7-aws-processing-job\n",
      "pepp-detectron2-test-2022-11-10-00-05-19-631-aws-training-job\n",
      "dyco3d-2022-01-09-09-50-25-profilerreport-1641721825-576ac66c-aws-processing-job\n",
      "dyco3d-2022-01-09-09-50-25-407-aws-training-job\n",
      "pointgroup-2022-01-09-09-3-profilerreport-1641720840-dedeefff-aws-processing-job\n",
      "pointgroup-2022-01-09-09-34-00-911-aws-training-job\n",
      "dyco3d-220102-0826-050-9420d20f-aws-training-job\n",
      "dyco3d-220102-0826-049-b1449eb1-aws-training-job\n",
      "dyco3d-220102-0826-048-ed76ed85-aws-training-job\n",
      "dyco3d-220102-0826-047-c84fd08b-aws-training-job\n",
      "dyco3d-220102-0826-046-2ff81143-aws-training-job\n",
      "dyco3d-220102-0826-045-55a29583-aws-training-job\n",
      "pointgroup-2022-01-07-10-4-profilerreport-1641552111-84863dda-aws-processing-job\n",
      "pointgroup-2022-01-07-10-41-51-676-aws-training-job\n",
      "pointgroup-2022-01-07-10-3-profilerreport-1641551801-710f6267-aws-processing-job\n",
      "pointgroup-2022-01-07-10-36-41-667-aws-training-job\n",
      "pointgroup-2022-01-07-10-1-profilerreport-1641550658-6fbc05fd-aws-processing-job\n",
      "pointgroup-2022-01-07-10-17-38-115-aws-training-job\n",
      "pointgroup-2022-01-07-09-5-profilerreport-1641549461-60a8fa25-aws-processing-job\n",
      "pointgroup-2022-01-07-09-57-41-228-aws-training-job\n",
      "pointgroup-2022-01-07-09-4-profilerreport-1641548938-4ce3abd0-aws-processing-job\n",
      "pointgroup-2022-01-07-09-48-58-388-aws-training-job\n",
      "pointgroup-2022-01-07-09-3-profilerreport-1641548389-6a17b7b0-aws-processing-job\n",
      "pointgroup-2022-01-07-09-39-49-392-aws-training-job\n",
      "dyco3d-220102-0826-044-a1962925-aws-training-job\n",
      "pointgroup-2022-01-07-09-2-profilerreport-1641547490-76502ea8-aws-processing-job\n",
      "pointgroup-2022-01-07-09-24-50-613-aws-training-job\n",
      "dyco3d-220102-0826-043-e310cd6c-aws-training-job\n",
      "dyco3d-220102-0826-042-c7be50c9-aws-training-job\n",
      "pointgroup-2022-01-07-01-0-profilerreport-1641517322-d5782452-aws-processing-job\n",
      "pointgroup-2022-01-07-01-02-02-734-aws-training-job\n",
      "pointgroup-2022-01-07-00-5-profilerreport-1641516650-553347de-aws-processing-job\n",
      "pointgroup-2022-01-07-00-50-50-593-aws-training-job\n",
      "pointgroup-2022-01-07-00-3-profilerreport-1641515439-b167c41d-aws-processing-job\n",
      "pointgroup-2022-01-07-00-30-39-176-aws-training-job\n",
      "pointgroup-2022-01-06-23-4-profilerreport-1641512821-57b8d9d2-aws-processing-job\n",
      "pointgroup-2022-01-06-23-47-01-172-aws-training-job\n",
      "pointgroup-2022-01-06-22-2-profilerreport-1641507928-b2299c00-aws-processing-job\n",
      "pointgroup-2022-01-06-22-25-28-203-aws-training-job\n",
      "dyco3d-220102-0826-041-f2de69c1-aws-training-job\n",
      "pointgroup-2022-01-06-21-4-profilerreport-1641505486-d13cb077-aws-processing-job\n"
     ]
    }
   ],
   "source": [
    "import boto3\n",
    "\n",
    "# Initialize the SageMaker client\n",
    "sagemaker_client = boto3.client('sagemaker')\n",
    "\n",
    "# List trial components\n",
    "try:\n",
    "    # Request to list trial components\n",
    "    response = sagemaker_client.list_trial_components()\n",
    "\n",
    "    # Extract trial component summaries\n",
    "    trial_component_summaries = response['TrialComponentSummaries']\n",
    "    trial_component_names = [tc['TrialComponentName'] for tc in trial_component_summaries]\n",
    "\n",
    "    # Print trial component names\n",
    "    print(\"Trial Components:\")\n",
    "    for name in trial_component_names:\n",
    "        print(name)\n",
    "except Exception as e:\n",
    "    print(f\"An error occurred: {e}\")\n",
    "\n"
   ]
  },
  {
   "cell_type": "code",
   "execution_count": 15,
   "id": "f850848c",
   "metadata": {},
   "outputs": [],
   "source": [
    "import boto3\n",
    "import sagemaker\n",
    "\n",
    "# Initialize SageMaker session and client\n",
    "sess = sagemaker.Session()\n",
    "sagemaker_client = boto3.client('sagemaker')\n",
    "\n",
    "trial_component_name=\"sagemaker-xgboost-2024-01-08-22-21-12-629-aws-training-job\"\n",
    "\n",
    "# Retrieve trial component information\n",
    "trial_component = sagemaker_client.describe_trial_component(TrialComponentName=trial_component_name)\n"
   ]
  },
  {
   "cell_type": "code",
   "execution_count": 21,
   "id": "30a31ae7",
   "metadata": {},
   "outputs": [],
   "source": [
    "trial_component_arn=trial_component[\"TrialComponentArn\"]\n",
    "hp_artifact = sagemaker_client.list_associations(DestinationArn=trial_component_arn, SourceType='HyperParameters')"
   ]
  },
  {
   "cell_type": "code",
   "execution_count": 23,
   "id": "404d089b",
   "metadata": {},
   "outputs": [
    {
     "data": {
      "text/plain": [
       "dict_keys(['AssociationSummaries', 'ResponseMetadata'])"
      ]
     },
     "execution_count": 23,
     "metadata": {},
     "output_type": "execute_result"
    }
   ],
   "source": [
    "hp_artifact.keys()"
   ]
  },
  {
   "cell_type": "code",
   "execution_count": 26,
   "id": "6a605fde",
   "metadata": {},
   "outputs": [],
   "source": [
    "hp_artifact_arn=hp_artifact['AssociationSummaries'][1]['SourceArn']"
   ]
  },
  {
   "cell_type": "code",
   "execution_count": 28,
   "id": "969dd5a4",
   "metadata": {},
   "outputs": [
    {
     "name": "stdout",
     "output_type": "stream",
     "text": [
      "{'ArtifactName': 'HP', 'ArtifactArn': 'arn:aws:sagemaker:us-east-1:470086202700:artifact/b10cebaaca6e9b305d367ac5af3774cc', 'Source': {'SourceUri': '{\"eta\": \"0.2\", \"gamma\": \"4\", \"max_depth\": \"5\", \"min_child_weight\": \"6\", \"num_round\": \"100\", \"objective\": \"binary:logistic\", \"subsample\": \"0.8\", \"verbosity\": \"0\"}', 'SourceTypes': []}, 'ArtifactType': 'HyperParameters', 'Properties': {}, 'CreationTime': datetime.datetime(2024, 1, 9, 10, 1, 23, 786000, tzinfo=tzlocal()), 'CreatedBy': {}, 'LastModifiedTime': datetime.datetime(2024, 1, 9, 10, 1, 23, 786000, tzinfo=tzlocal()), 'LastModifiedBy': {}, 'LineageGroupArn': 'arn:aws:sagemaker:us-east-1:470086202700:lineage-group/sagemaker-default-lineage-group', 'ResponseMetadata': {'RequestId': '9975a509-8e57-4853-b842-6423abf0ee50', 'HTTPStatusCode': 200, 'HTTPHeaders': {'x-amzn-requestid': '9975a509-8e57-4853-b842-6423abf0ee50', 'content-type': 'application/x-amz-json-1.1', 'content-length': '615', 'date': 'Tue, 09 Jan 2024 11:24:48 GMT'}, 'RetryAttempts': 0}}\n"
     ]
    }
   ],
   "source": [
    "# Retrieve the artifact's information\n",
    "try:\n",
    "    artifact_info = sagemaker_client.describe_artifact(ArtifactArn=hp_artifact_arn)\n",
    "    print(artifact_info)\n",
    "except Exception as e:\n",
    "    print(f\"An error occurred: {e}\")"
   ]
  },
  {
   "cell_type": "code",
   "execution_count": 32,
   "id": "607c7ed6",
   "metadata": {},
   "outputs": [
    {
     "name": "stdout",
     "output_type": "stream",
     "text": [
      "{'eta': '0.2', 'gamma': '4', 'max_depth': '5', 'min_child_weight': '6', 'num_round': '100', 'objective': 'binary:logistic', 'subsample': '0.8', 'verbosity': '0'}\n"
     ]
    }
   ],
   "source": [
    "# Extract parameters\n",
    "import json\n",
    "if 'Source' in artifact_info:\n",
    "    hp = artifact_info['Source']['SourceUri']\n",
    "    print(json.loads(hp))\n",
    "else:\n",
    "    print(\"S3 URI not found in the artifact information.\")"
   ]
  },
  {
   "cell_type": "code",
   "execution_count": null,
   "id": "b189a671",
   "metadata": {},
   "outputs": [],
   "source": [
    "# Extracting S3 URIs for input data and script (modify as per your trial component's structure)\n",
    "train_data_uri = trial_component['InputArtifacts']['train']['Value']\n",
    "val_data_uri= trial_component['InputArtifacts']['validation']['Value']\n",
    "training_script_uri = trial_component['Parameters']['SageMaker.ImageUri']['StringValue']"
   ]
  },
  {
   "cell_type": "code",
   "execution_count": null,
   "id": "51b1ca7e",
   "metadata": {},
   "outputs": [],
   "source": [
    "# Extracting hyperparameters (modify keys according to your trial component's structure)\n",
    "parameters = trial_component['Parameters']"
   ]
  },
  {
   "cell_type": "code",
   "execution_count": null,
   "id": "4c40c579",
   "metadata": {},
   "outputs": [],
   "source": [
    "parameters"
   ]
  },
  {
   "cell_type": "code",
   "execution_count": null,
   "id": "4d47409e",
   "metadata": {},
   "outputs": [],
   "source": [
    "hyperparameters = {k: float(v['NumberValue']) if 'NumberValue' in v else v['StringValue']\n",
    "                   for k, v in parameters.items() if \"SageMaker\" not in k}\n"
   ]
  },
  {
   "cell_type": "code",
   "execution_count": null,
   "id": "ebed8187",
   "metadata": {},
   "outputs": [],
   "source": [
    "hyperparameters"
   ]
  },
  {
   "cell_type": "code",
   "execution_count": null,
   "id": "87158834",
   "metadata": {},
   "outputs": [],
   "source": [
    "sagemaker_iam_role = sagemaker.get_execution_role()"
   ]
  },
  {
   "cell_type": "code",
   "execution_count": null,
   "id": "ecd5f962",
   "metadata": {},
   "outputs": [],
   "source": [
    "output_location=\"s3://sagemaker-us-east-1-470086202700/xgboost-fraud-repr/output\""
   ]
  },
  {
   "cell_type": "code",
   "execution_count": null,
   "id": "a834f086",
   "metadata": {},
   "outputs": [],
   "source": [
    "xgb = sagemaker.estimator.Estimator(training_script_uri,\n",
    "                                    role=sagemaker_iam_role, \n",
    "                                    instance_count=1, \n",
    "                                    instance_type='ml.m4.xlarge',\n",
    "                                    output_path=output_location,\n",
    "                                    sagemaker_session=sess)"
   ]
  },
  {
   "cell_type": "code",
   "execution_count": null,
   "id": "76727786",
   "metadata": {},
   "outputs": [],
   "source": []
  }
 ],
 "metadata": {
  "kernelspec": {
   "display_name": "conda_python3",
   "language": "python",
   "name": "conda_python3"
  },
  "language_info": {
   "codemirror_mode": {
    "name": "ipython",
    "version": 3
   },
   "file_extension": ".py",
   "mimetype": "text/x-python",
   "name": "python",
   "nbconvert_exporter": "python",
   "pygments_lexer": "ipython3",
   "version": "3.10.13"
  }
 },
 "nbformat": 4,
 "nbformat_minor": 5
}
