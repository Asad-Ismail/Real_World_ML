{
 "cells": [
  {
   "cell_type": "code",
   "execution_count": 1,
   "id": "1cb2e50d",
   "metadata": {},
   "outputs": [],
   "source": [
    "import boto3\n",
    "import time\n",
    "from botocore.exceptions import ClientError"
   ]
  },
  {
   "cell_type": "code",
   "execution_count": 4,
   "id": "ba46284a",
   "metadata": {},
   "outputs": [
    {
     "name": "stdout",
     "output_type": "stream",
     "text": [
      "Ingestion Status: Created\n"
     ]
    }
   ],
   "source": [
    "# Initialize the SageMaker client\n",
    "sagemaker_client = boto3.client('sagemaker')\n",
    "\n",
    "def check_ingestion_status(feature_group_name):\n",
    "    try:\n",
    "        # Get the details of the feature group\n",
    "        response = sagemaker_client.describe_feature_group(FeatureGroupName=feature_group_name)\n",
    "        ingestion_status = response['FeatureGroupStatus']\n",
    "        \n",
    "        while ingestion_status == 'Creating':\n",
    "            # Wait for a short period before checking again\n",
    "            time.sleep(30)  # Adjust the sleep time as needed\n",
    "            response = sagemaker_client.describe_feature_group(FeatureGroupName=feature_group_name)\n",
    "            ingestion_status = response['FeatureGroupStatus']\n",
    "            \n",
    "        print(f\"Ingestion Status: {ingestion_status}\")\n",
    "        if ingestion_status == 'CreateFailed':\n",
    "            print(f\"Failure Reason: {response.get('FailureReason', 'Unknown')}\")\n",
    "    except ClientError as e:\n",
    "        print(f\"An error occurred: {e}\")\n",
    "\n",
    "# Call the function to check the status\n",
    "check_ingestion_status(feature_group_name=\"fraud-feature-group\")\n"
   ]
  },
  {
   "cell_type": "code",
   "execution_count": 32,
   "id": "fc3fe27d",
   "metadata": {},
   "outputs": [],
   "source": [
    "import boto3\n",
    "\n",
    "athena_client = boto3.client('athena')\n",
    "\n",
    "# Define your query\n",
    "query_string = f\"\"\"\n",
    "SELECT * FROM fraud_feature_group_1704739102\n",
    "\"\"\"\n",
    "\n",
    "# Define the S3 bucket for query results\n",
    "output_location = 's3://sagemaker-us-east-1-470086202700/fraud_train'\n",
    "\n",
    "# Execute the query\n",
    "response = athena_client.start_query_execution(\n",
    "    QueryString=query_string,\n",
    "    QueryExecutionContext={\n",
    "        'Database': 'sagemaker_featurestore'  # The default database name\n",
    "    },\n",
    "    ResultConfiguration={\n",
    "        'OutputLocation': output_location,\n",
    "    }\n",
    ")\n",
    "\n",
    "# Get the query execution ID\n",
    "query_execution_id = response['QueryExecutionId']"
   ]
  },
  {
   "cell_type": "code",
   "execution_count": 34,
   "id": "b23a8304",
   "metadata": {},
   "outputs": [
    {
     "name": "stdout",
     "output_type": "stream",
     "text": [
      "Query succeeded, results are in: s3://sagemaker-us-east-1-470086202700/fraud_train\n"
     ]
    }
   ],
   "source": [
    "def get_query_results(query_execution_id):\n",
    "    # Check if the query has finished\n",
    "    query_status = athena_client.get_query_execution(QueryExecutionId=query_execution_id)\n",
    "    query_execution_status = query_status['QueryExecution']['Status']['State']\n",
    "    #print(query_status['QueryExecution']['Status'])\n",
    "\n",
    "    if query_execution_status == 'SUCCEEDED':\n",
    "        print(\"Query succeeded, results are in:\", output_location)\n",
    "        retun 200\n",
    "    elif query_execution_status in ['FAILED', 'CANCELLED']:\n",
    "        print(f\"Query {query_execution_status.lower()}.\")\n",
    "        return 201\n",
    "    else:\n",
    "        print(\"Query in progress...\")\n",
    "        return -1\n",
    "\n",
    "get_query_results(query_execution_id)"
   ]
  },
  {
   "cell_type": "code",
   "execution_count": 35,
   "id": "9063f895",
   "metadata": {},
   "outputs": [],
   "source": [
    "import boto3\n",
    "s3 = boto3.client('s3')\n",
    "\n",
    "bucket_name = \"sagemaker-us-east-1-470086202700\"\n",
    "prefix=\"fraud_train\"\n",
    "csv_key = f'{prefix}/{query_execution_id}.csv'  \n",
    "metadata_key = f'{prefix}/{query_execution_id}.csv.metadata'  \n",
    "\n",
    "# Specify the local file paths where you want to download the files\n",
    "local_csv_path = 'query_results.csv'\n",
    "local_metadata_path = 'query_metadata.txt'\n",
    "\n",
    "# Download the files\n",
    "s3.download_file(bucket_name, csv_key, local_csv_path)\n",
    "s3.download_file(bucket_name, metadata_key, local_metadata_path)\n"
   ]
  },
  {
   "cell_type": "code",
   "execution_count": 36,
   "id": "10b6db25",
   "metadata": {},
   "outputs": [
    {
     "data": {
      "text/plain": [
       "284807"
      ]
     },
     "execution_count": 36,
     "metadata": {},
     "output_type": "execute_result"
    }
   ],
   "source": [
    "import pandas as pd\n",
    "df = pd.read_csv(local_csv_path)\n",
    "# Display the first few rows of the DataFrame\n",
    "len(df)"
   ]
  },
  {
   "cell_type": "code",
   "execution_count": 37,
   "id": "563ed90f",
   "metadata": {},
   "outputs": [
    {
     "data": {
      "text/plain": [
       "Index(['index', 'time', 'v1', 'v2', 'v3', 'v4', 'v5', 'v6', 'v7', 'v8', 'v9',\n",
       "       'v10', 'v11', 'v12', 'v13', 'v14', 'v15', 'v16', 'v17', 'v18', 'v19',\n",
       "       'v20', 'v21', 'v22', 'v23', 'v24', 'v25', 'v26', 'v27', 'v28', 'amount',\n",
       "       'class', 'event_time', 'write_time', 'api_invocation_time',\n",
       "       'is_deleted'],\n",
       "      dtype='object')"
      ]
     },
     "execution_count": 37,
     "metadata": {},
     "output_type": "execute_result"
    }
   ],
   "source": [
    "df.columns"
   ]
  },
  {
   "cell_type": "code",
   "execution_count": null,
   "id": "05f7d2e4",
   "metadata": {},
   "outputs": [],
   "source": []
  }
 ],
 "metadata": {
  "kernelspec": {
   "display_name": "conda_python3",
   "language": "python",
   "name": "conda_python3"
  },
  "language_info": {
   "codemirror_mode": {
    "name": "ipython",
    "version": 3
   },
   "file_extension": ".py",
   "mimetype": "text/x-python",
   "name": "python",
   "nbconvert_exporter": "python",
   "pygments_lexer": "ipython3",
   "version": "3.10.13"
  }
 },
 "nbformat": 4,
 "nbformat_minor": 5
}
