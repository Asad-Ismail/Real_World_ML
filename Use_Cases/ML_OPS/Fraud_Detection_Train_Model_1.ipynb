{
 "cells": [
  {
   "cell_type": "code",
   "execution_count": 7,
   "id": "478da3ba",
   "metadata": {},
   "outputs": [],
   "source": [
    "import boto3\n",
    "import numpy as np\n",
    "import os\n",
    "import sagemaker\n",
    "from sagemaker.inputs import TrainingInput\n",
    "from sagemaker.serializers import CSVSerializer\n",
    "from tqdm import tqdm\n",
    "import awswrangler as wr"
   ]
  },
  {
   "cell_type": "code",
   "execution_count": 8,
   "id": "24d56724",
   "metadata": {},
   "outputs": [],
   "source": [
    "sess = sagemaker.Session()\n",
    "sagemaker_iam_role = sagemaker.get_execution_role()"
   ]
  },
  {
   "cell_type": "code",
   "execution_count": 9,
   "id": "56abf210",
   "metadata": {},
   "outputs": [],
   "source": [
    "region = sagemaker.Session().boto_region_name\n",
    "boto_session = boto3.Session(region_name=region)\n",
    "sagemaker_boto_client = boto_session.client(\"sagemaker\")"
   ]
  },
  {
   "cell_type": "markdown",
   "id": "f25bfd90",
   "metadata": {},
   "source": [
    "## Get Data from the feature store previously stored "
   ]
  },
  {
   "cell_type": "code",
   "execution_count": 10,
   "id": "7d0c53a4",
   "metadata": {},
   "outputs": [],
   "source": [
    "bucket_name=\"sagemaker-us-east-1-470086202700\"\n",
    "prefix='fraud_train'\n",
    "\n",
    "athena_client = boto3.client('athena')\n",
    "\n",
    "query_string = f\"\"\"\n",
    "SELECT * FROM fraud_feature_group_1704739102\n",
    "\"\"\"\n",
    "\n",
    "output_location = f's3://{bucket_name}/{prefix}'\n",
    "\n",
    "# Execute the query\n",
    "response = athena_client.start_query_execution(\n",
    "    QueryString=query_string,\n",
    "    QueryExecutionContext={\n",
    "        'Database': 'sagemaker_featurestore' \n",
    "    },\n",
    "    ResultConfiguration={\n",
    "        'OutputLocation': output_location,\n",
    "    }\n",
    ")\n",
    "\n",
    "query_execution_id = response['QueryExecutionId']"
   ]
  },
  {
   "cell_type": "code",
   "execution_count": 11,
   "id": "90a1b319",
   "metadata": {},
   "outputs": [],
   "source": [
    "def get_query_results(query_execution_id):\n",
    "    # Check if the query has finished\n",
    "    query_status = athena_client.get_query_execution(QueryExecutionId=query_execution_id)\n",
    "    query_execution_status = query_status['QueryExecution']['Status']['State']\n",
    "    #print(query_status['QueryExecution']['Status'])\n",
    "\n",
    "    if query_execution_status == 'SUCCEEDED':\n",
    "        print(\"Query succeeded, results are in:\", output_location)\n",
    "        return 200\n",
    "    elif query_execution_status in ['FAILED', 'CANCELLED']:\n",
    "        print(f\"Query {query_execution_status.lower()}.\")\n",
    "        return 201\n",
    "    else:\n",
    "        print(\"Query in progress...\")\n",
    "        return -1"
   ]
  },
  {
   "cell_type": "code",
   "execution_count": 12,
   "id": "cb06ff16",
   "metadata": {},
   "outputs": [
    {
     "name": "stdout",
     "output_type": "stream",
     "text": [
      "Query in progress...\n",
      "Query in progress...\n",
      "Query succeeded, results are in: s3://sagemaker-us-east-1-470086202700/fraud_train\n"
     ]
    }
   ],
   "source": [
    "from time import sleep\n",
    "while get_query_results(query_execution_id)<0:\n",
    "    sleep(5)\n",
    "    continue"
   ]
  },
  {
   "cell_type": "code",
   "execution_count": 13,
   "id": "137ed2c6",
   "metadata": {},
   "outputs": [],
   "source": [
    "s3 = boto3.client('s3')\n",
    "\n",
    "bucket_name = \"sagemaker-us-east-1-470086202700\"\n",
    "prefix=\"fraud_train\"\n",
    "csv_key = f'{prefix}/{query_execution_id}.csv'  \n",
    "metadata_key = f'{prefix}/{query_execution_id}.csv.metadata'  \n",
    "\n",
    "\n",
    "local_csv_path = 'query_results.csv'\n",
    "local_metadata_path = 'query_metadata.txt'\n",
    "\n",
    "# Download the files\n",
    "s3.download_file(bucket_name, csv_key, local_csv_path)\n",
    "s3.download_file(bucket_name, metadata_key, local_metadata_path)"
   ]
  },
  {
   "cell_type": "code",
   "execution_count": 14,
   "id": "cd09c341",
   "metadata": {},
   "outputs": [
    {
     "data": {
      "text/plain": [
       "284807"
      ]
     },
     "execution_count": 14,
     "metadata": {},
     "output_type": "execute_result"
    }
   ],
   "source": [
    "import pandas as pd\n",
    "data = pd.read_csv(local_csv_path)\n",
    "len(data)"
   ]
  },
  {
   "cell_type": "code",
   "execution_count": 15,
   "id": "44f0165d",
   "metadata": {},
   "outputs": [
    {
     "data": {
      "text/html": [
       "<div>\n",
       "<style scoped>\n",
       "    .dataframe tbody tr th:only-of-type {\n",
       "        vertical-align: middle;\n",
       "    }\n",
       "\n",
       "    .dataframe tbody tr th {\n",
       "        vertical-align: top;\n",
       "    }\n",
       "\n",
       "    .dataframe thead th {\n",
       "        text-align: right;\n",
       "    }\n",
       "</style>\n",
       "<table border=\"1\" class=\"dataframe\">\n",
       "  <thead>\n",
       "    <tr style=\"text-align: right;\">\n",
       "      <th></th>\n",
       "      <th>index</th>\n",
       "      <th>time</th>\n",
       "      <th>v1</th>\n",
       "      <th>v2</th>\n",
       "      <th>v3</th>\n",
       "      <th>v4</th>\n",
       "      <th>v5</th>\n",
       "      <th>v6</th>\n",
       "      <th>v7</th>\n",
       "      <th>v8</th>\n",
       "      <th>...</th>\n",
       "      <th>v25</th>\n",
       "      <th>v26</th>\n",
       "      <th>v27</th>\n",
       "      <th>v28</th>\n",
       "      <th>amount</th>\n",
       "      <th>class</th>\n",
       "      <th>event_time</th>\n",
       "      <th>write_time</th>\n",
       "      <th>api_invocation_time</th>\n",
       "      <th>is_deleted</th>\n",
       "    </tr>\n",
       "  </thead>\n",
       "  <tbody>\n",
       "    <tr>\n",
       "      <th>0</th>\n",
       "      <td>231919</td>\n",
       "      <td>146980.0</td>\n",
       "      <td>1.578554</td>\n",
       "      <td>-0.873194</td>\n",
       "      <td>-0.448268</td>\n",
       "      <td>1.502326</td>\n",
       "      <td>-0.922585</td>\n",
       "      <td>-0.454326</td>\n",
       "      <td>-0.352790</td>\n",
       "      <td>0.010807</td>\n",
       "      <td>...</td>\n",
       "      <td>-0.234998</td>\n",
       "      <td>-0.572974</td>\n",
       "      <td>0.012331</td>\n",
       "      <td>-0.000839</td>\n",
       "      <td>197.50</td>\n",
       "      <td>0</td>\n",
       "      <td>2024-01-08T18:14:05Z</td>\n",
       "      <td>2024-01-08 19:24:27.248</td>\n",
       "      <td>2024-01-08 19:19:26.000</td>\n",
       "      <td>False</td>\n",
       "    </tr>\n",
       "    <tr>\n",
       "      <th>1</th>\n",
       "      <td>232017</td>\n",
       "      <td>147013.0</td>\n",
       "      <td>1.716147</td>\n",
       "      <td>-0.915384</td>\n",
       "      <td>-0.759103</td>\n",
       "      <td>0.314505</td>\n",
       "      <td>-0.602889</td>\n",
       "      <td>-0.243612</td>\n",
       "      <td>-0.342000</td>\n",
       "      <td>0.000520</td>\n",
       "      <td>...</td>\n",
       "      <td>-0.689479</td>\n",
       "      <td>0.194634</td>\n",
       "      <td>-0.080684</td>\n",
       "      <td>-0.012176</td>\n",
       "      <td>169.98</td>\n",
       "      <td>0</td>\n",
       "      <td>2024-01-08T18:14:05Z</td>\n",
       "      <td>2024-01-08 19:24:27.248</td>\n",
       "      <td>2024-01-08 19:19:27.000</td>\n",
       "      <td>False</td>\n",
       "    </tr>\n",
       "    <tr>\n",
       "      <th>2</th>\n",
       "      <td>232032</td>\n",
       "      <td>147017.0</td>\n",
       "      <td>1.876955</td>\n",
       "      <td>-0.542904</td>\n",
       "      <td>-0.788443</td>\n",
       "      <td>0.935131</td>\n",
       "      <td>-0.484605</td>\n",
       "      <td>-0.548919</td>\n",
       "      <td>-0.091843</td>\n",
       "      <td>-0.102952</td>\n",
       "      <td>...</td>\n",
       "      <td>-0.200279</td>\n",
       "      <td>0.098391</td>\n",
       "      <td>-0.043068</td>\n",
       "      <td>-0.049741</td>\n",
       "      <td>64.07</td>\n",
       "      <td>0</td>\n",
       "      <td>2024-01-08T18:14:05Z</td>\n",
       "      <td>2024-01-08 19:24:27.248</td>\n",
       "      <td>2024-01-08 19:19:27.000</td>\n",
       "      <td>False</td>\n",
       "    </tr>\n",
       "    <tr>\n",
       "      <th>3</th>\n",
       "      <td>232036</td>\n",
       "      <td>147018.0</td>\n",
       "      <td>2.052141</td>\n",
       "      <td>-0.152083</td>\n",
       "      <td>-1.093007</td>\n",
       "      <td>0.421538</td>\n",
       "      <td>-0.226477</td>\n",
       "      <td>-1.159381</td>\n",
       "      <td>0.083787</td>\n",
       "      <td>-0.236712</td>\n",
       "      <td>...</td>\n",
       "      <td>-0.356691</td>\n",
       "      <td>0.205318</td>\n",
       "      <td>-0.075936</td>\n",
       "      <td>-0.063205</td>\n",
       "      <td>1.98</td>\n",
       "      <td>0</td>\n",
       "      <td>2024-01-08T18:14:05Z</td>\n",
       "      <td>2024-01-08 19:24:27.248</td>\n",
       "      <td>2024-01-08 19:19:27.000</td>\n",
       "      <td>False</td>\n",
       "    </tr>\n",
       "    <tr>\n",
       "      <th>4</th>\n",
       "      <td>232341</td>\n",
       "      <td>147134.0</td>\n",
       "      <td>1.879608</td>\n",
       "      <td>-0.147519</td>\n",
       "      <td>-0.290181</td>\n",
       "      <td>1.566929</td>\n",
       "      <td>-0.287459</td>\n",
       "      <td>-0.052734</td>\n",
       "      <td>-0.232235</td>\n",
       "      <td>0.022360</td>\n",
       "      <td>...</td>\n",
       "      <td>-0.347230</td>\n",
       "      <td>-1.162158</td>\n",
       "      <td>0.054476</td>\n",
       "      <td>-0.015899</td>\n",
       "      <td>23.96</td>\n",
       "      <td>0</td>\n",
       "      <td>2024-01-08T18:14:05Z</td>\n",
       "      <td>2024-01-08 19:24:27.248</td>\n",
       "      <td>2024-01-08 19:19:30.000</td>\n",
       "      <td>False</td>\n",
       "    </tr>\n",
       "  </tbody>\n",
       "</table>\n",
       "<p>5 rows × 36 columns</p>\n",
       "</div>"
      ],
      "text/plain": [
       "    index      time        v1        v2        v3        v4        v5  \\\n",
       "0  231919  146980.0  1.578554 -0.873194 -0.448268  1.502326 -0.922585   \n",
       "1  232017  147013.0  1.716147 -0.915384 -0.759103  0.314505 -0.602889   \n",
       "2  232032  147017.0  1.876955 -0.542904 -0.788443  0.935131 -0.484605   \n",
       "3  232036  147018.0  2.052141 -0.152083 -1.093007  0.421538 -0.226477   \n",
       "4  232341  147134.0  1.879608 -0.147519 -0.290181  1.566929 -0.287459   \n",
       "\n",
       "         v6        v7        v8  ...       v25       v26       v27       v28  \\\n",
       "0 -0.454326 -0.352790  0.010807  ... -0.234998 -0.572974  0.012331 -0.000839   \n",
       "1 -0.243612 -0.342000  0.000520  ... -0.689479  0.194634 -0.080684 -0.012176   \n",
       "2 -0.548919 -0.091843 -0.102952  ... -0.200279  0.098391 -0.043068 -0.049741   \n",
       "3 -1.159381  0.083787 -0.236712  ... -0.356691  0.205318 -0.075936 -0.063205   \n",
       "4 -0.052734 -0.232235  0.022360  ... -0.347230 -1.162158  0.054476 -0.015899   \n",
       "\n",
       "   amount  class            event_time               write_time  \\\n",
       "0  197.50      0  2024-01-08T18:14:05Z  2024-01-08 19:24:27.248   \n",
       "1  169.98      0  2024-01-08T18:14:05Z  2024-01-08 19:24:27.248   \n",
       "2   64.07      0  2024-01-08T18:14:05Z  2024-01-08 19:24:27.248   \n",
       "3    1.98      0  2024-01-08T18:14:05Z  2024-01-08 19:24:27.248   \n",
       "4   23.96      0  2024-01-08T18:14:05Z  2024-01-08 19:24:27.248   \n",
       "\n",
       "       api_invocation_time  is_deleted  \n",
       "0  2024-01-08 19:19:26.000       False  \n",
       "1  2024-01-08 19:19:27.000       False  \n",
       "2  2024-01-08 19:19:27.000       False  \n",
       "3  2024-01-08 19:19:27.000       False  \n",
       "4  2024-01-08 19:19:30.000       False  \n",
       "\n",
       "[5 rows x 36 columns]"
      ]
     },
     "execution_count": 15,
     "metadata": {},
     "output_type": "execute_result"
    }
   ],
   "source": [
    "data.head()"
   ]
  },
  {
   "cell_type": "code",
   "execution_count": 16,
   "id": "7c87e125",
   "metadata": {},
   "outputs": [],
   "source": [
    "data = data.drop(['event_time', 'write_time', 'api_invocation_time', 'is_deleted','index'], axis=1)"
   ]
  },
  {
   "cell_type": "code",
   "execution_count": 17,
   "id": "fc326290",
   "metadata": {},
   "outputs": [
    {
     "data": {
      "text/html": [
       "<div>\n",
       "<style scoped>\n",
       "    .dataframe tbody tr th:only-of-type {\n",
       "        vertical-align: middle;\n",
       "    }\n",
       "\n",
       "    .dataframe tbody tr th {\n",
       "        vertical-align: top;\n",
       "    }\n",
       "\n",
       "    .dataframe thead th {\n",
       "        text-align: right;\n",
       "    }\n",
       "</style>\n",
       "<table border=\"1\" class=\"dataframe\">\n",
       "  <thead>\n",
       "    <tr style=\"text-align: right;\">\n",
       "      <th></th>\n",
       "      <th>time</th>\n",
       "      <th>v1</th>\n",
       "      <th>v2</th>\n",
       "      <th>v3</th>\n",
       "      <th>v4</th>\n",
       "      <th>v5</th>\n",
       "      <th>v6</th>\n",
       "      <th>v7</th>\n",
       "      <th>v8</th>\n",
       "      <th>v9</th>\n",
       "      <th>...</th>\n",
       "      <th>v21</th>\n",
       "      <th>v22</th>\n",
       "      <th>v23</th>\n",
       "      <th>v24</th>\n",
       "      <th>v25</th>\n",
       "      <th>v26</th>\n",
       "      <th>v27</th>\n",
       "      <th>v28</th>\n",
       "      <th>amount</th>\n",
       "      <th>class</th>\n",
       "    </tr>\n",
       "  </thead>\n",
       "  <tbody>\n",
       "    <tr>\n",
       "      <th>0</th>\n",
       "      <td>146980.0</td>\n",
       "      <td>1.578554</td>\n",
       "      <td>-0.873194</td>\n",
       "      <td>-0.448268</td>\n",
       "      <td>1.502326</td>\n",
       "      <td>-0.922585</td>\n",
       "      <td>-0.454326</td>\n",
       "      <td>-0.352790</td>\n",
       "      <td>0.010807</td>\n",
       "      <td>1.153715</td>\n",
       "      <td>...</td>\n",
       "      <td>0.325830</td>\n",
       "      <td>0.582835</td>\n",
       "      <td>-0.002262</td>\n",
       "      <td>-0.068033</td>\n",
       "      <td>-0.234998</td>\n",
       "      <td>-0.572974</td>\n",
       "      <td>0.012331</td>\n",
       "      <td>-0.000839</td>\n",
       "      <td>197.50</td>\n",
       "      <td>0</td>\n",
       "    </tr>\n",
       "    <tr>\n",
       "      <th>1</th>\n",
       "      <td>147013.0</td>\n",
       "      <td>1.716147</td>\n",
       "      <td>-0.915384</td>\n",
       "      <td>-0.759103</td>\n",
       "      <td>0.314505</td>\n",
       "      <td>-0.602889</td>\n",
       "      <td>-0.243612</td>\n",
       "      <td>-0.342000</td>\n",
       "      <td>0.000520</td>\n",
       "      <td>1.136865</td>\n",
       "      <td>...</td>\n",
       "      <td>-0.193805</td>\n",
       "      <td>-0.901484</td>\n",
       "      <td>0.320566</td>\n",
       "      <td>0.548267</td>\n",
       "      <td>-0.689479</td>\n",
       "      <td>0.194634</td>\n",
       "      <td>-0.080684</td>\n",
       "      <td>-0.012176</td>\n",
       "      <td>169.98</td>\n",
       "      <td>0</td>\n",
       "    </tr>\n",
       "    <tr>\n",
       "      <th>2</th>\n",
       "      <td>147017.0</td>\n",
       "      <td>1.876955</td>\n",
       "      <td>-0.542904</td>\n",
       "      <td>-0.788443</td>\n",
       "      <td>0.935131</td>\n",
       "      <td>-0.484605</td>\n",
       "      <td>-0.548919</td>\n",
       "      <td>-0.091843</td>\n",
       "      <td>-0.102952</td>\n",
       "      <td>1.350457</td>\n",
       "      <td>...</td>\n",
       "      <td>-0.342282</td>\n",
       "      <td>-0.749943</td>\n",
       "      <td>0.241729</td>\n",
       "      <td>-0.011103</td>\n",
       "      <td>-0.200279</td>\n",
       "      <td>0.098391</td>\n",
       "      <td>-0.043068</td>\n",
       "      <td>-0.049741</td>\n",
       "      <td>64.07</td>\n",
       "      <td>0</td>\n",
       "    </tr>\n",
       "    <tr>\n",
       "      <th>3</th>\n",
       "      <td>147018.0</td>\n",
       "      <td>2.052141</td>\n",
       "      <td>-0.152083</td>\n",
       "      <td>-1.093007</td>\n",
       "      <td>0.421538</td>\n",
       "      <td>-0.226477</td>\n",
       "      <td>-1.159381</td>\n",
       "      <td>0.083787</td>\n",
       "      <td>-0.236712</td>\n",
       "      <td>0.733189</td>\n",
       "      <td>...</td>\n",
       "      <td>-0.297944</td>\n",
       "      <td>-0.780066</td>\n",
       "      <td>0.362093</td>\n",
       "      <td>-0.048148</td>\n",
       "      <td>-0.356691</td>\n",
       "      <td>0.205318</td>\n",
       "      <td>-0.075936</td>\n",
       "      <td>-0.063205</td>\n",
       "      <td>1.98</td>\n",
       "      <td>0</td>\n",
       "    </tr>\n",
       "    <tr>\n",
       "      <th>4</th>\n",
       "      <td>147134.0</td>\n",
       "      <td>1.879608</td>\n",
       "      <td>-0.147519</td>\n",
       "      <td>-0.290181</td>\n",
       "      <td>1.566929</td>\n",
       "      <td>-0.287459</td>\n",
       "      <td>-0.052734</td>\n",
       "      <td>-0.232235</td>\n",
       "      <td>0.022360</td>\n",
       "      <td>1.042977</td>\n",
       "      <td>...</td>\n",
       "      <td>-0.483962</td>\n",
       "      <td>-1.133391</td>\n",
       "      <td>0.502859</td>\n",
       "      <td>1.018852</td>\n",
       "      <td>-0.347230</td>\n",
       "      <td>-1.162158</td>\n",
       "      <td>0.054476</td>\n",
       "      <td>-0.015899</td>\n",
       "      <td>23.96</td>\n",
       "      <td>0</td>\n",
       "    </tr>\n",
       "  </tbody>\n",
       "</table>\n",
       "<p>5 rows × 31 columns</p>\n",
       "</div>"
      ],
      "text/plain": [
       "       time        v1        v2        v3        v4        v5        v6  \\\n",
       "0  146980.0  1.578554 -0.873194 -0.448268  1.502326 -0.922585 -0.454326   \n",
       "1  147013.0  1.716147 -0.915384 -0.759103  0.314505 -0.602889 -0.243612   \n",
       "2  147017.0  1.876955 -0.542904 -0.788443  0.935131 -0.484605 -0.548919   \n",
       "3  147018.0  2.052141 -0.152083 -1.093007  0.421538 -0.226477 -1.159381   \n",
       "4  147134.0  1.879608 -0.147519 -0.290181  1.566929 -0.287459 -0.052734   \n",
       "\n",
       "         v7        v8        v9  ...       v21       v22       v23       v24  \\\n",
       "0 -0.352790  0.010807  1.153715  ...  0.325830  0.582835 -0.002262 -0.068033   \n",
       "1 -0.342000  0.000520  1.136865  ... -0.193805 -0.901484  0.320566  0.548267   \n",
       "2 -0.091843 -0.102952  1.350457  ... -0.342282 -0.749943  0.241729 -0.011103   \n",
       "3  0.083787 -0.236712  0.733189  ... -0.297944 -0.780066  0.362093 -0.048148   \n",
       "4 -0.232235  0.022360  1.042977  ... -0.483962 -1.133391  0.502859  1.018852   \n",
       "\n",
       "        v25       v26       v27       v28  amount  class  \n",
       "0 -0.234998 -0.572974  0.012331 -0.000839  197.50      0  \n",
       "1 -0.689479  0.194634 -0.080684 -0.012176  169.98      0  \n",
       "2 -0.200279  0.098391 -0.043068 -0.049741   64.07      0  \n",
       "3 -0.356691  0.205318 -0.075936 -0.063205    1.98      0  \n",
       "4 -0.347230 -1.162158  0.054476 -0.015899   23.96      0  \n",
       "\n",
       "[5 rows x 31 columns]"
      ]
     },
     "execution_count": 17,
     "metadata": {},
     "output_type": "execute_result"
    }
   ],
   "source": [
    "data.head()"
   ]
  },
  {
   "cell_type": "code",
   "execution_count": 18,
   "id": "b58c8620",
   "metadata": {},
   "outputs": [
    {
     "data": {
      "text/html": [
       "<div>\n",
       "<style scoped>\n",
       "    .dataframe tbody tr th:only-of-type {\n",
       "        vertical-align: middle;\n",
       "    }\n",
       "\n",
       "    .dataframe tbody tr th {\n",
       "        vertical-align: top;\n",
       "    }\n",
       "\n",
       "    .dataframe thead th {\n",
       "        text-align: right;\n",
       "    }\n",
       "</style>\n",
       "<table border=\"1\" class=\"dataframe\">\n",
       "  <thead>\n",
       "    <tr style=\"text-align: right;\">\n",
       "      <th></th>\n",
       "      <th>class</th>\n",
       "      <th>time</th>\n",
       "      <th>v1</th>\n",
       "      <th>v2</th>\n",
       "      <th>v3</th>\n",
       "      <th>v4</th>\n",
       "      <th>v5</th>\n",
       "      <th>v6</th>\n",
       "      <th>v7</th>\n",
       "      <th>v8</th>\n",
       "      <th>...</th>\n",
       "      <th>v20</th>\n",
       "      <th>v21</th>\n",
       "      <th>v22</th>\n",
       "      <th>v23</th>\n",
       "      <th>v24</th>\n",
       "      <th>v25</th>\n",
       "      <th>v26</th>\n",
       "      <th>v27</th>\n",
       "      <th>v28</th>\n",
       "      <th>amount</th>\n",
       "    </tr>\n",
       "  </thead>\n",
       "  <tbody>\n",
       "    <tr>\n",
       "      <th>0</th>\n",
       "      <td>0</td>\n",
       "      <td>146980.0</td>\n",
       "      <td>1.578554</td>\n",
       "      <td>-0.873194</td>\n",
       "      <td>-0.448268</td>\n",
       "      <td>1.502326</td>\n",
       "      <td>-0.922585</td>\n",
       "      <td>-0.454326</td>\n",
       "      <td>-0.352790</td>\n",
       "      <td>0.010807</td>\n",
       "      <td>...</td>\n",
       "      <td>0.017903</td>\n",
       "      <td>0.325830</td>\n",
       "      <td>0.582835</td>\n",
       "      <td>-0.002262</td>\n",
       "      <td>-0.068033</td>\n",
       "      <td>-0.234998</td>\n",
       "      <td>-0.572974</td>\n",
       "      <td>0.012331</td>\n",
       "      <td>-0.000839</td>\n",
       "      <td>197.50</td>\n",
       "    </tr>\n",
       "    <tr>\n",
       "      <th>1</th>\n",
       "      <td>0</td>\n",
       "      <td>147013.0</td>\n",
       "      <td>1.716147</td>\n",
       "      <td>-0.915384</td>\n",
       "      <td>-0.759103</td>\n",
       "      <td>0.314505</td>\n",
       "      <td>-0.602889</td>\n",
       "      <td>-0.243612</td>\n",
       "      <td>-0.342000</td>\n",
       "      <td>0.000520</td>\n",
       "      <td>...</td>\n",
       "      <td>0.120598</td>\n",
       "      <td>-0.193805</td>\n",
       "      <td>-0.901484</td>\n",
       "      <td>0.320566</td>\n",
       "      <td>0.548267</td>\n",
       "      <td>-0.689479</td>\n",
       "      <td>0.194634</td>\n",
       "      <td>-0.080684</td>\n",
       "      <td>-0.012176</td>\n",
       "      <td>169.98</td>\n",
       "    </tr>\n",
       "    <tr>\n",
       "      <th>2</th>\n",
       "      <td>0</td>\n",
       "      <td>147017.0</td>\n",
       "      <td>1.876955</td>\n",
       "      <td>-0.542904</td>\n",
       "      <td>-0.788443</td>\n",
       "      <td>0.935131</td>\n",
       "      <td>-0.484605</td>\n",
       "      <td>-0.548919</td>\n",
       "      <td>-0.091843</td>\n",
       "      <td>-0.102952</td>\n",
       "      <td>...</td>\n",
       "      <td>-0.198758</td>\n",
       "      <td>-0.342282</td>\n",
       "      <td>-0.749943</td>\n",
       "      <td>0.241729</td>\n",
       "      <td>-0.011103</td>\n",
       "      <td>-0.200279</td>\n",
       "      <td>0.098391</td>\n",
       "      <td>-0.043068</td>\n",
       "      <td>-0.049741</td>\n",
       "      <td>64.07</td>\n",
       "    </tr>\n",
       "    <tr>\n",
       "      <th>3</th>\n",
       "      <td>0</td>\n",
       "      <td>147018.0</td>\n",
       "      <td>2.052141</td>\n",
       "      <td>-0.152083</td>\n",
       "      <td>-1.093007</td>\n",
       "      <td>0.421538</td>\n",
       "      <td>-0.226477</td>\n",
       "      <td>-1.159381</td>\n",
       "      <td>0.083787</td>\n",
       "      <td>-0.236712</td>\n",
       "      <td>...</td>\n",
       "      <td>-0.312060</td>\n",
       "      <td>-0.297944</td>\n",
       "      <td>-0.780066</td>\n",
       "      <td>0.362093</td>\n",
       "      <td>-0.048148</td>\n",
       "      <td>-0.356691</td>\n",
       "      <td>0.205318</td>\n",
       "      <td>-0.075936</td>\n",
       "      <td>-0.063205</td>\n",
       "      <td>1.98</td>\n",
       "    </tr>\n",
       "    <tr>\n",
       "      <th>4</th>\n",
       "      <td>0</td>\n",
       "      <td>147134.0</td>\n",
       "      <td>1.879608</td>\n",
       "      <td>-0.147519</td>\n",
       "      <td>-0.290181</td>\n",
       "      <td>1.566929</td>\n",
       "      <td>-0.287459</td>\n",
       "      <td>-0.052734</td>\n",
       "      <td>-0.232235</td>\n",
       "      <td>0.022360</td>\n",
       "      <td>...</td>\n",
       "      <td>-0.208440</td>\n",
       "      <td>-0.483962</td>\n",
       "      <td>-1.133391</td>\n",
       "      <td>0.502859</td>\n",
       "      <td>1.018852</td>\n",
       "      <td>-0.347230</td>\n",
       "      <td>-1.162158</td>\n",
       "      <td>0.054476</td>\n",
       "      <td>-0.015899</td>\n",
       "      <td>23.96</td>\n",
       "    </tr>\n",
       "  </tbody>\n",
       "</table>\n",
       "<p>5 rows × 31 columns</p>\n",
       "</div>"
      ],
      "text/plain": [
       "   class      time        v1        v2        v3        v4        v5  \\\n",
       "0      0  146980.0  1.578554 -0.873194 -0.448268  1.502326 -0.922585   \n",
       "1      0  147013.0  1.716147 -0.915384 -0.759103  0.314505 -0.602889   \n",
       "2      0  147017.0  1.876955 -0.542904 -0.788443  0.935131 -0.484605   \n",
       "3      0  147018.0  2.052141 -0.152083 -1.093007  0.421538 -0.226477   \n",
       "4      0  147134.0  1.879608 -0.147519 -0.290181  1.566929 -0.287459   \n",
       "\n",
       "         v6        v7        v8  ...       v20       v21       v22       v23  \\\n",
       "0 -0.454326 -0.352790  0.010807  ...  0.017903  0.325830  0.582835 -0.002262   \n",
       "1 -0.243612 -0.342000  0.000520  ...  0.120598 -0.193805 -0.901484  0.320566   \n",
       "2 -0.548919 -0.091843 -0.102952  ... -0.198758 -0.342282 -0.749943  0.241729   \n",
       "3 -1.159381  0.083787 -0.236712  ... -0.312060 -0.297944 -0.780066  0.362093   \n",
       "4 -0.052734 -0.232235  0.022360  ... -0.208440 -0.483962 -1.133391  0.502859   \n",
       "\n",
       "        v24       v25       v26       v27       v28  amount  \n",
       "0 -0.068033 -0.234998 -0.572974  0.012331 -0.000839  197.50  \n",
       "1  0.548267 -0.689479  0.194634 -0.080684 -0.012176  169.98  \n",
       "2 -0.011103 -0.200279  0.098391 -0.043068 -0.049741   64.07  \n",
       "3 -0.048148 -0.356691  0.205318 -0.075936 -0.063205    1.98  \n",
       "4  1.018852 -0.347230 -1.162158  0.054476 -0.015899   23.96  \n",
       "\n",
       "[5 rows x 31 columns]"
      ]
     },
     "execution_count": 18,
     "metadata": {},
     "output_type": "execute_result"
    }
   ],
   "source": [
    "## Moving class to first column\n",
    "model_data = data\n",
    "model_data.head()\n",
    "model_data = pd.concat([model_data['class'], model_data.drop(['class'], axis=1)], axis=1)\n",
    "model_data.head()"
   ]
  },
  {
   "cell_type": "code",
   "execution_count": 19,
   "id": "b36bd68e",
   "metadata": {},
   "outputs": [
    {
     "data": {
      "text/plain": [
       "94813.85957508067"
      ]
     },
     "execution_count": 19,
     "metadata": {},
     "output_type": "execute_result"
    }
   ],
   "source": [
    "#time=np.array(model_data['time']).mean()\n",
    "#time"
   ]
  },
  {
   "cell_type": "markdown",
   "id": "41547928",
   "metadata": {},
   "source": [
    "## Divide data into training, validation and test"
   ]
  },
  {
   "cell_type": "code",
   "execution_count": 20,
   "id": "3cc12726",
   "metadata": {},
   "outputs": [
    {
     "name": "stderr",
     "output_type": "stream",
     "text": [
      "/home/ec2-user/anaconda3/envs/python3/lib/python3.10/site-packages/numpy/core/fromnumeric.py:57: FutureWarning: 'DataFrame.swapaxes' is deprecated and will be removed in a future version. Please use 'DataFrame.transpose' instead.\n",
      "  return bound(*args, **kwds)\n"
     ]
    }
   ],
   "source": [
    "train_data, validation_data, test_data = np.split(model_data.sample(frac=1, random_state=1229), [int(0.7 * len(model_data)), int(0.9 * len(model_data))])"
   ]
  },
  {
   "cell_type": "code",
   "execution_count": 13,
   "id": "e2b740d2",
   "metadata": {},
   "outputs": [],
   "source": [
    "prefix = 'xgboost-fraud'\n",
    "\n",
    "train_data.to_csv('train.csv', header=False, index=False)\n",
    "validation_data.to_csv('validation.csv', header=False, index=False)\n",
    "\n",
    "\n",
    "boto3.Session().resource('s3').Bucket(bucket_name).Object(os.path.join(prefix, 'train/train.csv')) \\\n",
    "                                .upload_file('train.csv')\n",
    "boto3.Session().resource('s3').Bucket(bucket_name).Object(os.path.join(prefix, 'validation/validation.csv')) \\\n",
    "                                .upload_file('validation.csv')"
   ]
  },
  {
   "cell_type": "code",
   "execution_count": 14,
   "id": "16bd1402",
   "metadata": {},
   "outputs": [
    {
     "name": "stdout",
     "output_type": "stream",
     "text": [
      "Uploaded training data location: s3://sagemaker-us-east-1-470086202700/xgboost-fraud/train/train.csv\n",
      "Uploaded training data location: s3://sagemaker-us-east-1-470086202700/xgboost-fraud/validation/validation.csv\n",
      "Training artifacts will be uploaded to: s3://sagemaker-us-east-1-470086202700/xgboost-fraud/output\n"
     ]
    }
   ],
   "source": [
    "s3_train_data = 's3://{}/{}/train/train.csv'.format(bucket_name, prefix)\n",
    "s3_validation_data = 's3://{}/{}/validation/validation.csv'.format(bucket_name, prefix)\n",
    "\n",
    "print('Uploaded training data location: {}'.format(s3_train_data))\n",
    "print('Uploaded training data location: {}'.format(s3_validation_data))\n",
    "\n",
    "output_location = 's3://{}/{}/output'.format(bucket_name, prefix)\n",
    "print('Training artifacts will be uploaded to: {}'.format(output_location))"
   ]
  },
  {
   "cell_type": "markdown",
   "id": "be73b31d",
   "metadata": {},
   "source": [
    "## Train XGBOOST. Can also Used unsupervised learning algorithms like RANDOM CUT but will keep it simple here"
   ]
  },
  {
   "cell_type": "code",
   "execution_count": 15,
   "id": "b91022ea",
   "metadata": {},
   "outputs": [
    {
     "data": {
      "text/plain": [
       "'683313688378.dkr.ecr.us-east-1.amazonaws.com/sagemaker-xgboost:1.7-1'"
      ]
     },
     "execution_count": 15,
     "metadata": {},
     "output_type": "execute_result"
    }
   ],
   "source": [
    "container = sagemaker.image_uris.retrieve(\"xgboost\", sess.boto_region_name, \"1.7-1\")\n",
    "container"
   ]
  },
  {
   "cell_type": "code",
   "execution_count": 16,
   "id": "922e4a88",
   "metadata": {},
   "outputs": [],
   "source": [
    "s3_input_train = TrainingInput(s3_data=\"s3://{}/{}/train\".format(bucket_name, prefix), content_type=\"csv\")\n",
    "s3_input_validation = TrainingInput(s3_data=\"s3://{}/{}/validation/\".format(bucket_name, prefix), content_type=\"csv\")"
   ]
  },
  {
   "cell_type": "code",
   "execution_count": 17,
   "id": "c6351e81",
   "metadata": {},
   "outputs": [],
   "source": [
    "xgb = sagemaker.estimator.Estimator(container,\n",
    "                                    role=sagemaker_iam_role, \n",
    "                                    instance_count=1, \n",
    "                                    instance_type='ml.m4.xlarge',\n",
    "                                    output_path=output_location,\n",
    "                                    sagemaker_session=sess)"
   ]
  },
  {
   "cell_type": "code",
   "execution_count": 18,
   "id": "db45b9be",
   "metadata": {},
   "outputs": [],
   "source": [
    "xgb.set_hyperparameters(max_depth=5,\n",
    "                        eta=0.2,\n",
    "                        gamma=4,\n",
    "                        min_child_weight=6,\n",
    "                        subsample=0.8,\n",
    "                        verbosity=0,\n",
    "                        objective='binary:logistic',\n",
    "                        num_round=100)"
   ]
  },
  {
   "cell_type": "code",
   "execution_count": 132,
   "id": "3fb5d827",
   "metadata": {},
   "outputs": [
    {
     "data": {
      "text/plain": [
       "<sagemaker.inputs.TrainingInput at 0x7fcda9e06ad0>"
      ]
     },
     "execution_count": 132,
     "metadata": {},
     "output_type": "execute_result"
    }
   ],
   "source": [
    "s3_input_train"
   ]
  },
  {
   "cell_type": "markdown",
   "id": "5d29e69a",
   "metadata": {},
   "source": [
    "## Train the model"
   ]
  },
  {
   "cell_type": "code",
   "execution_count": 19,
   "id": "1d81f9e9",
   "metadata": {},
   "outputs": [
    {
     "name": "stderr",
     "output_type": "stream",
     "text": [
      "INFO:sagemaker:Creating training-job with name: sagemaker-xgboost-2024-01-08-22-21-12-629\n"
     ]
    },
    {
     "name": "stdout",
     "output_type": "stream",
     "text": [
      "2024-01-08 22:21:12 Starting - Starting the training job...\n",
      "2024-01-08 22:21:30 Starting - Preparing the instances for training.........\n",
      "2024-01-08 22:22:56 Downloading - Downloading input data......\n",
      "2024-01-08 22:23:45 Downloading - Downloading the training image...\n",
      "2024-01-08 22:24:41 Training - Training image download completed. Training in progress...\u001b[34m[2024-01-08 22:24:52.850 ip-10-0-234-84.ec2.internal:7 INFO utils.py:28] RULE_JOB_STOP_SIGNAL_FILENAME: None\u001b[0m\n",
      "\u001b[34m[2024-01-08 22:24:52.881 ip-10-0-234-84.ec2.internal:7 INFO profiler_config_parser.py:111] User has disabled profiler.\u001b[0m\n",
      "\u001b[34m[2024-01-08:22:24:53:INFO] Imported framework sagemaker_xgboost_container.training\u001b[0m\n",
      "\u001b[34m[2024-01-08:22:24:53:INFO] Failed to parse hyperparameter objective value binary:logistic to Json.\u001b[0m\n",
      "\u001b[34mReturning the value itself\u001b[0m\n",
      "\u001b[34m[2024-01-08:22:24:53:INFO] No GPUs detected (normal if no gpus installed)\u001b[0m\n",
      "\u001b[34m[2024-01-08:22:24:53:INFO] Running XGBoost Sagemaker in algorithm mode\u001b[0m\n",
      "\u001b[34m[2024-01-08:22:24:53:INFO] Determined 0 GPU(s) available on the instance.\u001b[0m\n",
      "\u001b[34m[2024-01-08:22:24:53:INFO] Determined delimiter of CSV input is ','\u001b[0m\n",
      "\u001b[34m[2024-01-08:22:24:53:INFO] Determined delimiter of CSV input is ','\u001b[0m\n",
      "\u001b[34m[2024-01-08:22:24:53:INFO] File path /opt/ml/input/data/train of input files\u001b[0m\n",
      "\u001b[34m[2024-01-08:22:24:53:INFO] Making smlinks from folder /opt/ml/input/data/train to folder /tmp/sagemaker_xgboost_input_data\u001b[0m\n",
      "\u001b[34m[2024-01-08:22:24:53:INFO] creating symlink between Path /opt/ml/input/data/train/train.csv and destination /tmp/sagemaker_xgboost_input_data/train.csv-572238657360671442\u001b[0m\n",
      "\u001b[34m[2024-01-08:22:24:53:INFO] files path: /tmp/sagemaker_xgboost_input_data\u001b[0m\n",
      "\u001b[34m[2024-01-08:22:24:53:INFO] Determined delimiter of CSV input is ','\u001b[0m\n",
      "\u001b[34m[2024-01-08:22:24:54:INFO] File path /opt/ml/input/data/validation of input files\u001b[0m\n",
      "\u001b[34m[2024-01-08:22:24:54:INFO] Making smlinks from folder /opt/ml/input/data/validation to folder /tmp/sagemaker_xgboost_input_data\u001b[0m\n",
      "\u001b[34m[2024-01-08:22:24:54:INFO] creating symlink between Path /opt/ml/input/data/validation/validation.csv and destination /tmp/sagemaker_xgboost_input_data/validation.csv-2300521863932301245\u001b[0m\n",
      "\u001b[34m[2024-01-08:22:24:54:INFO] files path: /tmp/sagemaker_xgboost_input_data\u001b[0m\n",
      "\u001b[34m[2024-01-08:22:24:54:INFO] Determined delimiter of CSV input is ','\u001b[0m\n",
      "\u001b[34m[2024-01-08:22:24:54:INFO] Single node training.\u001b[0m\n",
      "\u001b[34m[2024-01-08:22:24:54:INFO] Train matrix has 199364 rows and 30 columns\u001b[0m\n",
      "\u001b[34m[2024-01-08:22:24:54:INFO] Validation matrix has 56962 rows\u001b[0m\n",
      "\u001b[34m[2024-01-08 22:24:54.287 ip-10-0-234-84.ec2.internal:7 INFO json_config.py:92] Creating hook from json_config at /opt/ml/input/config/debughookconfig.json.\u001b[0m\n",
      "\u001b[34m[2024-01-08 22:24:54.288 ip-10-0-234-84.ec2.internal:7 INFO hook.py:206] tensorboard_dir has not been set for the hook. SMDebug will not be exporting tensorboard summaries.\u001b[0m\n",
      "\u001b[34m[2024-01-08 22:24:54.289 ip-10-0-234-84.ec2.internal:7 INFO hook.py:259] Saving to /opt/ml/output/tensors\u001b[0m\n",
      "\u001b[34m[2024-01-08 22:24:54.289 ip-10-0-234-84.ec2.internal:7 INFO state_store.py:77] The checkpoint config file /opt/ml/input/config/checkpointconfig.json does not exist.\u001b[0m\n",
      "\u001b[34m[2024-01-08:22:24:54:INFO] Debug hook created from config\u001b[0m\n",
      "\u001b[34m[2024-01-08 22:24:55.681 ip-10-0-234-84.ec2.internal:7 INFO hook.py:427] Monitoring the collections: metrics\u001b[0m\n",
      "\u001b[34m[2024-01-08 22:24:55.685 ip-10-0-234-84.ec2.internal:7 INFO hook.py:491] Hook is writing from the hook with pid: 7\u001b[0m\n",
      "\u001b[34m[0]#011train-logloss:0.51341#011validation-logloss:0.51340\u001b[0m\n",
      "\u001b[34m[1]#011train-logloss:0.39267#011validation-logloss:0.39264\u001b[0m\n",
      "\u001b[34m[2]#011train-logloss:0.30612#011validation-logloss:0.30608\u001b[0m\n",
      "\u001b[34m[3]#011train-logloss:0.24170#011validation-logloss:0.24164\u001b[0m\n",
      "\u001b[34m[4]#011train-logloss:0.19257#011validation-logloss:0.19249\u001b[0m\n",
      "\u001b[34m[5]#011train-logloss:0.15446#011validation-logloss:0.15439\u001b[0m\n",
      "\u001b[34m[6]#011train-logloss:0.12456#011validation-logloss:0.12449\u001b[0m\n",
      "\u001b[34m[7]#011train-logloss:0.10087#011validation-logloss:0.10079\u001b[0m\n",
      "\u001b[34m[8]#011train-logloss:0.08198#011validation-logloss:0.08188\u001b[0m\n",
      "\u001b[34m[9]#011train-logloss:0.06685#011validation-logloss:0.06674\u001b[0m\n",
      "\u001b[34m[10]#011train-logloss:0.05467#011validation-logloss:0.05455\u001b[0m\n",
      "\u001b[34m[11]#011train-logloss:0.04484#011validation-logloss:0.04472\u001b[0m\n",
      "\u001b[34m[12]#011train-logloss:0.03689#011validation-logloss:0.03677\u001b[0m\n",
      "\u001b[34m[13]#011train-logloss:0.03042#011validation-logloss:0.03032\u001b[0m\n",
      "\u001b[34m[14]#011train-logloss:0.02519#011validation-logloss:0.02510\u001b[0m\n",
      "\u001b[34m[15]#011train-logloss:0.02093#011validation-logloss:0.02084\u001b[0m\n",
      "\u001b[34m[16]#011train-logloss:0.01746#011validation-logloss:0.01739\u001b[0m\n",
      "\u001b[34m[17]#011train-logloss:0.01463#011validation-logloss:0.01457\u001b[0m\n",
      "\u001b[34m[18]#011train-logloss:0.01234#011validation-logloss:0.01227\u001b[0m\n",
      "\u001b[34m[19]#011train-logloss:0.01047#011validation-logloss:0.01040\u001b[0m\n",
      "\u001b[34m[20]#011train-logloss:0.00896#011validation-logloss:0.00889\u001b[0m\n",
      "\u001b[34m[21]#011train-logloss:0.00772#011validation-logloss:0.00767\u001b[0m\n",
      "\u001b[34m[22]#011train-logloss:0.00670#011validation-logloss:0.00666\u001b[0m\n",
      "\u001b[34m[23]#011train-logloss:0.00587#011validation-logloss:0.00584\u001b[0m\n",
      "\u001b[34m[24]#011train-logloss:0.00520#011validation-logloss:0.00518\u001b[0m\n",
      "\u001b[34m[25]#011train-logloss:0.00465#011validation-logloss:0.00465\u001b[0m\n",
      "\u001b[34m[26]#011train-logloss:0.00419#011validation-logloss:0.00423\u001b[0m\n",
      "\u001b[34m[27]#011train-logloss:0.00383#011validation-logloss:0.00389\u001b[0m\n",
      "\u001b[34m[28]#011train-logloss:0.00353#011validation-logloss:0.00360\u001b[0m\n",
      "\u001b[34m[29]#011train-logloss:0.00328#011validation-logloss:0.00337\u001b[0m\n",
      "\u001b[34m[30]#011train-logloss:0.00307#011validation-logloss:0.00319\u001b[0m\n",
      "\u001b[34m[31]#011train-logloss:0.00289#011validation-logloss:0.00305\u001b[0m\n",
      "\u001b[34m[32]#011train-logloss:0.00274#011validation-logloss:0.00293\u001b[0m\n",
      "\u001b[34m[33]#011train-logloss:0.00262#011validation-logloss:0.00282\u001b[0m\n",
      "\u001b[34m[34]#011train-logloss:0.00251#011validation-logloss:0.00275\u001b[0m\n",
      "\u001b[34m[35]#011train-logloss:0.00243#011validation-logloss:0.00271\u001b[0m\n",
      "\u001b[34m[36]#011train-logloss:0.00234#011validation-logloss:0.00266\u001b[0m\n",
      "\u001b[34m[37]#011train-logloss:0.00227#011validation-logloss:0.00262\u001b[0m\n",
      "\u001b[34m[38]#011train-logloss:0.00221#011validation-logloss:0.00257\u001b[0m\n",
      "\u001b[34m[39]#011train-logloss:0.00216#011validation-logloss:0.00254\u001b[0m\n",
      "\u001b[34m[40]#011train-logloss:0.00211#011validation-logloss:0.00253\u001b[0m\n",
      "\u001b[34m[41]#011train-logloss:0.00207#011validation-logloss:0.00251\u001b[0m\n",
      "\u001b[34m[42]#011train-logloss:0.00202#011validation-logloss:0.00250\u001b[0m\n",
      "\u001b[34m[43]#011train-logloss:0.00199#011validation-logloss:0.00249\u001b[0m\n",
      "\u001b[34m[44]#011train-logloss:0.00196#011validation-logloss:0.00249\u001b[0m\n",
      "\u001b[34m[45]#011train-logloss:0.00193#011validation-logloss:0.00251\u001b[0m\n",
      "\u001b[34m[46]#011train-logloss:0.00190#011validation-logloss:0.00251\u001b[0m\n",
      "\u001b[34m[47]#011train-logloss:0.00187#011validation-logloss:0.00250\u001b[0m\n",
      "\u001b[34m[48]#011train-logloss:0.00185#011validation-logloss:0.00249\u001b[0m\n",
      "\u001b[34m[49]#011train-logloss:0.00182#011validation-logloss:0.00250\u001b[0m\n",
      "\u001b[34m[50]#011train-logloss:0.00180#011validation-logloss:0.00248\u001b[0m\n",
      "\u001b[34m[51]#011train-logloss:0.00177#011validation-logloss:0.00249\u001b[0m\n",
      "\u001b[34m[52]#011train-logloss:0.00175#011validation-logloss:0.00248\u001b[0m\n",
      "\u001b[34m[53]#011train-logloss:0.00172#011validation-logloss:0.00249\u001b[0m\n",
      "\u001b[34m[54]#011train-logloss:0.00171#011validation-logloss:0.00249\u001b[0m\n",
      "\u001b[34m[55]#011train-logloss:0.00169#011validation-logloss:0.00248\u001b[0m\n",
      "\u001b[34m[56]#011train-logloss:0.00166#011validation-logloss:0.00249\u001b[0m\n",
      "\u001b[34m[57]#011train-logloss:0.00164#011validation-logloss:0.00249\u001b[0m\n",
      "\u001b[34m[58]#011train-logloss:0.00162#011validation-logloss:0.00248\u001b[0m\n",
      "\u001b[34m[59]#011train-logloss:0.00160#011validation-logloss:0.00248\u001b[0m\n",
      "\u001b[34m[60]#011train-logloss:0.00158#011validation-logloss:0.00248\u001b[0m\n",
      "\u001b[34m[61]#011train-logloss:0.00157#011validation-logloss:0.00248\u001b[0m\n",
      "\u001b[34m[62]#011train-logloss:0.00155#011validation-logloss:0.00249\u001b[0m\n",
      "\u001b[34m[63]#011train-logloss:0.00153#011validation-logloss:0.00249\u001b[0m\n",
      "\u001b[34m[64]#011train-logloss:0.00150#011validation-logloss:0.00248\u001b[0m\n",
      "\u001b[34m[65]#011train-logloss:0.00149#011validation-logloss:0.00247\u001b[0m\n",
      "\u001b[34m[66]#011train-logloss:0.00147#011validation-logloss:0.00245\u001b[0m\n",
      "\u001b[34m[67]#011train-logloss:0.00146#011validation-logloss:0.00246\u001b[0m\n",
      "\u001b[34m[68]#011train-logloss:0.00144#011validation-logloss:0.00245\u001b[0m\n",
      "\u001b[34m[69]#011train-logloss:0.00143#011validation-logloss:0.00245\u001b[0m\n"
     ]
    },
    {
     "name": "stdout",
     "output_type": "stream",
     "text": [
      "\n",
      "2024-01-08 22:25:41 Uploading - Uploading generated training model\u001b[34m[70]#011train-logloss:0.00142#011validation-logloss:0.00245\u001b[0m\n",
      "\u001b[34m[71]#011train-logloss:0.00140#011validation-logloss:0.00245\u001b[0m\n",
      "\u001b[34m[72]#011train-logloss:0.00138#011validation-logloss:0.00248\u001b[0m\n",
      "\u001b[34m[73]#011train-logloss:0.00137#011validation-logloss:0.00248\u001b[0m\n",
      "\u001b[34m[74]#011train-logloss:0.00136#011validation-logloss:0.00249\u001b[0m\n",
      "\u001b[34m[75]#011train-logloss:0.00135#011validation-logloss:0.00249\u001b[0m\n",
      "\u001b[34m[76]#011train-logloss:0.00134#011validation-logloss:0.00249\u001b[0m\n",
      "\u001b[34m[77]#011train-logloss:0.00132#011validation-logloss:0.00248\u001b[0m\n",
      "\u001b[34m[78]#011train-logloss:0.00131#011validation-logloss:0.00250\u001b[0m\n",
      "\u001b[34m[79]#011train-logloss:0.00130#011validation-logloss:0.00250\u001b[0m\n",
      "\u001b[34m[80]#011train-logloss:0.00129#011validation-logloss:0.00251\u001b[0m\n",
      "\u001b[34m[81]#011train-logloss:0.00128#011validation-logloss:0.00251\u001b[0m\n",
      "\u001b[34m[82]#011train-logloss:0.00126#011validation-logloss:0.00251\u001b[0m\n",
      "\u001b[34m[83]#011train-logloss:0.00125#011validation-logloss:0.00252\u001b[0m\n",
      "\u001b[34m[84]#011train-logloss:0.00125#011validation-logloss:0.00251\u001b[0m\n",
      "\u001b[34m[85]#011train-logloss:0.00124#011validation-logloss:0.00252\u001b[0m\n",
      "\u001b[34m[86]#011train-logloss:0.00122#011validation-logloss:0.00252\u001b[0m\n",
      "\u001b[34m[87]#011train-logloss:0.00121#011validation-logloss:0.00253\u001b[0m\n",
      "\u001b[34m[88]#011train-logloss:0.00120#011validation-logloss:0.00253\u001b[0m\n",
      "\u001b[34m[89]#011train-logloss:0.00118#011validation-logloss:0.00254\u001b[0m\n",
      "\u001b[34m[90]#011train-logloss:0.00117#011validation-logloss:0.00254\u001b[0m\n",
      "\u001b[34m[91]#011train-logloss:0.00116#011validation-logloss:0.00255\u001b[0m\n",
      "\u001b[34m[92]#011train-logloss:0.00115#011validation-logloss:0.00254\u001b[0m\n",
      "\u001b[34m[93]#011train-logloss:0.00114#011validation-logloss:0.00254\u001b[0m\n",
      "\u001b[34m[94]#011train-logloss:0.00113#011validation-logloss:0.00254\u001b[0m\n",
      "\u001b[34m[95]#011train-logloss:0.00113#011validation-logloss:0.00254\u001b[0m\n",
      "\u001b[34m[96]#011train-logloss:0.00113#011validation-logloss:0.00254\u001b[0m\n",
      "\u001b[34m[97]#011train-logloss:0.00112#011validation-logloss:0.00254\u001b[0m\n",
      "\u001b[34m[98]#011train-logloss:0.00112#011validation-logloss:0.00254\u001b[0m\n",
      "\u001b[34m[99]#011train-logloss:0.00111#011validation-logloss:0.00254\u001b[0m\n",
      "\n",
      "2024-01-08 22:25:58 Completed - Training job completed\n",
      "Training seconds: 182\n",
      "Billable seconds: 182\n"
     ]
    }
   ],
   "source": [
    "xgb.fit({\"train\": s3_input_train, \"validation\": s3_input_validation})"
   ]
  },
  {
   "cell_type": "markdown",
   "id": "b8583118",
   "metadata": {},
   "source": [
    "## Deploy model"
   ]
  },
  {
   "cell_type": "code",
   "execution_count": 33,
   "id": "e39fb70b",
   "metadata": {},
   "outputs": [
    {
     "name": "stderr",
     "output_type": "stream",
     "text": [
      "INFO:sagemaker:Creating model with name: sagemaker-xgboost-2024-01-08-22-51-48-221\n",
      "INFO:sagemaker:Creating endpoint-config with name deployed-xgboost-fraud-prediction\n"
     ]
    },
    {
     "ename": "ClientError",
     "evalue": "An error occurred (ValidationException) when calling the CreateEndpointConfig operation: Cannot create already existing endpoint configuration \"arn:aws:sagemaker:us-east-1:470086202700:endpoint-config/deployed-xgboost-fraud-prediction\".",
     "output_type": "error",
     "traceback": [
      "\u001b[0;31m---------------------------------------------------------------------------\u001b[0m",
      "\u001b[0;31mClientError\u001b[0m                               Traceback (most recent call last)",
      "Cell \u001b[0;32mIn[33], line 3\u001b[0m\n\u001b[1;32m      1\u001b[0m \u001b[38;5;66;03m## Deploy model\u001b[39;00m\n\u001b[1;32m      2\u001b[0m xgb\u001b[38;5;241m.\u001b[39mname \u001b[38;5;241m=\u001b[39m \u001b[38;5;124m'\u001b[39m\u001b[38;5;124mdeployed-xgboost-fraud-prediction\u001b[39m\u001b[38;5;124m'\u001b[39m\n\u001b[0;32m----> 3\u001b[0m xgb_predictor \u001b[38;5;241m=\u001b[39m \u001b[43mxgb\u001b[49m\u001b[38;5;241;43m.\u001b[39;49m\u001b[43mdeploy\u001b[49m\u001b[43m(\u001b[49m\u001b[43minitial_instance_count\u001b[49m\u001b[43m \u001b[49m\u001b[38;5;241;43m=\u001b[39;49m\u001b[43m \u001b[49m\u001b[38;5;241;43m1\u001b[39;49m\u001b[43m,\u001b[49m\u001b[43m \u001b[49m\u001b[43minstance_type\u001b[49m\u001b[43m \u001b[49m\u001b[38;5;241;43m=\u001b[39;49m\u001b[43m \u001b[49m\u001b[38;5;124;43m'\u001b[39;49m\u001b[38;5;124;43mml.m4.xlarge\u001b[39;49m\u001b[38;5;124;43m'\u001b[39;49m\u001b[43m,\u001b[49m\u001b[43mendpoint_name\u001b[49m\u001b[38;5;241;43m=\u001b[39;49m\u001b[38;5;124;43m'\u001b[39;49m\u001b[38;5;124;43mdeployed-xgboost-fraud-prediction\u001b[39;49m\u001b[38;5;124;43m'\u001b[39;49m\u001b[43m)\u001b[49m\n",
      "File \u001b[0;32m~/anaconda3/envs/python3/lib/python3.10/site-packages/sagemaker/estimator.py:1675\u001b[0m, in \u001b[0;36mEstimatorBase.deploy\u001b[0;34m(self, initial_instance_count, instance_type, serializer, deserializer, accelerator_type, endpoint_name, use_compiled_model, wait, model_name, kms_key, data_capture_config, tags, serverless_inference_config, async_inference_config, volume_size, model_data_download_timeout, container_startup_health_check_timeout, inference_recommendation_id, explainer_config, **kwargs)\u001b[0m\n\u001b[1;32m   1669\u001b[0m model\u001b[38;5;241m.\u001b[39mname \u001b[38;5;241m=\u001b[39m model_name\n\u001b[1;32m   1671\u001b[0m tags \u001b[38;5;241m=\u001b[39m update_inference_tags_with_jumpstart_training_tags(\n\u001b[1;32m   1672\u001b[0m     inference_tags\u001b[38;5;241m=\u001b[39mformat_tags(tags), training_tags\u001b[38;5;241m=\u001b[39m\u001b[38;5;28mself\u001b[39m\u001b[38;5;241m.\u001b[39mtags\n\u001b[1;32m   1673\u001b[0m )\n\u001b[0;32m-> 1675\u001b[0m \u001b[38;5;28;01mreturn\u001b[39;00m \u001b[43mmodel\u001b[49m\u001b[38;5;241;43m.\u001b[39;49m\u001b[43mdeploy\u001b[49m\u001b[43m(\u001b[49m\n\u001b[1;32m   1676\u001b[0m \u001b[43m    \u001b[49m\u001b[43minstance_type\u001b[49m\u001b[38;5;241;43m=\u001b[39;49m\u001b[43minstance_type\u001b[49m\u001b[43m,\u001b[49m\n\u001b[1;32m   1677\u001b[0m \u001b[43m    \u001b[49m\u001b[43minitial_instance_count\u001b[49m\u001b[38;5;241;43m=\u001b[39;49m\u001b[43minitial_instance_count\u001b[49m\u001b[43m,\u001b[49m\n\u001b[1;32m   1678\u001b[0m \u001b[43m    \u001b[49m\u001b[43mserializer\u001b[49m\u001b[38;5;241;43m=\u001b[39;49m\u001b[43mserializer\u001b[49m\u001b[43m,\u001b[49m\n\u001b[1;32m   1679\u001b[0m \u001b[43m    \u001b[49m\u001b[43mdeserializer\u001b[49m\u001b[38;5;241;43m=\u001b[39;49m\u001b[43mdeserializer\u001b[49m\u001b[43m,\u001b[49m\n\u001b[1;32m   1680\u001b[0m \u001b[43m    \u001b[49m\u001b[43maccelerator_type\u001b[49m\u001b[38;5;241;43m=\u001b[39;49m\u001b[43maccelerator_type\u001b[49m\u001b[43m,\u001b[49m\n\u001b[1;32m   1681\u001b[0m \u001b[43m    \u001b[49m\u001b[43mendpoint_name\u001b[49m\u001b[38;5;241;43m=\u001b[39;49m\u001b[43mendpoint_name\u001b[49m\u001b[43m,\u001b[49m\n\u001b[1;32m   1682\u001b[0m \u001b[43m    \u001b[49m\u001b[43mtags\u001b[49m\u001b[38;5;241;43m=\u001b[39;49m\u001b[43mtags\u001b[49m\u001b[43m \u001b[49m\u001b[38;5;129;43;01mor\u001b[39;49;00m\u001b[43m \u001b[49m\u001b[38;5;28;43mself\u001b[39;49m\u001b[38;5;241;43m.\u001b[39;49m\u001b[43mtags\u001b[49m\u001b[43m,\u001b[49m\n\u001b[1;32m   1683\u001b[0m \u001b[43m    \u001b[49m\u001b[43mwait\u001b[49m\u001b[38;5;241;43m=\u001b[39;49m\u001b[43mwait\u001b[49m\u001b[43m,\u001b[49m\n\u001b[1;32m   1684\u001b[0m \u001b[43m    \u001b[49m\u001b[43mkms_key\u001b[49m\u001b[38;5;241;43m=\u001b[39;49m\u001b[43mkms_key\u001b[49m\u001b[43m,\u001b[49m\n\u001b[1;32m   1685\u001b[0m \u001b[43m    \u001b[49m\u001b[43mdata_capture_config\u001b[49m\u001b[38;5;241;43m=\u001b[39;49m\u001b[43mdata_capture_config\u001b[49m\u001b[43m,\u001b[49m\n\u001b[1;32m   1686\u001b[0m \u001b[43m    \u001b[49m\u001b[43mserverless_inference_config\u001b[49m\u001b[38;5;241;43m=\u001b[39;49m\u001b[43mserverless_inference_config\u001b[49m\u001b[43m,\u001b[49m\n\u001b[1;32m   1687\u001b[0m \u001b[43m    \u001b[49m\u001b[43masync_inference_config\u001b[49m\u001b[38;5;241;43m=\u001b[39;49m\u001b[43masync_inference_config\u001b[49m\u001b[43m,\u001b[49m\n\u001b[1;32m   1688\u001b[0m \u001b[43m    \u001b[49m\u001b[43mexplainer_config\u001b[49m\u001b[38;5;241;43m=\u001b[39;49m\u001b[43mexplainer_config\u001b[49m\u001b[43m,\u001b[49m\n\u001b[1;32m   1689\u001b[0m \u001b[43m    \u001b[49m\u001b[43mvolume_size\u001b[49m\u001b[38;5;241;43m=\u001b[39;49m\u001b[43mvolume_size\u001b[49m\u001b[43m,\u001b[49m\n\u001b[1;32m   1690\u001b[0m \u001b[43m    \u001b[49m\u001b[43mmodel_data_download_timeout\u001b[49m\u001b[38;5;241;43m=\u001b[39;49m\u001b[43mmodel_data_download_timeout\u001b[49m\u001b[43m,\u001b[49m\n\u001b[1;32m   1691\u001b[0m \u001b[43m    \u001b[49m\u001b[43mcontainer_startup_health_check_timeout\u001b[49m\u001b[38;5;241;43m=\u001b[39;49m\u001b[43mcontainer_startup_health_check_timeout\u001b[49m\u001b[43m,\u001b[49m\n\u001b[1;32m   1692\u001b[0m \u001b[43m    \u001b[49m\u001b[43minference_recommendation_id\u001b[49m\u001b[38;5;241;43m=\u001b[39;49m\u001b[43minference_recommendation_id\u001b[49m\u001b[43m,\u001b[49m\n\u001b[1;32m   1693\u001b[0m \u001b[43m\u001b[49m\u001b[43m)\u001b[49m\n",
      "File \u001b[0;32m~/anaconda3/envs/python3/lib/python3.10/site-packages/sagemaker/model.py:1654\u001b[0m, in \u001b[0;36mModel.deploy\u001b[0;34m(self, initial_instance_count, instance_type, serializer, deserializer, accelerator_type, endpoint_name, tags, kms_key, wait, data_capture_config, async_inference_config, serverless_inference_config, volume_size, model_data_download_timeout, container_startup_health_check_timeout, inference_recommendation_id, explainer_config, accept_eula, endpoint_logging, resources, endpoint_type, managed_instance_scaling, **kwargs)\u001b[0m\n\u001b[1;32m   1651\u001b[0m \u001b[38;5;28;01mif\u001b[39;00m is_explainer_enabled:\n\u001b[1;32m   1652\u001b[0m     explainer_config_dict \u001b[38;5;241m=\u001b[39m explainer_config\u001b[38;5;241m.\u001b[39m_to_request_dict()\n\u001b[0;32m-> 1654\u001b[0m \u001b[38;5;28;43mself\u001b[39;49m\u001b[38;5;241;43m.\u001b[39;49m\u001b[43msagemaker_session\u001b[49m\u001b[38;5;241;43m.\u001b[39;49m\u001b[43mendpoint_from_production_variants\u001b[49m\u001b[43m(\u001b[49m\n\u001b[1;32m   1655\u001b[0m \u001b[43m    \u001b[49m\u001b[43mname\u001b[49m\u001b[38;5;241;43m=\u001b[39;49m\u001b[38;5;28;43mself\u001b[39;49m\u001b[38;5;241;43m.\u001b[39;49m\u001b[43mendpoint_name\u001b[49m\u001b[43m,\u001b[49m\n\u001b[1;32m   1656\u001b[0m \u001b[43m    \u001b[49m\u001b[43mproduction_variants\u001b[49m\u001b[38;5;241;43m=\u001b[39;49m\u001b[43m[\u001b[49m\u001b[43mproduction_variant\u001b[49m\u001b[43m]\u001b[49m\u001b[43m,\u001b[49m\n\u001b[1;32m   1657\u001b[0m \u001b[43m    \u001b[49m\u001b[43mtags\u001b[49m\u001b[38;5;241;43m=\u001b[39;49m\u001b[43mtags\u001b[49m\u001b[43m,\u001b[49m\n\u001b[1;32m   1658\u001b[0m \u001b[43m    \u001b[49m\u001b[43mkms_key\u001b[49m\u001b[38;5;241;43m=\u001b[39;49m\u001b[43mkms_key\u001b[49m\u001b[43m,\u001b[49m\n\u001b[1;32m   1659\u001b[0m \u001b[43m    \u001b[49m\u001b[43mwait\u001b[49m\u001b[38;5;241;43m=\u001b[39;49m\u001b[43mwait\u001b[49m\u001b[43m,\u001b[49m\n\u001b[1;32m   1660\u001b[0m \u001b[43m    \u001b[49m\u001b[43mdata_capture_config_dict\u001b[49m\u001b[38;5;241;43m=\u001b[39;49m\u001b[43mdata_capture_config_dict\u001b[49m\u001b[43m,\u001b[49m\n\u001b[1;32m   1661\u001b[0m \u001b[43m    \u001b[49m\u001b[43mexplainer_config_dict\u001b[49m\u001b[38;5;241;43m=\u001b[39;49m\u001b[43mexplainer_config_dict\u001b[49m\u001b[43m,\u001b[49m\n\u001b[1;32m   1662\u001b[0m \u001b[43m    \u001b[49m\u001b[43masync_inference_config_dict\u001b[49m\u001b[38;5;241;43m=\u001b[39;49m\u001b[43masync_inference_config_dict\u001b[49m\u001b[43m,\u001b[49m\n\u001b[1;32m   1663\u001b[0m \u001b[43m    \u001b[49m\u001b[43mlive_logging\u001b[49m\u001b[38;5;241;43m=\u001b[39;49m\u001b[43mendpoint_logging\u001b[49m\u001b[43m,\u001b[49m\n\u001b[1;32m   1664\u001b[0m \u001b[43m\u001b[49m\u001b[43m)\u001b[49m\n\u001b[1;32m   1666\u001b[0m \u001b[38;5;28;01mif\u001b[39;00m \u001b[38;5;28mself\u001b[39m\u001b[38;5;241m.\u001b[39mpredictor_cls:\n\u001b[1;32m   1667\u001b[0m     predictor \u001b[38;5;241m=\u001b[39m \u001b[38;5;28mself\u001b[39m\u001b[38;5;241m.\u001b[39mpredictor_cls(\u001b[38;5;28mself\u001b[39m\u001b[38;5;241m.\u001b[39mendpoint_name, \u001b[38;5;28mself\u001b[39m\u001b[38;5;241m.\u001b[39msagemaker_session)\n",
      "File \u001b[0;32m~/anaconda3/envs/python3/lib/python3.10/site-packages/sagemaker/session.py:5378\u001b[0m, in \u001b[0;36mSession.endpoint_from_production_variants\u001b[0;34m(self, name, production_variants, tags, kms_key, wait, data_capture_config_dict, async_inference_config_dict, explainer_config_dict, live_logging, vpc_config, enable_network_isolation, role)\u001b[0m\n\u001b[1;32m   5375\u001b[0m     config_options[\u001b[38;5;124m\"\u001b[39m\u001b[38;5;124mExecutionRoleArn\u001b[39m\u001b[38;5;124m\"\u001b[39m] \u001b[38;5;241m=\u001b[39m role\n\u001b[1;32m   5377\u001b[0m logger\u001b[38;5;241m.\u001b[39minfo(\u001b[38;5;124m\"\u001b[39m\u001b[38;5;124mCreating endpoint-config with name \u001b[39m\u001b[38;5;132;01m%s\u001b[39;00m\u001b[38;5;124m\"\u001b[39m, name)\n\u001b[0;32m-> 5378\u001b[0m \u001b[38;5;28;43mself\u001b[39;49m\u001b[38;5;241;43m.\u001b[39;49m\u001b[43msagemaker_client\u001b[49m\u001b[38;5;241;43m.\u001b[39;49m\u001b[43mcreate_endpoint_config\u001b[49m\u001b[43m(\u001b[49m\u001b[38;5;241;43m*\u001b[39;49m\u001b[38;5;241;43m*\u001b[39;49m\u001b[43mconfig_options\u001b[49m\u001b[43m)\u001b[49m\n\u001b[1;32m   5380\u001b[0m \u001b[38;5;28;01mreturn\u001b[39;00m \u001b[38;5;28mself\u001b[39m\u001b[38;5;241m.\u001b[39mcreate_endpoint(\n\u001b[1;32m   5381\u001b[0m     endpoint_name\u001b[38;5;241m=\u001b[39mname,\n\u001b[1;32m   5382\u001b[0m     config_name\u001b[38;5;241m=\u001b[39mname,\n\u001b[0;32m   (...)\u001b[0m\n\u001b[1;32m   5385\u001b[0m     live_logging\u001b[38;5;241m=\u001b[39mlive_logging,\n\u001b[1;32m   5386\u001b[0m )\n",
      "File \u001b[0;32m~/anaconda3/envs/python3/lib/python3.10/site-packages/botocore/client.py:553\u001b[0m, in \u001b[0;36mClientCreator._create_api_method.<locals>._api_call\u001b[0;34m(self, *args, **kwargs)\u001b[0m\n\u001b[1;32m    549\u001b[0m     \u001b[38;5;28;01mraise\u001b[39;00m \u001b[38;5;167;01mTypeError\u001b[39;00m(\n\u001b[1;32m    550\u001b[0m         \u001b[38;5;124mf\u001b[39m\u001b[38;5;124m\"\u001b[39m\u001b[38;5;132;01m{\u001b[39;00mpy_operation_name\u001b[38;5;132;01m}\u001b[39;00m\u001b[38;5;124m() only accepts keyword arguments.\u001b[39m\u001b[38;5;124m\"\u001b[39m\n\u001b[1;32m    551\u001b[0m     )\n\u001b[1;32m    552\u001b[0m \u001b[38;5;66;03m# The \"self\" in this scope is referring to the BaseClient.\u001b[39;00m\n\u001b[0;32m--> 553\u001b[0m \u001b[38;5;28;01mreturn\u001b[39;00m \u001b[38;5;28;43mself\u001b[39;49m\u001b[38;5;241;43m.\u001b[39;49m\u001b[43m_make_api_call\u001b[49m\u001b[43m(\u001b[49m\u001b[43moperation_name\u001b[49m\u001b[43m,\u001b[49m\u001b[43m \u001b[49m\u001b[43mkwargs\u001b[49m\u001b[43m)\u001b[49m\n",
      "File \u001b[0;32m~/anaconda3/envs/python3/lib/python3.10/site-packages/botocore/client.py:1009\u001b[0m, in \u001b[0;36mBaseClient._make_api_call\u001b[0;34m(self, operation_name, api_params)\u001b[0m\n\u001b[1;32m   1005\u001b[0m     error_code \u001b[38;5;241m=\u001b[39m error_info\u001b[38;5;241m.\u001b[39mget(\u001b[38;5;124m\"\u001b[39m\u001b[38;5;124mQueryErrorCode\u001b[39m\u001b[38;5;124m\"\u001b[39m) \u001b[38;5;129;01mor\u001b[39;00m error_info\u001b[38;5;241m.\u001b[39mget(\n\u001b[1;32m   1006\u001b[0m         \u001b[38;5;124m\"\u001b[39m\u001b[38;5;124mCode\u001b[39m\u001b[38;5;124m\"\u001b[39m\n\u001b[1;32m   1007\u001b[0m     )\n\u001b[1;32m   1008\u001b[0m     error_class \u001b[38;5;241m=\u001b[39m \u001b[38;5;28mself\u001b[39m\u001b[38;5;241m.\u001b[39mexceptions\u001b[38;5;241m.\u001b[39mfrom_code(error_code)\n\u001b[0;32m-> 1009\u001b[0m     \u001b[38;5;28;01mraise\u001b[39;00m error_class(parsed_response, operation_name)\n\u001b[1;32m   1010\u001b[0m \u001b[38;5;28;01melse\u001b[39;00m:\n\u001b[1;32m   1011\u001b[0m     \u001b[38;5;28;01mreturn\u001b[39;00m parsed_response\n",
      "\u001b[0;31mClientError\u001b[0m: An error occurred (ValidationException) when calling the CreateEndpointConfig operation: Cannot create already existing endpoint configuration \"arn:aws:sagemaker:us-east-1:470086202700:endpoint-config/deployed-xgboost-fraud-prediction\"."
     ]
    }
   ],
   "source": [
    "xgb.name = 'deployed-xgboost-fraud-prediction'\n",
    "xgb_predictor = xgb.deploy(initial_instance_count = 1, instance_type = 'ml.m4.xlarge',endpoint_name='deployed-xgboost-fraud-prediction')"
   ]
  },
  {
   "cell_type": "markdown",
   "id": "9d78958c",
   "metadata": {},
   "source": [
    "## Create XG boost Realtime predictor usign deployed endpoint if we donot have previous estimator object which is the case in actual deployment. Can also use async inference if the payload is too big not the case here"
   ]
  },
  {
   "cell_type": "code",
   "execution_count": 35,
   "id": "fad67a51",
   "metadata": {},
   "outputs": [],
   "source": [
    "import sagemaker\n",
    "from sagemaker.serializers import CSVSerializer\n",
    "from sagemaker.deserializers import StringDeserializer\n",
    "\n",
    "endpoint_name = 'deployed-xgboost-fraud-prediction' \n",
    "\n",
    "# Create a real-time predictor\n",
    "xgb_predictor = sagemaker.predictor.Predictor(\n",
    "    endpoint_name=endpoint_name,\n",
    "    sagemaker_session=sess,\n",
    "    serializer=CSVSerializer(),       \n",
    "    deserializer=StringDeserializer()   \n",
    ")\n"
   ]
  },
  {
   "cell_type": "markdown",
   "id": "dfd2eda0",
   "metadata": {},
   "source": [
    "## Evaluate model"
   ]
  },
  {
   "cell_type": "code",
   "execution_count": 53,
   "id": "b9af46ad",
   "metadata": {},
   "outputs": [
    {
     "data": {
      "text/plain": [
       "(199364, 56962, 28481)"
      ]
     },
     "execution_count": 53,
     "metadata": {},
     "output_type": "execute_result"
    }
   ],
   "source": [
    "len(train_data),len(validation_data),len(test_data)"
   ]
  },
  {
   "cell_type": "code",
   "execution_count": 69,
   "id": "42ab4708",
   "metadata": {},
   "outputs": [],
   "source": [
    "import json\n",
    "\n",
    "def predict(data, rows=500):\n",
    "    # Convert the DataFrame to a NumPy array\n",
    "    data_array = data.to_numpy() if hasattr(data, 'to_numpy') else data.values    \n",
    "    # Split the array into smaller arrays of size 'rows'\n",
    "    split_array = np.array_split(data_array, int(data_array.shape[0] / float(rows) + 1))   \n",
    "    predictions = []\n",
    "    for array in split_array:\n",
    "        # Assuming xgb_predictor is your model's predictor and it can handle NumPy arrays directly\n",
    "        prediction_result = xgb_predictor.predict(array)\n",
    "        parsed_result = json.loads(prediction_result)     \n",
    "        scores = [item['score'] for item in parsed_result['predictions']]\n",
    "        predictions.extend(scores)\n",
    "    return predictions\n"
   ]
  },
  {
   "cell_type": "code",
   "execution_count": 70,
   "id": "1df7ec3e",
   "metadata": {},
   "outputs": [],
   "source": [
    "predictions = predict(test_data.iloc[:, 1:])\n",
    "labels =test_data.iloc[:,0]"
   ]
  },
  {
   "cell_type": "code",
   "execution_count": 72,
   "id": "119e5779",
   "metadata": {},
   "outputs": [
    {
     "data": {
      "text/plain": [
       "(28481, 28481)"
      ]
     },
     "execution_count": 72,
     "metadata": {},
     "output_type": "execute_result"
    }
   ],
   "source": [
    "len(predictions), len(labels)"
   ]
  },
  {
   "cell_type": "code",
   "execution_count": 62,
   "id": "e720b39e",
   "metadata": {},
   "outputs": [
    {
     "name": "stdout",
     "output_type": "stream",
     "text": [
      "Number of frauds:  45\n",
      "Number of non-frauds:  28436\n",
      "Percentage of fradulent data: 0.15800007022225343\n"
     ]
    }
   ],
   "source": [
    "test_nonfrauds, test_frauds = test_data.groupby('class').size()\n",
    "print('Number of frauds: ', test_frauds)\n",
    "print('Number of non-frauds: ', test_nonfrauds)\n",
    "print('Percentage of fradulent data:', 100.*test_frauds/(test_frauds + test_nonfrauds))"
   ]
  },
  {
   "cell_type": "code",
   "execution_count": 74,
   "id": "ad92a8cc",
   "metadata": {},
   "outputs": [
    {
     "name": "stdout",
     "output_type": "stream",
     "text": [
      "precision:  0.9\n",
      "recall:  0.82\n",
      "F1 Score:  0.86\n"
     ]
    }
   ],
   "source": [
    "from sklearn.metrics import confusion_matrix, accuracy_score, f1_score\n",
    "from sklearn.metrics import precision_recall_fscore_support\n",
    "\n",
    "rounded_predictions = np.round(predictions)\n",
    "\n",
    "# Calculate Confusion Matrix\n",
    "conf_matrix = confusion_matrix(labels, rounded_predictions)\n",
    "\n",
    "# Calculate F1 Score\n",
    "f1score = f1_score(labels, rounded_predictions)\n",
    "\n",
    "# Precision Recall\n",
    "f_Suport = precision_recall_fscore_support(labels,rounded_predictions)\n",
    "\n",
    "print('precision: ', round(f_Suport [0][1], 2))\n",
    "print('recall: ', round(f_Suport [1][1], 2))\n",
    "print('F1 Score: ', round(f1score, 2))"
   ]
  },
  {
   "cell_type": "code",
   "execution_count": 76,
   "id": "8cd0a1e7",
   "metadata": {},
   "outputs": [
    {
     "data": {
      "image/png": "[encoded data removed]",
      "text/plain": [
       "<Figure size 800x600 with 2 Axes>"
      ]
     },
     "metadata": {},
     "output_type": "display_data"
    }
   ],
   "source": [
    "import matplotlib.pyplot as plt\n",
    "import seaborn as sns\n",
    "\n",
    "\n",
    "plt.figure(figsize=(8, 6))\n",
    "sns.heatmap(conf_matrix, annot=True, fmt='g', cmap='Blues', \n",
    "            xticklabels=['Predicted Negative', 'Predicted Positive'], \n",
    "            yticklabels=['Actual Negative', 'Actual Positive'])\n",
    "plt.ylabel('True label')\n",
    "plt.xlabel('Predicted label')\n",
    "plt.title('Confusion Matrix')\n",
    "plt.show()"
   ]
  },
  {
   "cell_type": "code",
   "execution_count": 77,
   "id": "b2d901af",
   "metadata": {},
   "outputs": [
    {
     "data": {
      "image/png": "[encoded data removed]",
      "text/plain": [
       "<Figure size 800x600 with 1 Axes>"
      ]
     },
     "metadata": {},
     "output_type": "display_data"
    }
   ],
   "source": [
    "from sklearn.metrics import roc_curve, auc\n",
    "\n",
    "# Calculate ROC Curve and AUC\n",
    "fpr, tpr, thresholds = roc_curve(labels, predictions)\n",
    "roc_auc = auc(fpr, tpr)\n",
    "\n",
    "# Plot ROC Curve\n",
    "plt.figure(figsize=(8, 6))\n",
    "plt.plot(fpr, tpr, color='darkorange', lw=2, label=f'ROC curve (area = {roc_auc:.2f})')\n",
    "plt.plot([0, 1], [0, 1], color='navy', lw=2, linestyle='--')\n",
    "plt.xlabel('False Positive Rate')\n",
    "plt.ylabel('True Positive Rate')\n",
    "plt.title('Receiver Operating Characteristic (ROC) Curve')\n",
    "plt.legend(loc=\"lower right\")\n",
    "plt.show()\n"
   ]
  },
  {
   "cell_type": "code",
   "execution_count": 78,
   "id": "6f20e770",
   "metadata": {},
   "outputs": [],
   "source": [
    "from sklearn.metrics import precision_recall_curve, auc\n",
    "import matplotlib.pyplot as plt\n",
    "precision, recall, _ = precision_recall_curve(labels, predictions)\n",
    "auc_score = auc(recall, precision)"
   ]
  },
  {
   "cell_type": "code",
   "execution_count": 79,
   "id": "b116b53b",
   "metadata": {},
   "outputs": [
    {
     "data": {
      "image/png": "[encoded data removed]",
      "text/plain": [
       "<Figure size 800x600 with 1 Axes>"
      ]
     },
     "metadata": {},
     "output_type": "display_data"
    }
   ],
   "source": [
    "plt.figure(figsize=(8, 6))\n",
    "plt.plot(recall, precision, color='darkorange', lw=2, label=f'Precision-Recall curve (area = {auc_score:.2f})')\n",
    "plt.xlabel('Recall')\n",
    "plt.ylabel('Precision')\n",
    "plt.title('Precision-Recall Curve')\n",
    "plt.legend(loc=\"lower left\")\n",
    "plt.show()\n"
   ]
  },
  {
   "cell_type": "markdown",
   "id": "3e42316f",
   "metadata": {},
   "source": [
    "## More than precision and recall assigigng cost using real world heuristics"
   ]
  },
  {
   "cell_type": "code",
   "execution_count": 81,
   "id": "fc4fe764",
   "metadata": {},
   "outputs": [],
   "source": [
    "def calculate_cost(y_true, y_pred):\n",
    "    tn, fp, fn, tp = confusion_matrix(y_true, y_pred).ravel()\n",
    "    cost = 500 * fn + 0 * tn + 100 * fp + 100 * tp\n",
    "    return cost"
   ]
  },
  {
   "cell_type": "code",
   "execution_count": 84,
   "id": "765b01f8",
   "metadata": {},
   "outputs": [
    {
     "name": "stderr",
     "output_type": "stream",
     "text": [
      "100%|██████████| 1000/1000 [00:05<00:00, 188.74it/s]"
     ]
    },
    {
     "name": "stdout",
     "output_type": "stream",
     "text": [
      "Optimal Threshold: 0.4214214214214214, Minimum Cost: 7700\n"
     ]
    },
    {
     "name": "stderr",
     "output_type": "stream",
     "text": [
      "\n"
     ]
    }
   ],
   "source": [
    "thresholds = np.linspace(0, 1, 1000)  # Create a range of possible thresholds\n",
    "optimal_threshold = None\n",
    "min_cost = float('inf')\n",
    "\n",
    "for threshold in tqdm(thresholds):\n",
    "    predicted_labels = (predictions >= threshold).astype(int)\n",
    "    \n",
    "    # Calculate cost for this threshold\n",
    "    cost = calculate_cost(labels, predicted_labels)\n",
    "    \n",
    "    if cost < min_cost:\n",
    "        min_cost = cost\n",
    "        optimal_threshold = threshold\n",
    "\n",
    "# Print the optimal threshold\n",
    "print(f\"Optimal Threshold: {optimal_threshold}, Minimum Cost: {min_cost}\")"
   ]
  },
  {
   "cell_type": "markdown",
   "id": "994fdd64",
   "metadata": {},
   "source": [
    "## Track Lineage of data and model"
   ]
  },
  {
   "cell_type": "markdown",
   "id": "6228f262",
   "metadata": {},
   "source": [
    "## Registering artifacts"
   ]
  },
  {
   "cell_type": "code",
   "execution_count": 88,
   "id": "8e156f3a",
   "metadata": {},
   "outputs": [],
   "source": [
    "training_job_name = xgb.latest_training_job.job_name"
   ]
  },
  {
   "cell_type": "code",
   "execution_count": 89,
   "id": "183362b3",
   "metadata": {},
   "outputs": [
    {
     "data": {
      "text/plain": [
       "'sagemaker-xgboost-2024-01-08-22-21-12-629'"
      ]
     },
     "execution_count": 89,
     "metadata": {},
     "output_type": "execute_result"
    }
   ],
   "source": [
    "training_job_name"
   ]
  },
  {
   "cell_type": "code",
   "execution_count": 92,
   "id": "94a7e6eb",
   "metadata": {},
   "outputs": [],
   "source": [
    "training_job_xgboost_info = sess.describe_training_job(training_job_name)"
   ]
  },
  {
   "cell_type": "code",
   "execution_count": 101,
   "id": "c5876066",
   "metadata": {},
   "outputs": [
    {
     "data": {
      "text/plain": [
       "{'TrainingJobName': 'sagemaker-xgboost-2024-01-08-22-21-12-629',\n",
       " 'TrainingJobArn': 'arn:aws:sagemaker:us-east-1:470086202700:training-job/sagemaker-xgboost-2024-01-08-22-21-12-629',\n",
       " 'ModelArtifacts': {'S3ModelArtifacts': 's3://sagemaker-us-east-1-470086202700/xgboost-fraud/output/sagemaker-xgboost-2024-01-08-22-21-12-629/output/model.tar.gz'},\n",
       " 'TrainingJobStatus': 'Completed',\n",
       " 'SecondaryStatus': 'Completed',\n",
       " 'HyperParameters': {'eta': '0.2',\n",
       "  'gamma': '4',\n",
       "  'max_depth': '5',\n",
       "  'min_child_weight': '6',\n",
       "  'num_round': '100',\n",
       "  'objective': 'binary:logistic',\n",
       "  'subsample': '0.8',\n",
       "  'verbosity': '0'},\n",
       " 'AlgorithmSpecification': {'TrainingImage': '683313688378.dkr.ecr.us-east-1.amazonaws.com/sagemaker-xgboost:1.7-1',\n",
       "  'TrainingInputMode': 'File',\n",
       "  'MetricDefinitions': [{'Name': 'train:mae',\n",
       "    'Regex': '.*\\\\[[0-9]+\\\\].*#011train-mae:([-+]?[0-9]*\\\\.?[0-9]+(?:[eE][-+]?[0-9]+)?).*'},\n",
       "   {'Name': 'validation:aucpr',\n",
       "    'Regex': '.*\\\\[[0-9]+\\\\].*#011validation-aucpr:([-+]?[0-9]*\\\\.?[0-9]+(?:[eE][-+]?[0-9]+)?).*'},\n",
       "   {'Name': 'validation:f1_binary',\n",
       "    'Regex': '.*\\\\[[0-9]+\\\\].*#011validation-f1_binary:([-+]?[0-9]*\\\\.?[0-9]+(?:[eE][-+]?[0-9]+)?).*'},\n",
       "   {'Name': 'validation:mae',\n",
       "    'Regex': '.*\\\\[[0-9]+\\\\].*#011validation-mae:([-+]?[0-9]*\\\\.?[0-9]+(?:[eE][-+]?[0-9]+)?).*'},\n",
       "   {'Name': 'validation:logloss',\n",
       "    'Regex': '.*\\\\[[0-9]+\\\\].*#011validation-logloss:([-+]?[0-9]*\\\\.?[0-9]+(?:[eE][-+]?[0-9]+)?).*'},\n",
       "   {'Name': 'validation:f1',\n",
       "    'Regex': '.*\\\\[[0-9]+\\\\].*#011validation-f1:([-+]?[0-9]*\\\\.?[0-9]+(?:[eE][-+]?[0-9]+)?).*'},\n",
       "   {'Name': 'train:accuracy',\n",
       "    'Regex': '.*\\\\[[0-9]+\\\\].*#011train-accuracy:([-+]?[0-9]*\\\\.?[0-9]+(?:[eE][-+]?[0-9]+)?).*'},\n",
       "   {'Name': 'train:mse',\n",
       "    'Regex': '.*\\\\[[0-9]+\\\\].*#011train-mse:([-+]?[0-9]*\\\\.?[0-9]+(?:[eE][-+]?[0-9]+)?).*'},\n",
       "   {'Name': 'validation:recall',\n",
       "    'Regex': '.*\\\\[[0-9]+\\\\].*#011validation-recall:([-+]?[0-9]*\\\\.?[0-9]+(?:[eE][-+]?[0-9]+)?).*'},\n",
       "   {'Name': 'validation:poisson-nloglik',\n",
       "    'Regex': '.*\\\\[[0-9]+\\\\].*#011validation-poisson-nloglik:([-+]?[0-9]*\\\\.?[0-9]+(?:[eE][-+]?[0-9]+)?).*'},\n",
       "   {'Name': 'validation:precision',\n",
       "    'Regex': '.*\\\\[[0-9]+\\\\].*#011validation-precision:([-+]?[0-9]*\\\\.?[0-9]+(?:[eE][-+]?[0-9]+)?).*'},\n",
       "   {'Name': 'train:error',\n",
       "    'Regex': '.*\\\\[[0-9]+\\\\].*#011train-error:([-+]?[0-9]*\\\\.?[0-9]+(?:[eE][-+]?[0-9]+)?).*'},\n",
       "   {'Name': 'train:ndcg',\n",
       "    'Regex': '.*\\\\[[0-9]+\\\\].*#011train-ndcg:([-+]?[0-9]*\\\\.?[0-9]+(?:[eE][-+]?[0-9]+)?).*'},\n",
       "   {'Name': 'validation:map',\n",
       "    'Regex': '.*\\\\[[0-9]+\\\\].*#011validation-map:([-+]?[0-9]*\\\\.?[0-9]+(?:[eE][-+]?[0-9]+)?).*'},\n",
       "   {'Name': 'train:f1_binary',\n",
       "    'Regex': '.*\\\\[[0-9]+\\\\].*#011train-f1_binary:([-+]?[0-9]*\\\\.?[0-9]+(?:[eE][-+]?[0-9]+)?).*'},\n",
       "   {'Name': 'validation:auc',\n",
       "    'Regex': '.*\\\\[[0-9]+\\\\].*#011validation-auc:([-+]?[0-9]*\\\\.?[0-9]+(?:[eE][-+]?[0-9]+)?).*'},\n",
       "   {'Name': 'train:auc',\n",
       "    'Regex': '.*\\\\[[0-9]+\\\\].*#011train-auc:([-+]?[0-9]*\\\\.?[0-9]+(?:[eE][-+]?[0-9]+)?).*'},\n",
       "   {'Name': 'validation:error',\n",
       "    'Regex': '.*\\\\[[0-9]+\\\\].*#011validation-error:([-+]?[0-9]*\\\\.?[0-9]+(?:[eE][-+]?[0-9]+)?).*'},\n",
       "   {'Name': 'train:poisson-nloglik',\n",
       "    'Regex': '.*\\\\[[0-9]+\\\\].*#011train-poisson-nloglik:([-+]?[0-9]*\\\\.?[0-9]+(?:[eE][-+]?[0-9]+)?).*'},\n",
       "   {'Name': 'train:rmse',\n",
       "    'Regex': '.*\\\\[[0-9]+\\\\].*#011train-rmse:([-+]?[0-9]*\\\\.?[0-9]+(?:[eE][-+]?[0-9]+)?).*'},\n",
       "   {'Name': 'train:logloss',\n",
       "    'Regex': '.*\\\\[[0-9]+\\\\].*#011train-logloss:([-+]?[0-9]*\\\\.?[0-9]+(?:[eE][-+]?[0-9]+)?).*'},\n",
       "   {'Name': 'validation:accuracy',\n",
       "    'Regex': '.*\\\\[[0-9]+\\\\].*#011validation-accuracy:([-+]?[0-9]*\\\\.?[0-9]+(?:[eE][-+]?[0-9]+)?).*'},\n",
       "   {'Name': 'train:aucpr',\n",
       "    'Regex': '.*\\\\[[0-9]+\\\\].*#011train-aucpr:([-+]?[0-9]*\\\\.?[0-9]+(?:[eE][-+]?[0-9]+)?).*'},\n",
       "   {'Name': 'validation:balanced_accuracy',\n",
       "    'Regex': '.*\\\\[[0-9]+\\\\].*#011validation-balanced_accuracy:([-+]?[0-9]*\\\\.?[0-9]+(?:[eE][-+]?[0-9]+)?).*'},\n",
       "   {'Name': 'validation:rmse',\n",
       "    'Regex': '.*\\\\[[0-9]+\\\\].*#011validation-rmse:([-+]?[0-9]*\\\\.?[0-9]+(?:[eE][-+]?[0-9]+)?).*'},\n",
       "   {'Name': 'validation:mse',\n",
       "    'Regex': '.*\\\\[[0-9]+\\\\].*#011validation-mse:([-+]?[0-9]*\\\\.?[0-9]+(?:[eE][-+]?[0-9]+)?).*'},\n",
       "   {'Name': 'validation:ndcg',\n",
       "    'Regex': '.*\\\\[[0-9]+\\\\].*#011validation-ndcg:([-+]?[0-9]*\\\\.?[0-9]+(?:[eE][-+]?[0-9]+)?).*'},\n",
       "   {'Name': 'train:f1',\n",
       "    'Regex': '.*\\\\[[0-9]+\\\\].*#011train-f1:([-+]?[0-9]*\\\\.?[0-9]+(?:[eE][-+]?[0-9]+)?).*'},\n",
       "   {'Name': 'train:map',\n",
       "    'Regex': '.*\\\\[[0-9]+\\\\].*#011train-map:([-+]?[0-9]*\\\\.?[0-9]+(?:[eE][-+]?[0-9]+)?).*'}],\n",
       "  'EnableSageMakerMetricsTimeSeries': False},\n",
       " 'RoleArn': 'arn:aws:iam::470086202700:role/sagemaker-developers',\n",
       " 'InputDataConfig': [{'ChannelName': 'train',\n",
       "   'DataSource': {'S3DataSource': {'S3DataType': 'S3Prefix',\n",
       "     'S3Uri': 's3://sagemaker-us-east-1-470086202700/xgboost-fraud/train',\n",
       "     'S3DataDistributionType': 'FullyReplicated'}},\n",
       "   'ContentType': 'csv',\n",
       "   'CompressionType': 'None',\n",
       "   'RecordWrapperType': 'None'},\n",
       "  {'ChannelName': 'validation',\n",
       "   'DataSource': {'S3DataSource': {'S3DataType': 'S3Prefix',\n",
       "     'S3Uri': 's3://sagemaker-us-east-1-470086202700/xgboost-fraud/validation/',\n",
       "     'S3DataDistributionType': 'FullyReplicated'}},\n",
       "   'ContentType': 'csv',\n",
       "   'CompressionType': 'None',\n",
       "   'RecordWrapperType': 'None'}],\n",
       " 'OutputDataConfig': {'KmsKeyId': '',\n",
       "  'S3OutputPath': 's3://sagemaker-us-east-1-470086202700/xgboost-fraud/output',\n",
       "  'CompressionType': 'GZIP'},\n",
       " 'ResourceConfig': {'InstanceType': 'ml.m4.xlarge',\n",
       "  'InstanceCount': 1,\n",
       "  'VolumeSizeInGB': 30},\n",
       " 'StoppingCondition': {'MaxRuntimeInSeconds': 86400},\n",
       " 'CreationTime': datetime.datetime(2024, 1, 8, 22, 21, 12, 769000, tzinfo=tzlocal()),\n",
       " 'TrainingStartTime': datetime.datetime(2024, 1, 8, 22, 22, 55, 275000, tzinfo=tzlocal()),\n",
       " 'TrainingEndTime': datetime.datetime(2024, 1, 8, 22, 25, 57, 860000, tzinfo=tzlocal()),\n",
       " 'LastModifiedTime': datetime.datetime(2024, 1, 8, 22, 25, 58, 491000, tzinfo=tzlocal()),\n",
       " 'SecondaryStatusTransitions': [{'Status': 'Starting',\n",
       "   'StartTime': datetime.datetime(2024, 1, 8, 22, 21, 12, 769000, tzinfo=tzlocal()),\n",
       "   'EndTime': datetime.datetime(2024, 1, 8, 22, 22, 55, 275000, tzinfo=tzlocal()),\n",
       "   'StatusMessage': 'Preparing the instances for training'},\n",
       "  {'Status': 'Downloading',\n",
       "   'StartTime': datetime.datetime(2024, 1, 8, 22, 22, 55, 275000, tzinfo=tzlocal()),\n",
       "   'EndTime': datetime.datetime(2024, 1, 8, 22, 24, 41, 322000, tzinfo=tzlocal()),\n",
       "   'StatusMessage': 'Downloading the training image'},\n",
       "  {'Status': 'Training',\n",
       "   'StartTime': datetime.datetime(2024, 1, 8, 22, 24, 41, 322000, tzinfo=tzlocal()),\n",
       "   'EndTime': datetime.datetime(2024, 1, 8, 22, 25, 41, 881000, tzinfo=tzlocal()),\n",
       "   'StatusMessage': 'Training image download completed. Training in progress.'},\n",
       "  {'Status': 'Uploading',\n",
       "   'StartTime': datetime.datetime(2024, 1, 8, 22, 25, 41, 881000, tzinfo=tzlocal()),\n",
       "   'EndTime': datetime.datetime(2024, 1, 8, 22, 25, 57, 860000, tzinfo=tzlocal()),\n",
       "   'StatusMessage': 'Uploading generated training model'},\n",
       "  {'Status': 'Completed',\n",
       "   'StartTime': datetime.datetime(2024, 1, 8, 22, 25, 57, 860000, tzinfo=tzlocal()),\n",
       "   'EndTime': datetime.datetime(2024, 1, 8, 22, 25, 57, 860000, tzinfo=tzlocal()),\n",
       "   'StatusMessage': 'Training job completed'}],\n",
       " 'FinalMetricDataList': [{'MetricName': 'validation:logloss',\n",
       "   'Value': 0.0025400000158697367,\n",
       "   'Timestamp': datetime.datetime(2024, 1, 8, 22, 25, 41, tzinfo=tzlocal())},\n",
       "  {'MetricName': 'train:logloss',\n",
       "   'Value': 0.0011099999537691474,\n",
       "   'Timestamp': datetime.datetime(2024, 1, 8, 22, 25, 41, tzinfo=tzlocal())}],\n",
       " 'EnableNetworkIsolation': False,\n",
       " 'EnableInterContainerTrafficEncryption': False,\n",
       " 'EnableManagedSpotTraining': False,\n",
       " 'TrainingTimeInSeconds': 182,\n",
       " 'BillableTimeInSeconds': 182,\n",
       " 'DebugHookConfig': {'S3OutputPath': 's3://sagemaker-us-east-1-470086202700/xgboost-fraud/output',\n",
       "  'CollectionConfigurations': []},\n",
       " 'ProfilerConfig': {'S3OutputPath': 's3://sagemaker-us-east-1-470086202700/xgboost-fraud/output',\n",
       "  'ProfilingIntervalInMilliseconds': 500,\n",
       "  'DisableProfiler': False},\n",
       " 'ProfilingStatus': 'Enabled',\n",
       " 'ResponseMetadata': {'RequestId': 'd6967db0-1d7c-451f-b809-47f396b8f0e1',\n",
       "  'HTTPStatusCode': 200,\n",
       "  'HTTPHeaders': {'x-amzn-requestid': 'd6967db0-1d7c-451f-b809-47f396b8f0e1',\n",
       "   'content-type': 'application/x-amz-json-1.1',\n",
       "   'content-length': '6905',\n",
       "   'date': 'Tue, 09 Jan 2024 00:26:39 GMT'},\n",
       "  'RetryAttempts': 0}}"
      ]
     },
     "execution_count": 101,
     "metadata": {},
     "output_type": "execute_result"
    }
   ],
   "source": [
    "training_job_xgboost_info "
   ]
  },
  {
   "cell_type": "markdown",
   "id": "56eb7857",
   "metadata": {},
   "source": [
    "## Registering Code Artifacts"
   ]
  },
  {
   "cell_type": "code",
   "execution_count": 102,
   "id": "051c4244",
   "metadata": {},
   "outputs": [],
   "source": [
    "# extract the training code uri and check if it's an exisiting artifact\n",
    "code_s3_uri = training_job_xgboost_info[\"AlgorithmSpecification\"]['TrainingImage']"
   ]
  },
  {
   "cell_type": "code",
   "execution_count": 103,
   "id": "81480c59",
   "metadata": {},
   "outputs": [
    {
     "data": {
      "text/plain": [
       "'683313688378.dkr.ecr.us-east-1.amazonaws.com/sagemaker-xgboost:1.7-1'"
      ]
     },
     "execution_count": 103,
     "metadata": {},
     "output_type": "execute_result"
    }
   ],
   "source": [
    "code_s3_uri"
   ]
  },
  {
   "cell_type": "code",
   "execution_count": 104,
   "id": "de55a7bb",
   "metadata": {},
   "outputs": [],
   "source": [
    "matching_artifacts = list(sagemaker.lineage.artifact.Artifact.list(source_uri=code_s3_uri, sagemaker_session=sess))"
   ]
  },
  {
   "cell_type": "code",
   "execution_count": 106,
   "id": "c159d97a",
   "metadata": {},
   "outputs": [
    {
     "name": "stdout",
     "output_type": "stream",
     "text": [
      "Using existing artifact: arn:aws:sagemaker:us-east-1:470086202700:artifact/9d7522c83447ffcca9ada42e3dbcd2cb\n"
     ]
    }
   ],
   "source": [
    "# use existing arifact if it's already been created, otherwise create a new artifact\n",
    "if matching_artifacts:\n",
    "    code_artifact = matching_artifacts[0]\n",
    "    print(f\"Using existing artifact: {code_artifact.artifact_arn}\")\n",
    "else:\n",
    "    code_artifact = sagemaker.lineage.artifact.Artifact.create(\n",
    "        artifact_name=\"TrainingImage\",\n",
    "        source_uri=code_s3_uri,\n",
    "        artifact_type=\"Code\",\n",
    "        sagemaker_session=sess,\n",
    "    )\n",
    "    print(f\"Create artifact {code_artifact.artifact_arn}: SUCCESSFUL\")"
   ]
  },
  {
   "cell_type": "markdown",
   "id": "025eb3ae",
   "metadata": {},
   "source": [
    "## Registering Training data artifact"
   ]
  },
  {
   "cell_type": "code",
   "execution_count": 109,
   "id": "65302f19",
   "metadata": {},
   "outputs": [],
   "source": [
    "training_data_s3_uri = training_job_xgboost_info[\"InputDataConfig\"][0][\"DataSource\"][\"S3DataSource\"][\"S3Uri\"]"
   ]
  },
  {
   "cell_type": "code",
   "execution_count": 110,
   "id": "415a78b3",
   "metadata": {},
   "outputs": [
    {
     "data": {
      "text/plain": [
       "'s3://sagemaker-us-east-1-470086202700/xgboost-fraud/train'"
      ]
     },
     "execution_count": 110,
     "metadata": {},
     "output_type": "execute_result"
    }
   ],
   "source": [
    "training_data_s3_uri"
   ]
  },
  {
   "cell_type": "code",
   "execution_count": 111,
   "id": "f15c3a55",
   "metadata": {},
   "outputs": [
    {
     "name": "stdout",
     "output_type": "stream",
     "text": [
      "Using existing artifact: arn:aws:sagemaker:us-east-1:470086202700:artifact/9c29ddda99823962f0345a01f710422b\n"
     ]
    }
   ],
   "source": [
    "matching_artifacts = list(sagemaker.lineage.artifact.Artifact.list(source_uri=training_data_s3_uri, sagemaker_session=sess))\n",
    "\n",
    "if matching_artifacts:\n",
    "    training_data_artifact = matching_artifacts[0]\n",
    "    print(f\"Using existing artifact: {training_data_artifact.artifact_arn}\")\n",
    "else:\n",
    "    training_data_artifact = sagemaker.lineage.artifact.Artifact.create(\n",
    "        artifact_name=\"TrainingData\",\n",
    "        source_uri=training_data_s3_uri,\n",
    "        artifact_type=\"Dataset\",\n",
    "        sagemaker_session=sess,\n",
    "    )\n",
    "    print(f\"Create artifact {training_data_artifact.artifact_arn}: SUCCESSFUL\")"
   ]
  },
  {
   "cell_type": "markdown",
   "id": "8eca96f0",
   "metadata": {},
   "source": [
    "## Registering validation data artifact"
   ]
  },
  {
   "cell_type": "code",
   "execution_count": 112,
   "id": "c12ac87f",
   "metadata": {},
   "outputs": [],
   "source": [
    "validation_data_s3_uri = training_job_xgboost_info[\"InputDataConfig\"][1][\"DataSource\"][\"S3DataSource\"][\"S3Uri\"]"
   ]
  },
  {
   "cell_type": "code",
   "execution_count": 114,
   "id": "46bef899",
   "metadata": {},
   "outputs": [
    {
     "data": {
      "text/plain": [
       "'s3://sagemaker-us-east-1-470086202700/xgboost-fraud/validation/'"
      ]
     },
     "execution_count": 114,
     "metadata": {},
     "output_type": "execute_result"
    }
   ],
   "source": [
    "validation_data_s3_uri"
   ]
  },
  {
   "cell_type": "code",
   "execution_count": 115,
   "id": "ce51f87a",
   "metadata": {},
   "outputs": [
    {
     "name": "stdout",
     "output_type": "stream",
     "text": [
      "Using existing artifact: arn:aws:sagemaker:us-east-1:470086202700:artifact/3e45d98d033fa0793141ed1e9c9361d2\n"
     ]
    }
   ],
   "source": [
    "matching_artifacts = list(sagemaker.lineage.artifact.Artifact.list(source_uri=validation_data_s3_uri, sagemaker_session=sess))\n",
    "\n",
    "if matching_artifacts:\n",
    "    validation_data_artifact = matching_artifacts[0]\n",
    "    print(f\"Using existing artifact: {validation_data_artifact.artifact_arn}\")\n",
    "else:\n",
    "    training_data_artifact = sagemaker.lineage.artifact.Artifact.create(\n",
    "        artifact_name=\"ValidationData\",\n",
    "        source_uri=validation_data_s3_uri,\n",
    "        artifact_type=\"Dataset\",\n",
    "        sagemaker_session=sess,\n",
    "    )\n",
    "    print(f\"Create artifact {training_data_artifact.artifact_arn}: SUCCESSFUL\")"
   ]
  },
  {
   "cell_type": "markdown",
   "id": "e865a1a8",
   "metadata": {},
   "source": [
    "## Registering HP Artifacts"
   ]
  },
  {
   "cell_type": "code",
   "execution_count": 146,
   "id": "d0eca8b1",
   "metadata": {},
   "outputs": [],
   "source": [
    "hp_params=json.dumps(training_job_xgboost_info['HyperParameters'])\n",
    "# Upload the hyperparameters JSON to S3\n",
    "hp_key=f\"{prefix}/hp.json\"\n",
    "s3.put_object(Bucket=bucket_name, Key=hp_key, Body=hp_params)\n",
    "# The source URI for the artifact\n",
    "source_uri = f's3://{bucket_name}/{hp_key}'"
   ]
  },
  {
   "cell_type": "code",
   "execution_count": 147,
   "id": "f68e4985",
   "metadata": {},
   "outputs": [
    {
     "data": {
      "text/plain": [
       "'s3://sagemaker-us-east-1-470086202700/xgboost-fraud/hp.json'"
      ]
     },
     "execution_count": 147,
     "metadata": {},
     "output_type": "execute_result"
    }
   ],
   "source": [
    "source_uri"
   ]
  },
  {
   "cell_type": "code",
   "execution_count": 148,
   "id": "309f90fd",
   "metadata": {},
   "outputs": [
    {
     "name": "stdout",
     "output_type": "stream",
     "text": [
      "Created new artifact arn:aws:sagemaker:us-east-1:470086202700:artifact/c8b1ea6afc0c3bac4a7aed9b19131a12: SUCCESSFUL\n"
     ]
    }
   ],
   "source": [
    "# Check for existing artifacts\n",
    "matching_artifacts = list(sagemaker.lineage.artifact.Artifact.list(source_uri=source_uri, sagemaker_session=sess))\n",
    "\n",
    "if matching_artifacts:\n",
    "    hp_artifact = matching_artifacts[0]\n",
    "    print(f\"Using existing artifact: {hp_artifact.artifact_arn}\")\n",
    "else:\n",
    "    hp_artifact = sagemaker.lineage.artifact.Artifact.create(\n",
    "        artifact_name=\"HP\",\n",
    "        source_uri=source_uri,\n",
    "        artifact_type=\"HyperParameters\",\n",
    "        sagemaker_session=sess,\n",
    "    )\n",
    "    print(f\"Created new artifact {hp_artifact.artifact_arn}: SUCCESSFUL\")"
   ]
  },
  {
   "cell_type": "markdown",
   "id": "e3ccfa97",
   "metadata": {},
   "source": [
    "## Registering model artifacts"
   ]
  },
  {
   "cell_type": "code",
   "execution_count": 117,
   "id": "5b5a2c49",
   "metadata": {},
   "outputs": [],
   "source": [
    "trained_model_s3_uri = training_job_xgboost_info[\"ModelArtifacts\"][\"S3ModelArtifacts\"]"
   ]
  },
  {
   "cell_type": "code",
   "execution_count": 118,
   "id": "ba10e2bf",
   "metadata": {},
   "outputs": [
    {
     "data": {
      "text/plain": [
       "'s3://sagemaker-us-east-1-470086202700/xgboost-fraud/output/sagemaker-xgboost-2024-01-08-22-21-12-629/output/model.tar.gz'"
      ]
     },
     "execution_count": 118,
     "metadata": {},
     "output_type": "execute_result"
    }
   ],
   "source": [
    "trained_model_s3_uri"
   ]
  },
  {
   "cell_type": "code",
   "execution_count": 119,
   "id": "af09e28f",
   "metadata": {},
   "outputs": [
    {
     "name": "stdout",
     "output_type": "stream",
     "text": [
      "Using existing artifact: arn:aws:sagemaker:us-east-1:470086202700:artifact/5901727180a2fa63b4e0eb08775a24cc\n"
     ]
    }
   ],
   "source": [
    "matching_artifacts = list(sagemaker.lineage.artifact.Artifact.list(source_uri=trained_model_s3_uri, sagemaker_session=sess))\n",
    "\n",
    "if matching_artifacts:\n",
    "    model_artifact = matching_artifacts[0]\n",
    "    print(f\"Using existing artifact: {model_artifact.artifact_arn}\")\n",
    "else:\n",
    "    model_artifact = sagemaker.lineage.artifact.Artifact.create(\n",
    "        artifact_name=\"TrainedModel\",\n",
    "        source_uri=trained_model_s3_uri,\n",
    "        artifact_type=\"Model\",\n",
    "        sagemaker_session=sess,\n",
    "    )\n",
    "    print(f\"Create artifact {model_artifact.artifact_arn}: SUCCESSFUL\")"
   ]
  },
  {
   "cell_type": "markdown",
   "id": "f9a152d8",
   "metadata": {},
   "source": [
    "## Assoiciate artifacts"
   ]
  },
  {
   "cell_type": "code",
   "execution_count": 152,
   "id": "375ac2ed",
   "metadata": {},
   "outputs": [],
   "source": [
    "trial_component = sagemaker_boto_client.describe_trial_component(TrialComponentName=training_job_name + \"-aws-training-job\")\n",
    "trial_component_arn = trial_component[\"TrialComponentArn\"]"
   ]
  },
  {
   "cell_type": "code",
   "execution_count": 153,
   "id": "34e37dbe",
   "metadata": {},
   "outputs": [
    {
     "data": {
      "text/plain": [
       "'arn:aws:sagemaker:us-east-1:470086202700:experiment-trial-component/sagemaker-xgboost-2024-01-08-22-21-12-629-aws-training-job'"
      ]
     },
     "execution_count": 153,
     "metadata": {},
     "output_type": "execute_result"
    }
   ],
   "source": [
    "trial_component_arn"
   ]
  },
  {
   "cell_type": "code",
   "execution_count": 154,
   "id": "a48bcd44",
   "metadata": {},
   "outputs": [
    {
     "name": "stdout",
     "output_type": "stream",
     "text": [
      "Association already exists with Image\n",
      "Association already exists with DataSet\n",
      "Association already exists with DataSet\n",
      "Association already exists with HyperParameters\n"
     ]
    }
   ],
   "source": [
    "input_artifacts = [code_artifact, training_data_artifact,validation_data_artifact,hp_artifact]\n",
    "\n",
    "for a in input_artifacts:\n",
    "    try:\n",
    "        sagemaker.lineage.association.Association.create(\n",
    "            source_arn=a.artifact_arn,\n",
    "            destination_arn=trial_component_arn,\n",
    "            association_type=\"ContributedTo\",\n",
    "            sagemaker_session=sess,\n",
    "        )\n",
    "        print(f\"Association with {a.artifact_type}: SUCCEESFUL\")\n",
    "    except:\n",
    "        print(f\"Association already exists with {a.artifact_type}\")"
   ]
  },
  {
   "cell_type": "code",
   "execution_count": 144,
   "id": "2c1e9e1d",
   "metadata": {},
   "outputs": [
    {
     "name": "stdout",
     "output_type": "stream",
     "text": [
      "Association with Model: SUCCESSFUL\n"
     ]
    }
   ],
   "source": [
    "output_artifacts = [model_artifact]\n",
    "for a in output_artifacts:\n",
    "    try:\n",
    "        sagemaker.lineage.association.Association.create(\n",
    "            source_arn=a.artifact_arn,\n",
    "            destination_arn=trial_component_arn,\n",
    "            association_type=\"Produced\",\n",
    "            sagemaker_session=sess,\n",
    "        )\n",
    "        print(f\"Association with {a.artifact_type}: SUCCESSFUL\")\n",
    "    except:\n",
    "        print(f\"Association already exists with {a.artifact_type}\")"
   ]
  },
  {
   "cell_type": "markdown",
   "id": "376c3f2b",
   "metadata": {},
   "source": [
    "## Fairness and bias using Amazon clarify "
   ]
  },
  {
   "cell_type": "code",
   "execution_count": 159,
   "id": "bb7e4de0",
   "metadata": {},
   "outputs": [],
   "source": [
    "train_data=\"s3://{}/{}/train\".format(bucket_name, prefix)"
   ]
  },
  {
   "cell_type": "code",
   "execution_count": 160,
   "id": "fe631a7c",
   "metadata": {},
   "outputs": [
    {
     "data": {
      "text/plain": [
       "'s3://sagemaker-us-east-1-470086202700/xgboost-fraud/train'"
      ]
     },
     "execution_count": 160,
     "metadata": {},
     "output_type": "execute_result"
    }
   ],
   "source": [
    "train_data"
   ]
  },
  {
   "cell_type": "code",
   "execution_count": 212,
   "id": "4ed2df8f",
   "metadata": {},
   "outputs": [],
   "source": [
    "#train_cols = wr.s3.read_csv(training_data_s3_uri).columns.to_list()\n",
    "train_cols = model_data.columns.to_list()\n"
   ]
  },
  {
   "cell_type": "code",
   "execution_count": 213,
   "id": "91693135",
   "metadata": {},
   "outputs": [
    {
     "name": "stderr",
     "output_type": "stream",
     "text": [
      "INFO:sagemaker.image_uris:Defaulting to the only supported framework/algorithm version: 1.0.\n",
      "INFO:sagemaker.image_uris:Ignoring unnecessary instance type: None.\n"
     ]
    }
   ],
   "source": [
    "clarify_processor = sagemaker.clarify.SageMakerClarifyProcessor(\n",
    "    role=sagemaker_iam_role,\n",
    "    instance_count=1,\n",
    "    instance_type=\"ml.c4.xlarge\",\n",
    "    sagemaker_session=sess,\n",
    ")"
   ]
  },
  {
   "cell_type": "code",
   "execution_count": 214,
   "id": "522d91f6",
   "metadata": {},
   "outputs": [],
   "source": [
    "bias_report_1_output_path = f\"s3://{bucket_name}/{prefix}/clarify-output/bias_1\""
   ]
  },
  {
   "cell_type": "code",
   "execution_count": 215,
   "id": "fd9de05f",
   "metadata": {},
   "outputs": [
    {
     "data": {
      "text/plain": [
       "'s3://sagemaker-us-east-1-470086202700/xgboost-fraud/clarify-output/bias_1'"
      ]
     },
     "execution_count": 215,
     "metadata": {},
     "output_type": "execute_result"
    }
   ],
   "source": [
    "bias_report_1_output_path"
   ]
  },
  {
   "cell_type": "code",
   "execution_count": 216,
   "id": "ba6d2378",
   "metadata": {},
   "outputs": [],
   "source": [
    "bias_data_config = sagemaker.clarify.DataConfig(\n",
    "    s3_data_input_path=s3_train_data,\n",
    "    s3_output_path=bias_report_1_output_path,\n",
    "    label=\"class\",\n",
    "    headers=train_cols,\n",
    "    dataset_type=\"text/csv\",\n",
    ")"
   ]
  },
  {
   "cell_type": "code",
   "execution_count": 217,
   "id": "62581aa9",
   "metadata": {},
   "outputs": [
    {
     "name": "stdout",
     "output_type": "stream",
     "text": [
      "Model sagemaker-xgboost-2024-01-08-22-51-48-221 already exists.\n"
     ]
    }
   ],
   "source": [
    "model_1_name = f\"sagemaker-xgboost\"\n",
    "model_matches = sagemaker_boto_client.list_models(NameContains=model_1_name)[\"Models\"]\n",
    "\n",
    "if not model_matches:\n",
    "    model_1 = sagemaker_session.create_model_from_job(\n",
    "        name=model_1_name,\n",
    "        training_job_name=training_job_1_info[\"TrainingJobName\"],\n",
    "        role=sagemaker_role,\n",
    "        image_uri=training_job_1_info[\"AlgorithmSpecification\"][\"TrainingImage\"],\n",
    "    )\n",
    "else:\n",
    "    model_1_name=model_matches[0]['ModelName']\n",
    "    print(f\"Model {model_1_name} already exists.\")"
   ]
  },
  {
   "cell_type": "code",
   "execution_count": 218,
   "id": "90bc3f5c",
   "metadata": {},
   "outputs": [
    {
     "data": {
      "text/plain": [
       "'sagemaker-xgboost-2024-01-08-22-51-48-221'"
      ]
     },
     "execution_count": 218,
     "metadata": {},
     "output_type": "execute_result"
    }
   ],
   "source": [
    "train_instance_type = \"ml.m4.xlarge\"\n",
    "model_1_name"
   ]
  },
  {
   "cell_type": "code",
   "execution_count": 219,
   "id": "c7465daf",
   "metadata": {},
   "outputs": [],
   "source": [
    "model_config = sagemaker.clarify.ModelConfig(\n",
    "    model_name=model_1_name,\n",
    "    instance_type=train_instance_type,\n",
    "    instance_count=1,\n",
    "    accept_type=\"text/csv\",\n",
    ")"
   ]
  },
  {
   "cell_type": "code",
   "execution_count": 220,
   "id": "73e6dbee",
   "metadata": {},
   "outputs": [],
   "source": [
    "predictions_config = sagemaker.clarify.ModelPredictedLabelConfig(probability_threshold=0.5)"
   ]
  },
  {
   "cell_type": "code",
   "execution_count": 221,
   "id": "f2e4778f",
   "metadata": {},
   "outputs": [],
   "source": [
    "from sagemaker.clarify import BiasConfig\n",
    "\n",
    "time_threshold = int(time) \n",
    "\n",
    "bias_config = BiasConfig(\n",
    "    label_values_or_threshold=[0],  # Assuming 0 is the value of interest for your label\n",
    "    facet_name=\"time\",          # Replace with your time feature column name\n",
    "    facet_values_or_threshold=[time_threshold],\n",
    ")"
   ]
  },
  {
   "cell_type": "code",
   "execution_count": 222,
   "id": "b6a493d4",
   "metadata": {},
   "outputs": [
    {
     "name": "stderr",
     "output_type": "stream",
     "text": [
      "INFO:sagemaker.clarify:Analysis Config: {'dataset_type': 'text/csv', 'headers': ['class', 'time', 'v1', 'v2', 'v3', 'v4', 'v5', 'v6', 'v7', 'v8', 'v9', 'v10', 'v11', 'v12', 'v13', 'v14', 'v15', 'v16', 'v17', 'v18', 'v19', 'v20', 'v21', 'v22', 'v23', 'v24', 'v25', 'v26', 'v27', 'v28', 'amount'], 'label': 'class', 'label_values_or_threshold': [0], 'facet': [{'name_or_index': 'time', 'value_or_threshold': [94813]}], 'methods': {'report': {'name': 'report', 'title': 'Analysis Report'}, 'pre_training_bias': {'methods': 'all'}, 'post_training_bias': {'methods': 'all'}}, 'predictor': {'model_name': 'sagemaker-xgboost-2024-01-08-22-51-48-221', 'instance_type': 'ml.m4.xlarge', 'initial_instance_count': 1, 'accept_type': 'text/csv'}, 'probability_threshold': 0.5}\n",
      "INFO:sagemaker:Creating processing-job with name Clarify-Bias-2024-01-09-17-06-59-811\n"
     ]
    },
    {
     "name": "stdout",
     "output_type": "stream",
     "text": [
      "...........................................\u001b[34m2024-01-09 17:14:11,962 logging.conf not found when configuring logging, using default logging configuration.\u001b[0m\n",
      "\u001b[34m2024-01-09 17:14:11,963 Starting SageMaker Clarify Processing job\u001b[0m\n",
      "\u001b[34m2024-01-09 17:14:11,964 Analysis config path: /opt/ml/processing/input/config/analysis_config.json\u001b[0m\n",
      "\u001b[34m2024-01-09 17:14:11,964 Analysis result path: /opt/ml/processing/output\u001b[0m\n",
      "\u001b[34m2024-01-09 17:14:11,965 This host is algo-1.\u001b[0m\n",
      "\u001b[34m2024-01-09 17:14:11,965 This host is the leader.\u001b[0m\n",
      "\u001b[34m2024-01-09 17:14:11,965 Number of hosts in the cluster is 1.\u001b[0m\n",
      "\u001b[34m2024-01-09 17:14:12,223 Running Python / Pandas based analyzer.\u001b[0m\n",
      "\u001b[34m2024-01-09 17:14:12,223 Dataset type: text/csv uri: /opt/ml/processing/input/data\u001b[0m\n",
      "\u001b[34m2024-01-09 17:14:12,235 Loading dataset...\u001b[0m\n",
      "\u001b[34m/usr/local/lib/python3.9/site-packages/analyzer/data_loading/csv_data_loader.py:336: FutureWarning: The frame.append method is deprecated and will be removed from pandas in a future version. Use pandas.concat instead.\n",
      "  df = df.append(df_tmp, ignore_index=True)\u001b[0m\n",
      "\u001b[34m2024-01-09 17:14:13,586 Loaded dataset. Dataset info:\u001b[0m\n",
      "\u001b[34m<class 'pandas.core.frame.DataFrame'>\u001b[0m\n",
      "\u001b[34mRangeIndex: 199364 entries, 0 to 199363\u001b[0m\n",
      "\u001b[34mData columns (total 30 columns):\n",
      " #   Column  Non-Null Count   Dtype  \u001b[0m\n",
      "\u001b[34m---  ------  --------------   -----  \n",
      " 0   time    199364 non-null  float64\n",
      " 1   v1      199364 non-null  float64\n",
      " 2   v2      199364 non-null  float64\n",
      " 3   v3      199364 non-null  float64\n",
      " 4   v4      199364 non-null  float64\n",
      " 5   v5      199364 non-null  float64\n",
      " 6   v6      199364 non-null  float64\n",
      " 7   v7      199364 non-null  float64\n",
      " 8   v8      199364 non-null  float64\n",
      " 9   v9      199364 non-null  float64\n",
      " 10  v10     199364 non-null  float64\n",
      " 11  v11     199364 non-null  float64\n",
      " 12  v12     199364 non-null  float64\n",
      " 13  v13     199364 non-null  float64\n",
      " 14  v14     199364 non-null  float64\n",
      " 15  v15     199364 non-null  float64\n",
      " 16  v16     199364 non-null  float64\n",
      " 17  v17     199364 non-null  float64\n",
      " 18  v18     199364 non-null  float64\n",
      " 19  v19     199364 non-null  float64\n",
      " 20  v20     199364 non-null  float64\n",
      " 21  v21     199364 non-null  float64\n",
      " 22  v22     199364 non-null  float64\n",
      " 23  v23     199364 non-null  float64\n",
      " 24  v24     199364 non-null  float64\n",
      " 25  v25     199364 non-null  float64\n",
      " 26  v26     199364 non-null  float64\n",
      " 27  v27     199364 non-null  float64\n",
      " 28  v28     199364 non-null  float64\n",
      " 29  amount  199364 non-null  float64\u001b[0m\n",
      "\u001b[34mdtypes: float64(30)\u001b[0m\n",
      "\u001b[34mmemory usage: 45.6 MB\u001b[0m\n",
      "\u001b[34m2024-01-09 17:14:13,690 Spinning up shadow endpoint\u001b[0m\n",
      "\u001b[34m2024-01-09 17:14:13,690 Creating endpoint-config with name sm-clarify-config-1704820453-6cc2\u001b[0m\n",
      "\u001b[34m2024-01-09 17:14:13,996 Creating endpoint: 'sm-clarify-sagemaker-xgboost-2024-01-08-22-51-4-1704820453-3bae'\u001b[0m\n",
      "\u001b[34m2024-01-09 17:14:14,058 No endpoints ruleset found for service sagemaker-internal, falling back to legacy endpoint routing.\u001b[0m\n",
      "\u001b[34m2024-01-09 17:14:14,548 Using endpoint name: sm-clarify-sagemaker-xgboost-2024-01-08-22-51-4-1704820453-3bae\u001b[0m\n",
      "\u001b[34m2024-01-09 17:14:14,548 Waiting for endpoint ...\u001b[0m\n",
      "\u001b[34m2024-01-09 17:14:14,548 Checking endpoint status:\u001b[0m\n",
      "\u001b[34mLegend:\u001b[0m\n",
      "\u001b[34m(OutOfService: x, Creating: -, Updating: -, InService: !, RollingBack: <, Deleting: o, Failed: *)\u001b[0m\n",
      "\u001b[34m2024-01-09 17:18:15,279 Endpoint is in service after 241 seconds\u001b[0m\n",
      "\u001b[34m2024-01-09 17:18:15,279 Endpoint ready.\u001b[0m\n",
      "\u001b[34m2024-01-09 17:18:15,279 ======================================\u001b[0m\n",
      "\u001b[34m2024-01-09 17:18:15,279 Calculating post-training bias metrics\u001b[0m\n",
      "\u001b[34m2024-01-09 17:18:15,279 ======================================\u001b[0m\n",
      "\u001b[34m2024-01-09 17:18:15,279 Getting predictions from the endpoint\u001b[0m\n",
      "\u001b[34m2024-01-09 17:18:18,179 Prediction batch size is reduced to 5963 to fit max payload size limit.\u001b[0m\n",
      "\u001b[34m2024-01-09 17:18:20,778 Prediction batch size is reduced to 5963 to fit max payload size limit.\u001b[0m\n",
      "\u001b[34m2024-01-09 17:18:21,923 Prediction batch size is reduced to 5963 to fit max payload size limit.\u001b[0m\n",
      "\u001b[34m2024-01-09 17:18:23,085 Prediction batch size is reduced to 5962 to fit max payload size limit.\u001b[0m\n",
      "\u001b[34m2024-01-09 17:18:30,181 Prediction batch size is reduced to 5962 to fit max payload size limit.\u001b[0m\n",
      "\u001b[34m2024-01-09 17:18:37,216 Prediction batch size is reduced to 5962 to fit max payload size limit.\u001b[0m\n",
      "\u001b[34m2024-01-09 17:18:41,180 Prediction batch size is reduced to 5962 to fit max payload size limit.\u001b[0m\n",
      "\u001b[34m2024-01-09 17:18:43,235 We assume a prediction above 0.500 indicates 1 and below or equal indicates 0.\u001b[0m\n",
      "\u001b[34m2024-01-09 17:18:43,237 Column class with data uniqueness fraction 1.0031901446600189e-05 is classifed as a CATEGORICAL column\u001b[0m\n",
      "\u001b[34m2024-01-09 17:18:43,248 Column time with data uniqueness fraction 0.5373487690856925 is classifed as a CONTINUOUS column\u001b[0m\n",
      "\u001b[34m/usr/local/lib/python3.9/site-packages/smclarify/bias/report.py:591: FutureWarning: In a future version of pandas all arguments of DataFrame.drop except for the argument 'labels' will be keyword-only.\n",
      "  df = df.drop(facet_column.name, 1)\u001b[0m\n",
      "\u001b[34m2024-01-09 17:18:43,295 Column class with data uniqueness fraction 1.0031901446600189e-05 is classifed as a CATEGORICAL column\u001b[0m\n",
      "\u001b[34m2024-01-09 17:18:43,299 Column None with data uniqueness fraction 1.0031901446600189e-05 is classifed as a CATEGORICAL column\u001b[0m\n",
      "\u001b[34m2024-01-09 17:18:43,303 Threshold Interval indices: IntervalIndex([(94813.0, 172792.0]], dtype='interval[float64, right]')\u001b[0m\n",
      "\u001b[34m2024-01-09 17:18:45,533 CDDPL metrics failed\u001b[0m\n",
      "\u001b[34mTraceback (most recent call last):\n",
      "  File \"/usr/local/lib/python3.9/site-packages/smclarify/bias/report.py\", line 357, in _continuous_metric_call_wrapper\n",
      "    metric_value = smclarify.bias.metrics.call_metric(\n",
      "  File \"/usr/local/lib/python3.9/site-packages/smclarify/bias/metrics/__init__.py\", line 27, in call_metric\n",
      "    return metric(**{key: kwargs[key] for key in inspect.signature(metric).parameters.keys()})\n",
      "  File \"/usr/local/lib/python3.9/site-packages/smclarify/bias/metrics/posttraining.py\", line 277, in CDDPL\n",
      "    return common.CDD(feature, sensitive_facet_index, positive_predicted_label_index, group_variable)\n",
      "  File \"/usr/local/lib/python3.9/site-packages/smclarify/bias/metrics/common.py\", line 100, in CDD\n",
      "    raise ValueError(\"Group variable is empty or not provided\")\u001b[0m\n",
      "\u001b[34mValueError: Group variable is empty or not provided\u001b[0m\n",
      "\u001b[34m2024-01-09 17:19:26,502 Calculated global analysis with predictor\u001b[0m\n",
      "\u001b[34m2024-01-09 17:19:26,502 Stop using endpoint: sm-clarify-sagemaker-xgboost-2024-01-08-22-51-4-1704820453-3bae\u001b[0m\n",
      "\u001b[34m2024-01-09 17:19:26,502 Deleting endpoint configuration with name: sm-clarify-config-1704820453-6cc2\u001b[0m\n",
      "\u001b[34m2024-01-09 17:19:26,726 Deleting endpoint with name: sm-clarify-sagemaker-xgboost-2024-01-08-22-51-4-1704820453-3bae\u001b[0m\n",
      "\u001b[34m2024-01-09 17:19:26,824 Model endpoint delivered 0.02808 requests per second and a total of 2 requests over 71 seconds\u001b[0m\n",
      "\u001b[34m2024-01-09 17:19:26,824 =====================================\u001b[0m\n",
      "\u001b[34m2024-01-09 17:19:26,825 Calculating pre-training bias metrics\u001b[0m\n",
      "\u001b[34m2024-01-09 17:19:26,825 =====================================\u001b[0m\n",
      "\u001b[34m2024-01-09 17:19:26,826 Column class with data uniqueness fraction 1.0031901446600189e-05 is classifed as a CATEGORICAL column\u001b[0m\n",
      "\u001b[34m2024-01-09 17:19:26,836 Column time with data uniqueness fraction 0.5373487690856925 is classifed as a CONTINUOUS column\u001b[0m\n",
      "\u001b[34m/usr/local/lib/python3.9/site-packages/smclarify/bias/report.py:591: FutureWarning: In a future version of pandas all arguments of DataFrame.drop except for the argument 'labels' will be keyword-only.\n",
      "  df = df.drop(facet_column.name, 1)\u001b[0m\n",
      "\u001b[34m2024-01-09 17:19:26,854 Column class with data uniqueness fraction 1.0031901446600189e-05 is classifed as a CATEGORICAL column\u001b[0m\n",
      "\u001b[34m2024-01-09 17:19:26,858 Threshold Interval indices: IntervalIndex([(94813.0, 172792.0]], dtype='interval[float64, right]')\u001b[0m\n",
      "\u001b[34m2024-01-09 17:19:27,956 CDDL metrics failed\u001b[0m\n",
      "\u001b[34mTraceback (most recent call last):\n",
      "  File \"/usr/local/lib/python3.9/site-packages/smclarify/bias/report.py\", line 357, in _continuous_metric_call_wrapper\n",
      "    metric_value = smclarify.bias.metrics.call_metric(\n",
      "  File \"/usr/local/lib/python3.9/site-packages/smclarify/bias/metrics/__init__.py\", line 27, in call_metric\n",
      "    return metric(**{key: kwargs[key] for key in inspect.signature(metric).parameters.keys()})\n",
      "  File \"/usr/local/lib/python3.9/site-packages/smclarify/bias/metrics/pretraining.py\", line 195, in CDDL\n",
      "    return common.CDD(feature, sensitive_facet_index, positive_label_index, group_variable)\n",
      "  File \"/usr/local/lib/python3.9/site-packages/smclarify/bias/metrics/common.py\", line 100, in CDD\n",
      "    raise ValueError(\"Group variable is empty or not provided\")\u001b[0m\n",
      "\u001b[34mValueError: Group variable is empty or not provided\u001b[0m\n"
     ]
    },
    {
     "name": "stdout",
     "output_type": "stream",
     "text": [
      "\u001b[34m2024-01-09 17:19:36,418 ======================================\u001b[0m\n",
      "\u001b[34m2024-01-09 17:19:36,418 Calculating bias statistics for report\u001b[0m\n",
      "\u001b[34m2024-01-09 17:19:36,418 ======================================\u001b[0m\n",
      "\u001b[34m2024-01-09 17:19:36,420 Column class with data uniqueness fraction 1.0031901446600189e-05 is classifed as a CATEGORICAL column\u001b[0m\n",
      "\u001b[34m2024-01-09 17:19:36,429 Column time with data uniqueness fraction 0.5373487690856925 is classifed as a CONTINUOUS column\u001b[0m\n",
      "\u001b[34m/usr/local/lib/python3.9/site-packages/smclarify/bias/report.py:591: FutureWarning: In a future version of pandas all arguments of DataFrame.drop except for the argument 'labels' will be keyword-only.\n",
      "  df = df.drop(facet_column.name, 1)\u001b[0m\n",
      "\u001b[34m2024-01-09 17:19:36,446 Column class with data uniqueness fraction 1.0031901446600189e-05 is classifed as a CATEGORICAL column\u001b[0m\n",
      "\u001b[34m2024-01-09 17:19:36,451 Column None with data uniqueness fraction 1.0031901446600189e-05 is classifed as a CATEGORICAL column\u001b[0m\n",
      "\u001b[34m2024-01-09 17:19:36,454 Threshold Interval indices: IntervalIndex([(94813.0, 172792.0]], dtype='interval[float64, right]')\u001b[0m\n",
      "\u001b[34m2024-01-09 17:19:39,744 Column class with data uniqueness fraction 1.0031901446600189e-05 is classifed as a CATEGORICAL column\u001b[0m\n",
      "\u001b[34m2024-01-09 17:19:39,748 Column None with data uniqueness fraction 1.0031901446600189e-05 is classifed as a CATEGORICAL column\u001b[0m\n",
      "\u001b[34m2024-01-09 17:19:39,810 Converting Pandas DataFrame to SparkDataFrame for computing report metadata\u001b[0m\n",
      "\u001b[34m---!17:19:42.555 [main] WARN  o.a.hadoop.util.NativeCodeLoader - Unable to load native-hadoop library for your platform... using builtin-java classes where applicable\u001b[0m\n",
      "\u001b[34m17:20:01.354 [Thread-4] WARN  o.a.spark.sql.catalyst.util.package - Truncated the string representation of a plan since it was too large. This behavior can be adjusted by setting 'spark.sql.debug.maxToStringFields'.\u001b[0m\n",
      "\u001b[34m17:20:02.888 [dispatcher-event-loop-0] WARN  o.a.spark.scheduler.TaskSetManager - Stage 0 contains a task of very large size (13303 KiB). The maximum recommended task size is 1000 KiB.\u001b[0m\n",
      "\u001b[34m17:20:05.625 [dispatcher-event-loop-1] WARN  o.a.spark.scheduler.TaskSetManager - Stage 3 contains a task of very large size (13303 KiB). The maximum recommended task size is 1000 KiB.\u001b[0m\n",
      "\u001b[34m17:20:06.990 [dispatcher-event-loop-2] WARN  o.a.spark.scheduler.TaskSetManager - Stage 9 contains a task of very large size (13303 KiB). The maximum recommended task size is 1000 KiB.\u001b[0m\n",
      "\u001b[34m17:20:07.901 [dispatcher-event-loop-2] WARN  o.a.spark.scheduler.TaskSetManager - Stage 12 contains a task of very large size (13303 KiB). The maximum recommended task size is 1000 KiB.\u001b[0m\n",
      "\u001b[34m17:20:09.154 [dispatcher-event-loop-1] WARN  o.a.spark.scheduler.TaskSetManager - Stage 13 contains a task of very large size (13303 KiB). The maximum recommended task size is 1000 KiB.\u001b[0m\n",
      "\u001b[34m17:20:10.170 [dispatcher-event-loop-3] WARN  o.a.spark.scheduler.TaskSetManager - Stage 19 contains a task of very large size (13303 KiB). The maximum recommended task size is 1000 KiB.\u001b[0m\n",
      "\u001b[34m17:20:10.983 [dispatcher-event-loop-3] WARN  o.a.spark.scheduler.TaskSetManager - Stage 22 contains a task of very large size (13303 KiB). The maximum recommended task size is 1000 KiB.\u001b[0m\n",
      "\u001b[34m17:20:11.907 [dispatcher-event-loop-0] WARN  o.a.spark.scheduler.TaskSetManager - Stage 23 contains a task of very large size (13303 KiB). The maximum recommended task size is 1000 KiB.\u001b[0m\n",
      "\u001b[34m17:20:13.414 [dispatcher-event-loop-1] WARN  o.a.spark.scheduler.TaskSetManager - Stage 29 contains a task of very large size (13303 KiB). The maximum recommended task size is 1000 KiB.\u001b[0m\n",
      "\u001b[34m17:20:14.426 [dispatcher-event-loop-1] WARN  o.a.spark.scheduler.TaskSetManager - Stage 32 contains a task of very large size (13303 KiB). The maximum recommended task size is 1000 KiB.\u001b[0m\n",
      "\u001b[34m17:20:15.277 [dispatcher-event-loop-0] WARN  o.a.spark.scheduler.TaskSetManager - Stage 35 contains a task of very large size (13303 KiB). The maximum recommended task size is 1000 KiB.\u001b[0m\n",
      "\u001b[34m17:20:16.062 [dispatcher-event-loop-0] WARN  o.a.spark.scheduler.TaskSetManager - Stage 38 contains a task of very large size (13303 KiB). The maximum recommended task size is 1000 KiB.\u001b[0m\n",
      "\u001b[34m#015[Stage 0:>                                                          (0 + 4) / 4]#015#015                                                                                #015#015[Stage 3:>                                                          (0 + 4) / 4]#015#015                                                                                #015#015[Stage 9:>                                                          (0 + 4) / 4]#015#015[Stage 9:============================================>              (3 + 1) / 4]#015#015                                                                                #015#015[Stage 12:>                                                         (0 + 4) / 4]#015#015[Stage 12:=============================>                            (2 + 2) / 4]#015#015                                                                                #015#015[Stage 13:>                                                         (0 + 4) / 4]#015#015                                                                                #015#015[Stage 19:>                                                         (0 + 4) / 4]#015#015                                                                                #015#015[Stage 22:>                                                         (0 + 4) / 4]#015#015[Stage 22:=============================>                            (2 + 2) / 4]#015#015                                                                                #015#015[Stage 23:>                                                         (0 + 4) / 4]#015#015[Stage 23:=============================>                            (2 + 2) / 4]#015#015                                                                                #015#015[Stage 29:>                                                         (0 + 4) / 4]#015#015                                                                                #015#015[Stage 32:===========================================>              (3 + 1) / 4]#015#015                                                                                #015#015[Stage 35:>                                                         (0 + 4) / 4]#015#015                                                                                #015#015[Stage 38:>                                                         (0 + 4) / 4]#015#015[Stage 38:=============================>                            (2 + 2) / 4]#015#015                                                                                #0152024-01-09 17:20:17,267 Calculated global analysis without predictor\u001b[0m\n",
      "\u001b[34m2024-01-09 17:20:17,268 Stop using endpoint: None\u001b[0m\n",
      "\u001b[34m2024-01-09 17:20:18,179 ['jupyter', 'nbconvert', '--to', 'html', '--output', '/opt/ml/processing/output/report.html', '/opt/ml/processing/output/report.ipynb', '--template', 'sagemaker-xai']\u001b[0m\n",
      "\u001b[34m[NbConvertApp] Converting notebook /opt/ml/processing/output/report.ipynb to html\u001b[0m\n",
      "\u001b[34m[NbConvertApp] Writing 756396 bytes to /opt/ml/processing/output/report.html\u001b[0m\n",
      "\u001b[34m2024-01-09 17:20:19,442 ['wkhtmltopdf', '-q', '--enable-local-file-access', '/opt/ml/processing/output/report.html', '/opt/ml/processing/output/report.pdf']\u001b[0m\n",
      "\u001b[34m2024-01-09 17:20:20,859 Collected analyses: \u001b[0m\n",
      "\u001b[34m{\n",
      "    \"version\": \"1.0\",\n",
      "    \"post_training_bias_metrics\": {\n",
      "        \"label\": \"class\",\n",
      "        \"facets\": {\n",
      "            \"time\": [\n",
      "                {\n",
      "                    \"value_or_threshold\": \"(94813.0, 172792.0]\",\n",
      "                    \"metrics\": [\n",
      "                        {\n",
      "                            \"name\": \"AD\",\n",
      "                            \"description\": \"Accuracy Difference (AD)\",\n",
      "                            \"value\": -7.784822614764764e-06\n",
      "                        },\n",
      "                        {\n",
      "                            \"name\": \"CDDPL\",\n",
      "                            \"description\": \"Conditional Demographic Disparity in Predicted Labels (CDDPL)\",\n",
      "                            \"value\": null,\n",
      "                            \"error\": \"Group variable is empty or not provided\"\n",
      "                        },\n",
      "                        {\n",
      "                            \"name\": \"DAR\",\n",
      "                            \"description\": \"Difference in Acceptance Rates (DAR)\",\n",
      "                            \"value\": 1.094013733349275e-05\n",
      "                        },\n",
      "                        {\n",
      "                            \"name\": \"DCA\",\n",
      "                            \"description\": \"Difference in Conditional Acceptance (DCA)\",\n",
      "                            \"value\": 2.9866805955958142e-05\n",
      "                        },\n",
      "                        {\n",
      "                            \"name\": \"DCR\",\n",
      "                            \"description\": \"Difference in Conditional Rejection (DCR)\",\n",
      "                            \"value\": 0.10458768317210998\n",
      "                        },\n",
      "                        {\n",
      "                            \"name\": \"DI\",\n",
      "                            \"description\": \"Disparate Impact (DI)\",\n",
      "                            \"value\": 1.0007284249154065\n",
      "                        },\n",
      "                        {\n",
      "                            \"name\": \"DPPL\",\n",
      "                            \"description\": \"Difference in Positive Proportions in Predicted Labels (DPPL)\",\n",
      "                            \"value\": -0.0007270694566432478\n",
      "                        },\n",
      "                        {\n",
      "                            \"name\": \"DRR\",\n",
      "                            \"description\": \"Difference in Rejection Rates (DRR)\",\n",
      "                            \"value\": 0.010152284263959421\n",
      "                        },\n",
      "                        {\n",
      "                            \"name\": \"FT\",\n",
      "                            \"description\": \"Flip Test (FT)\",\n",
      "                            \"value\": 1.0695644733464533e-05\n",
      "                        },\n",
      "                        {\n",
      "                            \"name\": \"GE\",\n",
      "                            \"description\": \"Generalized Entropy (GE)\",\n",
      "                            \"value\": 0.00013032297261946586\n",
      "                        },\n",
      "                        {\n",
      "                            \"name\": \"RD\",\n",
      "                            \"description\": \"Recall Difference (RD)\",\n",
      "                            \"value\": -1.8930968224362132e-05\n",
      "                        },\n",
      "                        {\n",
      "                            \"name\": \"SD\",\n",
      "                            \"description\": \"Specificity Difference (SD)\",\n",
      "                            \"value\": -0.06696832579185519\n",
      "                        },\n",
      "                        {\n",
      "                            \"name\": \"TE\",\n",
      "                            \"description\": \"Treatment Equality (TE)\",\n",
      "                            \"value\": -0.07692307692307693\n",
      "                        }\n",
      "                    ]\n",
      "                }\n",
      "            ]\n",
      "        },\n",
      "        \"label_value_or_threshold\": \"0\"\n",
      "    },\n",
      "    \"pre_training_bias_metrics\": {\n",
      "        \"label\": \"class\",\n",
      "        \"facets\": {\n",
      "            \"time\": [\n",
      "                {\n",
      "                    \"value_or_threshold\": \"(94813.0, 172792.0]\",\n",
      "                    \"metrics\": [\n",
      "                        {\n",
      "                            \"name\": \"CDDL\",\n",
      "                            \"description\": \"Conditional Demographic Disparity in Labels (CDDL)\",\n",
      "                            \"value\": null,\n",
      "                            \"error\": \"Group variable is empty or not provided\"\n",
      "                        },\n",
      "                        {\n",
      "                            \"name\": \"CI\",\n",
      "                            \"description\": \"Class Imbalance (CI)\",\n",
      "                            \"value\": 0.06205734234866877\n",
      "                        },\n",
      "                        {\n",
      "                            \"name\": \"DPL\",\n",
      "                            \"description\": \"Difference in Positive Proportions in Labels (DPL)\",\n",
      "                            \"value\": -0.000697071379798242\n",
      "                        },\n",
      "                        {\n",
      "                            \"name\": \"JS\",\n",
      "                            \"description\": \"Jensen-Shannon Divergence (JS)\",\n",
      "                            \"value\": 3.522643797005285e-05\n",
      "                        },\n",
      "                        {\n",
      "                            \"name\": \"KL\",\n",
      "                            \"description\": \"Kullback-Liebler Divergence (KL)\",\n",
      "                            \"value\": 0.00015143778533256637\n",
      "                        },\n",
      "                        {\n",
      "                            \"name\": \"KS\",\n",
      "                            \"description\": \"Kolmogorov-Smirnov Distance (KS)\",\n",
      "                            \"value\": 0.0006970713797982864\n",
      "                        },\n",
      "                        {\n",
      "                            \"name\": \"LP\",\n",
      "                            \"description\": \"L-p Norm (LP)\",\n",
      "                            \"value\": 0.0009858077992528319\n",
      "                        },\n",
      "                        {\n",
      "                            \"name\": \"TVD\",\n",
      "                            \"description\": \"Total Variation Distance (TVD)\",\n",
      "                            \"value\": 0.0006970713797982642\n",
      "                        }\n",
      "                    ]\n",
      "                }\n",
      "            ]\n",
      "        },\n",
      "        \"label_value_or_threshold\": \"0\"\n",
      "    }\u001b[0m\n",
      "\u001b[34m}\u001b[0m\n",
      "\u001b[34m2024-01-09 17:20:20,860 exit_message: Completed: SageMaker XAI Analyzer ran successfully\u001b[0m\n"
     ]
    },
    {
     "name": "stdout",
     "output_type": "stream",
     "text": [
      "\n"
     ]
    }
   ],
   "source": [
    "if 'clarify_bias_job_1_name' not in locals():\n",
    "    \n",
    "    clarify_processor.run_bias(\n",
    "     data_config=bias_data_config,\n",
    "     bias_config=bias_config,\n",
    "     model_config=model_config,\n",
    "     model_predicted_label_config=predictions_config,\n",
    "     pre_training_methods='all',\n",
    "     post_training_methods='all')\n",
    "    \n",
    "    clarify_bias_job_1_name = clarify_processor.latest_job.name\n",
    "    \n",
    "else:\n",
    "    print(f'Clarify job {clarify_bias_job_name} has already run successfully.')"
   ]
  },
  {
   "cell_type": "code",
   "execution_count": 234,
   "id": "fd8b013d",
   "metadata": {},
   "outputs": [
    {
     "name": "stdout",
     "output_type": "stream",
     "text": [
      "Completed 256.0 KiB/443.0 KiB (2.3 MiB/s) with 1 file(s) remaining\r",
      "Completed 443.0 KiB/443.0 KiB (4.0 MiB/s) with 1 file(s) remaining\r",
      "download: s3://sagemaker-us-east-1-470086202700/xgboost-fraud/clarify-output/bias_1/report.pdf to ./report.pdf\r\n"
     ]
    }
   ],
   "source": [
    "!aws s3 cp s3://{bucket_name}/{prefix}/clarify-output/bias_1/report.pdf ./"
   ]
  },
  {
   "cell_type": "markdown",
   "id": "7545b263",
   "metadata": {},
   "source": [
    "## Group and Register model"
   ]
  },
  {
   "cell_type": "code",
   "execution_count": 237,
   "id": "99edca5a",
   "metadata": {},
   "outputs": [
    {
     "name": "stdout",
     "output_type": "stream",
     "text": [
      "Model Package Group name: fraud-detection\n"
     ]
    }
   ],
   "source": [
    "mpg_name = \"fraud-detection\"\n",
    "print(f\"Model Package Group name: {mpg_name}\")"
   ]
  },
  {
   "cell_type": "code",
   "execution_count": 238,
   "id": "2dc25bfd",
   "metadata": {},
   "outputs": [],
   "source": [
    "mpg_input_dict = {\n",
    "    \"ModelPackageGroupName\": mpg_name,\n",
    "    \"ModelPackageGroupDescription\": \"Credit fraud Detection\",\n",
    "}"
   ]
  },
  {
   "cell_type": "code",
   "execution_count": 239,
   "id": "82d489d2",
   "metadata": {},
   "outputs": [
    {
     "name": "stdout",
     "output_type": "stream",
     "text": [
      "Create Model Package Group fraud-detection: SUCCESSFUL\n",
      "Stored 'mpg_name' (str)\n"
     ]
    }
   ],
   "source": [
    "matching_mpg = sagemaker_boto_client.list_model_package_groups(NameContains=mpg_name)['ModelPackageGroupSummaryList']\n",
    "\n",
    "if matching_mpg:\n",
    "    print(f'Using existing Model Package Group: {mpg_name}')\n",
    "else:\n",
    "    mpg_response = sagemaker_boto_client.create_model_package_group(**mpg_input_dict)\n",
    "    print(f'Create Model Package Group {mpg_name}: SUCCESSFUL')\n",
    "    %store mpg_name"
   ]
  },
  {
   "cell_type": "code",
   "execution_count": 240,
   "id": "9f48b38d",
   "metadata": {},
   "outputs": [],
   "source": [
    "## updated metrics"
   ]
  },
  {
   "cell_type": "code",
   "execution_count": 242,
   "id": "aab5d07f",
   "metadata": {},
   "outputs": [],
   "source": [
    "model_metrics_report = {\"binary_classification_metrics\": {}}\n",
    "for metric in training_job_xgboost_info[\"FinalMetricDataList\"]:\n",
    "    stat = {metric[\"MetricName\"]: {\"value\": metric[\"Value\"], \"standard_deviation\": \"NaN\"}}\n",
    "    model_metrics_report[\"binary_classification_metrics\"].update(stat)"
   ]
  },
  {
   "cell_type": "code",
   "execution_count": 244,
   "id": "ab573d9b",
   "metadata": {},
   "outputs": [
    {
     "data": {
      "text/plain": [
       "{'binary_classification_metrics': {'validation:logloss': {'value': 0.0025400000158697367,\n",
       "   'standard_deviation': 'NaN'},\n",
       "  'train:logloss': {'value': 0.0011099999537691474,\n",
       "   'standard_deviation': 'NaN'}}}"
      ]
     },
     "execution_count": 244,
     "metadata": {},
     "output_type": "execute_result"
    }
   ],
   "source": [
    "model_metrics_report"
   ]
  },
  {
   "cell_type": "code",
   "execution_count": 247,
   "id": "581a3d95",
   "metadata": {},
   "outputs": [],
   "source": [
    "with open(\"training_metrics.json\", \"w\") as f:\n",
    "    json.dump(model_metrics_report, f)"
   ]
  },
  {
   "cell_type": "code",
   "execution_count": 245,
   "id": "c70cb219",
   "metadata": {},
   "outputs": [],
   "source": [
    "metrics_s3_key = (f\"{prefix}/training_jobs/{training_job_xgboost_info['TrainingJobName']}/training_metrics.json\")"
   ]
  },
  {
   "cell_type": "code",
   "execution_count": 249,
   "id": "c7e3c06d",
   "metadata": {},
   "outputs": [],
   "source": [
    "s3.upload_file(Filename=\"training_metrics.json\", Bucket=bucket_name, Key=metrics_s3_key)"
   ]
  },
  {
   "cell_type": "code",
   "execution_count": 250,
   "id": "145c5d22",
   "metadata": {},
   "outputs": [],
   "source": [
    "## Inference Specs"
   ]
  },
  {
   "cell_type": "code",
   "execution_count": 257,
   "id": "adf3e9ed",
   "metadata": {},
   "outputs": [
    {
     "data": {
      "text/plain": [
       "{'TrainingJobName': 'sagemaker-xgboost-2024-01-08-22-21-12-629',\n",
       " 'TrainingJobArn': 'arn:aws:sagemaker:us-east-1:470086202700:training-job/sagemaker-xgboost-2024-01-08-22-21-12-629',\n",
       " 'ModelArtifacts': {'S3ModelArtifacts': 's3://sagemaker-us-east-1-470086202700/xgboost-fraud/output/sagemaker-xgboost-2024-01-08-22-21-12-629/output/model.tar.gz'},\n",
       " 'TrainingJobStatus': 'Completed',\n",
       " 'SecondaryStatus': 'Completed',\n",
       " 'HyperParameters': {'eta': '0.2',\n",
       "  'gamma': '4',\n",
       "  'max_depth': '5',\n",
       "  'min_child_weight': '6',\n",
       "  'num_round': '100',\n",
       "  'objective': 'binary:logistic',\n",
       "  'subsample': '0.8',\n",
       "  'verbosity': '0'},\n",
       " 'AlgorithmSpecification': {'TrainingImage': '683313688378.dkr.ecr.us-east-1.amazonaws.com/sagemaker-xgboost:1.7-1',\n",
       "  'TrainingInputMode': 'File',\n",
       "  'MetricDefinitions': [{'Name': 'train:mae',\n",
       "    'Regex': '.*\\\\[[0-9]+\\\\].*#011train-mae:([-+]?[0-9]*\\\\.?[0-9]+(?:[eE][-+]?[0-9]+)?).*'},\n",
       "   {'Name': 'validation:aucpr',\n",
       "    'Regex': '.*\\\\[[0-9]+\\\\].*#011validation-aucpr:([-+]?[0-9]*\\\\.?[0-9]+(?:[eE][-+]?[0-9]+)?).*'},\n",
       "   {'Name': 'validation:f1_binary',\n",
       "    'Regex': '.*\\\\[[0-9]+\\\\].*#011validation-f1_binary:([-+]?[0-9]*\\\\.?[0-9]+(?:[eE][-+]?[0-9]+)?).*'},\n",
       "   {'Name': 'validation:mae',\n",
       "    'Regex': '.*\\\\[[0-9]+\\\\].*#011validation-mae:([-+]?[0-9]*\\\\.?[0-9]+(?:[eE][-+]?[0-9]+)?).*'},\n",
       "   {'Name': 'validation:logloss',\n",
       "    'Regex': '.*\\\\[[0-9]+\\\\].*#011validation-logloss:([-+]?[0-9]*\\\\.?[0-9]+(?:[eE][-+]?[0-9]+)?).*'},\n",
       "   {'Name': 'validation:f1',\n",
       "    'Regex': '.*\\\\[[0-9]+\\\\].*#011validation-f1:([-+]?[0-9]*\\\\.?[0-9]+(?:[eE][-+]?[0-9]+)?).*'},\n",
       "   {'Name': 'train:accuracy',\n",
       "    'Regex': '.*\\\\[[0-9]+\\\\].*#011train-accuracy:([-+]?[0-9]*\\\\.?[0-9]+(?:[eE][-+]?[0-9]+)?).*'},\n",
       "   {'Name': 'train:mse',\n",
       "    'Regex': '.*\\\\[[0-9]+\\\\].*#011train-mse:([-+]?[0-9]*\\\\.?[0-9]+(?:[eE][-+]?[0-9]+)?).*'},\n",
       "   {'Name': 'validation:recall',\n",
       "    'Regex': '.*\\\\[[0-9]+\\\\].*#011validation-recall:([-+]?[0-9]*\\\\.?[0-9]+(?:[eE][-+]?[0-9]+)?).*'},\n",
       "   {'Name': 'validation:poisson-nloglik',\n",
       "    'Regex': '.*\\\\[[0-9]+\\\\].*#011validation-poisson-nloglik:([-+]?[0-9]*\\\\.?[0-9]+(?:[eE][-+]?[0-9]+)?).*'},\n",
       "   {'Name': 'validation:precision',\n",
       "    'Regex': '.*\\\\[[0-9]+\\\\].*#011validation-precision:([-+]?[0-9]*\\\\.?[0-9]+(?:[eE][-+]?[0-9]+)?).*'},\n",
       "   {'Name': 'train:error',\n",
       "    'Regex': '.*\\\\[[0-9]+\\\\].*#011train-error:([-+]?[0-9]*\\\\.?[0-9]+(?:[eE][-+]?[0-9]+)?).*'},\n",
       "   {'Name': 'train:ndcg',\n",
       "    'Regex': '.*\\\\[[0-9]+\\\\].*#011train-ndcg:([-+]?[0-9]*\\\\.?[0-9]+(?:[eE][-+]?[0-9]+)?).*'},\n",
       "   {'Name': 'validation:map',\n",
       "    'Regex': '.*\\\\[[0-9]+\\\\].*#011validation-map:([-+]?[0-9]*\\\\.?[0-9]+(?:[eE][-+]?[0-9]+)?).*'},\n",
       "   {'Name': 'train:f1_binary',\n",
       "    'Regex': '.*\\\\[[0-9]+\\\\].*#011train-f1_binary:([-+]?[0-9]*\\\\.?[0-9]+(?:[eE][-+]?[0-9]+)?).*'},\n",
       "   {'Name': 'validation:auc',\n",
       "    'Regex': '.*\\\\[[0-9]+\\\\].*#011validation-auc:([-+]?[0-9]*\\\\.?[0-9]+(?:[eE][-+]?[0-9]+)?).*'},\n",
       "   {'Name': 'train:auc',\n",
       "    'Regex': '.*\\\\[[0-9]+\\\\].*#011train-auc:([-+]?[0-9]*\\\\.?[0-9]+(?:[eE][-+]?[0-9]+)?).*'},\n",
       "   {'Name': 'validation:error',\n",
       "    'Regex': '.*\\\\[[0-9]+\\\\].*#011validation-error:([-+]?[0-9]*\\\\.?[0-9]+(?:[eE][-+]?[0-9]+)?).*'},\n",
       "   {'Name': 'train:poisson-nloglik',\n",
       "    'Regex': '.*\\\\[[0-9]+\\\\].*#011train-poisson-nloglik:([-+]?[0-9]*\\\\.?[0-9]+(?:[eE][-+]?[0-9]+)?).*'},\n",
       "   {'Name': 'train:rmse',\n",
       "    'Regex': '.*\\\\[[0-9]+\\\\].*#011train-rmse:([-+]?[0-9]*\\\\.?[0-9]+(?:[eE][-+]?[0-9]+)?).*'},\n",
       "   {'Name': 'train:logloss',\n",
       "    'Regex': '.*\\\\[[0-9]+\\\\].*#011train-logloss:([-+]?[0-9]*\\\\.?[0-9]+(?:[eE][-+]?[0-9]+)?).*'},\n",
       "   {'Name': 'validation:accuracy',\n",
       "    'Regex': '.*\\\\[[0-9]+\\\\].*#011validation-accuracy:([-+]?[0-9]*\\\\.?[0-9]+(?:[eE][-+]?[0-9]+)?).*'},\n",
       "   {'Name': 'train:aucpr',\n",
       "    'Regex': '.*\\\\[[0-9]+\\\\].*#011train-aucpr:([-+]?[0-9]*\\\\.?[0-9]+(?:[eE][-+]?[0-9]+)?).*'},\n",
       "   {'Name': 'validation:balanced_accuracy',\n",
       "    'Regex': '.*\\\\[[0-9]+\\\\].*#011validation-balanced_accuracy:([-+]?[0-9]*\\\\.?[0-9]+(?:[eE][-+]?[0-9]+)?).*'},\n",
       "   {'Name': 'validation:rmse',\n",
       "    'Regex': '.*\\\\[[0-9]+\\\\].*#011validation-rmse:([-+]?[0-9]*\\\\.?[0-9]+(?:[eE][-+]?[0-9]+)?).*'},\n",
       "   {'Name': 'validation:mse',\n",
       "    'Regex': '.*\\\\[[0-9]+\\\\].*#011validation-mse:([-+]?[0-9]*\\\\.?[0-9]+(?:[eE][-+]?[0-9]+)?).*'},\n",
       "   {'Name': 'validation:ndcg',\n",
       "    'Regex': '.*\\\\[[0-9]+\\\\].*#011validation-ndcg:([-+]?[0-9]*\\\\.?[0-9]+(?:[eE][-+]?[0-9]+)?).*'},\n",
       "   {'Name': 'train:f1',\n",
       "    'Regex': '.*\\\\[[0-9]+\\\\].*#011train-f1:([-+]?[0-9]*\\\\.?[0-9]+(?:[eE][-+]?[0-9]+)?).*'},\n",
       "   {'Name': 'train:map',\n",
       "    'Regex': '.*\\\\[[0-9]+\\\\].*#011train-map:([-+]?[0-9]*\\\\.?[0-9]+(?:[eE][-+]?[0-9]+)?).*'}],\n",
       "  'EnableSageMakerMetricsTimeSeries': False},\n",
       " 'RoleArn': 'arn:aws:iam::470086202700:role/sagemaker-developers',\n",
       " 'InputDataConfig': [{'ChannelName': 'train',\n",
       "   'DataSource': {'S3DataSource': {'S3DataType': 'S3Prefix',\n",
       "     'S3Uri': 's3://sagemaker-us-east-1-470086202700/xgboost-fraud/train',\n",
       "     'S3DataDistributionType': 'FullyReplicated'}},\n",
       "   'ContentType': 'csv',\n",
       "   'CompressionType': 'None',\n",
       "   'RecordWrapperType': 'None'},\n",
       "  {'ChannelName': 'validation',\n",
       "   'DataSource': {'S3DataSource': {'S3DataType': 'S3Prefix',\n",
       "     'S3Uri': 's3://sagemaker-us-east-1-470086202700/xgboost-fraud/validation/',\n",
       "     'S3DataDistributionType': 'FullyReplicated'}},\n",
       "   'ContentType': 'csv',\n",
       "   'CompressionType': 'None',\n",
       "   'RecordWrapperType': 'None'}],\n",
       " 'OutputDataConfig': {'KmsKeyId': '',\n",
       "  'S3OutputPath': 's3://sagemaker-us-east-1-470086202700/xgboost-fraud/output',\n",
       "  'CompressionType': 'GZIP'},\n",
       " 'ResourceConfig': {'InstanceType': 'ml.m4.xlarge',\n",
       "  'InstanceCount': 1,\n",
       "  'VolumeSizeInGB': 30},\n",
       " 'StoppingCondition': {'MaxRuntimeInSeconds': 86400},\n",
       " 'CreationTime': datetime.datetime(2024, 1, 8, 22, 21, 12, 769000, tzinfo=tzlocal()),\n",
       " 'TrainingStartTime': datetime.datetime(2024, 1, 8, 22, 22, 55, 275000, tzinfo=tzlocal()),\n",
       " 'TrainingEndTime': datetime.datetime(2024, 1, 8, 22, 25, 57, 860000, tzinfo=tzlocal()),\n",
       " 'LastModifiedTime': datetime.datetime(2024, 1, 8, 22, 25, 58, 491000, tzinfo=tzlocal()),\n",
       " 'SecondaryStatusTransitions': [{'Status': 'Starting',\n",
       "   'StartTime': datetime.datetime(2024, 1, 8, 22, 21, 12, 769000, tzinfo=tzlocal()),\n",
       "   'EndTime': datetime.datetime(2024, 1, 8, 22, 22, 55, 275000, tzinfo=tzlocal()),\n",
       "   'StatusMessage': 'Preparing the instances for training'},\n",
       "  {'Status': 'Downloading',\n",
       "   'StartTime': datetime.datetime(2024, 1, 8, 22, 22, 55, 275000, tzinfo=tzlocal()),\n",
       "   'EndTime': datetime.datetime(2024, 1, 8, 22, 24, 41, 322000, tzinfo=tzlocal()),\n",
       "   'StatusMessage': 'Downloading the training image'},\n",
       "  {'Status': 'Training',\n",
       "   'StartTime': datetime.datetime(2024, 1, 8, 22, 24, 41, 322000, tzinfo=tzlocal()),\n",
       "   'EndTime': datetime.datetime(2024, 1, 8, 22, 25, 41, 881000, tzinfo=tzlocal()),\n",
       "   'StatusMessage': 'Training image download completed. Training in progress.'},\n",
       "  {'Status': 'Uploading',\n",
       "   'StartTime': datetime.datetime(2024, 1, 8, 22, 25, 41, 881000, tzinfo=tzlocal()),\n",
       "   'EndTime': datetime.datetime(2024, 1, 8, 22, 25, 57, 860000, tzinfo=tzlocal()),\n",
       "   'StatusMessage': 'Uploading generated training model'},\n",
       "  {'Status': 'Completed',\n",
       "   'StartTime': datetime.datetime(2024, 1, 8, 22, 25, 57, 860000, tzinfo=tzlocal()),\n",
       "   'EndTime': datetime.datetime(2024, 1, 8, 22, 25, 57, 860000, tzinfo=tzlocal()),\n",
       "   'StatusMessage': 'Training job completed'}],\n",
       " 'FinalMetricDataList': [{'MetricName': 'validation:logloss',\n",
       "   'Value': 0.0025400000158697367,\n",
       "   'Timestamp': datetime.datetime(2024, 1, 8, 22, 25, 41, tzinfo=tzlocal())},\n",
       "  {'MetricName': 'train:logloss',\n",
       "   'Value': 0.0011099999537691474,\n",
       "   'Timestamp': datetime.datetime(2024, 1, 8, 22, 25, 41, tzinfo=tzlocal())}],\n",
       " 'EnableNetworkIsolation': False,\n",
       " 'EnableInterContainerTrafficEncryption': False,\n",
       " 'EnableManagedSpotTraining': False,\n",
       " 'TrainingTimeInSeconds': 182,\n",
       " 'BillableTimeInSeconds': 182,\n",
       " 'DebugHookConfig': {'S3OutputPath': 's3://sagemaker-us-east-1-470086202700/xgboost-fraud/output',\n",
       "  'CollectionConfigurations': []},\n",
       " 'ProfilerConfig': {'S3OutputPath': 's3://sagemaker-us-east-1-470086202700/xgboost-fraud/output',\n",
       "  'ProfilingIntervalInMilliseconds': 500,\n",
       "  'DisableProfiler': False},\n",
       " 'ProfilingStatus': 'Enabled',\n",
       " 'ResponseMetadata': {'RequestId': 'd6967db0-1d7c-451f-b809-47f396b8f0e1',\n",
       "  'HTTPStatusCode': 200,\n",
       "  'HTTPHeaders': {'x-amzn-requestid': 'd6967db0-1d7c-451f-b809-47f396b8f0e1',\n",
       "   'content-type': 'application/x-amz-json-1.1',\n",
       "   'content-length': '6905',\n",
       "   'date': 'Tue, 09 Jan 2024 00:26:39 GMT'},\n",
       "  'RetryAttempts': 0}}"
      ]
     },
     "execution_count": 257,
     "metadata": {},
     "output_type": "execute_result"
    }
   ],
   "source": [
    "training_job_xgboost_info"
   ]
  },
  {
   "cell_type": "code",
   "execution_count": 262,
   "id": "c67cf2d0",
   "metadata": {},
   "outputs": [],
   "source": [
    "model_url = training_job_xgboost_info['ModelArtifacts']['S3ModelArtifacts']\n",
    "model_image= training_job_xgboost_info['AlgorithmSpecification']['TrainingImage']\n",
    "\n",
    "mp_inference_spec =  {\n",
    "    \"InferenceSpecification\": {\n",
    "      \"Containers\": [\n",
    "         {\n",
    "            \"Image\": model_image,\n",
    "             \"ModelDataUrl\": model_url\n",
    "         }\n",
    "      ],\n",
    "      \"SupportedContentTypes\": [ \"text/csv\" ],\n",
    "      \"SupportedResponseMIMETypes\": [ \"text/csv\" ],\n",
    "   }\n",
    " }"
   ]
  },
  {
   "cell_type": "code",
   "execution_count": 259,
   "id": "552e7262",
   "metadata": {},
   "outputs": [],
   "source": [
    "## Define model metrics"
   ]
  },
  {
   "cell_type": "code",
   "execution_count": 260,
   "id": "8dee4e45",
   "metadata": {},
   "outputs": [],
   "source": [
    "model_metrics = {\n",
    "    \"ModelQuality\": {\n",
    "        \"Statistics\": {\n",
    "            \"ContentType\": \"application/json\",\n",
    "            \"S3Uri\": f\"s3://{bucket_name}/{metrics_s3_key}\",\n",
    "        }\n",
    "    },\n",
    "    \"Bias\": {\n",
    "        \"Report\": {\n",
    "            \"ContentType\": \"application/json\",\n",
    "            \"S3Uri\": f\"{bias_report_1_output_path}/analysis.json\",\n",
    "        }\n",
    "    },\n",
    "}"
   ]
  },
  {
   "cell_type": "code",
   "execution_count": 261,
   "id": "a4b8c8de",
   "metadata": {},
   "outputs": [],
   "source": [
    "mp_input_dict = {\n",
    "    \"ModelPackageGroupName\": mpg_name,\n",
    "    \"ModelPackageDescription\": \"XGBoost classifier to detect credit fraud.\",\n",
    "    \"ModelApprovalStatus\": \"PendingManualApproval\",\n",
    "    \"ModelMetrics\": model_metrics,\n",
    "}"
   ]
  },
  {
   "cell_type": "code",
   "execution_count": 263,
   "id": "e3142ac0",
   "metadata": {},
   "outputs": [],
   "source": [
    "mp_input_dict.update(mp_inference_spec)"
   ]
  },
  {
   "cell_type": "code",
   "execution_count": 264,
   "id": "95c32de1",
   "metadata": {},
   "outputs": [],
   "source": [
    "mp1_response = sagemaker_boto_client.create_model_package(**mp_input_dict)"
   ]
  },
  {
   "cell_type": "code",
   "execution_count": 265,
   "id": "4f3eeec5",
   "metadata": {},
   "outputs": [],
   "source": [
    "## wait for model package to be craeted"
   ]
  },
  {
   "cell_type": "code",
   "execution_count": 266,
   "id": "ee91766a",
   "metadata": {},
   "outputs": [
    {
     "name": "stdout",
     "output_type": "stream",
     "text": [
      "model package status: Completed\n"
     ]
    }
   ],
   "source": [
    "mp_info = sagemaker_boto_client.describe_model_package(\n",
    "    ModelPackageName=mp1_response[\"ModelPackageArn\"]\n",
    ")\n",
    "mp_status = mp_info[\"ModelPackageStatus\"]\n",
    "\n",
    "while mp_status not in [\"Completed\", \"Failed\"]:\n",
    "    time.sleep(5)\n",
    "    mp_info = sagemaker_boto_client.describe_model_package(\n",
    "        ModelPackageName=mp1_response[\"ModelPackageArn\"]\n",
    "    )\n",
    "    mp_status = mp_info[\"ModelPackageStatus\"]\n",
    "    print(f\"model package status: {mp_status}\")\n",
    "print(f\"model package status: {mp_status}\")"
   ]
  },
  {
   "cell_type": "markdown",
   "id": "4edc5064",
   "metadata": {},
   "source": [
    "## View model package"
   ]
  },
  {
   "cell_type": "code",
   "execution_count": 268,
   "id": "12ff5b8b",
   "metadata": {},
   "outputs": [
    {
     "data": {
      "text/plain": [
       "[{'ModelPackageGroupName': 'fraud-detection',\n",
       "  'ModelPackageVersion': 1,\n",
       "  'ModelPackageArn': 'arn:aws:sagemaker:us-east-1:470086202700:model-package/fraud-detection/1',\n",
       "  'ModelPackageDescription': 'XGBoost classifier to detect credit fraud.',\n",
       "  'CreationTime': datetime.datetime(2024, 1, 9, 19, 10, 41, 620000, tzinfo=tzlocal()),\n",
       "  'ModelPackageStatus': 'Completed',\n",
       "  'ModelApprovalStatus': 'PendingManualApproval'}]"
      ]
     },
     "execution_count": 268,
     "metadata": {},
     "output_type": "execute_result"
    }
   ],
   "source": [
    "sagemaker_boto_client.list_model_packages(ModelPackageGroupName=mpg_name)[\"ModelPackageSummaryList\"]"
   ]
  },
  {
   "cell_type": "code",
   "execution_count": null,
   "id": "b829254c",
   "metadata": {},
   "outputs": [],
   "source": []
  }
 ],
 "metadata": {
  "kernelspec": {
   "display_name": "conda_python3",
   "language": "python",
   "name": "conda_python3"
  },
  "language_info": {
   "codemirror_mode": {
    "name": "ipython",
    "version": 3
   },
   "file_extension": ".py",
   "mimetype": "text/x-python",
   "name": "python",
   "nbconvert_exporter": "python",
   "pygments_lexer": "ipython3",
   "version": "3.10.13"
  }
 },
 "nbformat": 4,
 "nbformat_minor": 5
}
