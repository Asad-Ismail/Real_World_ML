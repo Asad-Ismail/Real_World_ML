{
 "cells": [
  {
   "cell_type": "code",
   "execution_count": 8,
   "id": "9008df79",
   "metadata": {},
   "outputs": [],
   "source": [
    "import boto3\n",
    "import numpy as np\n",
    "import os\n",
    "import sagemaker\n",
    "import json"
   ]
  },
  {
   "cell_type": "code",
   "execution_count": 2,
   "id": "3bd680f9",
   "metadata": {},
   "outputs": [],
   "source": [
    "region = sagemaker.Session().boto_region_name\n",
    "boto_session = boto3.Session(region_name=region)\n",
    "sagemaker_boto_client = boto_session.client(\"sagemaker\")"
   ]
  },
  {
   "cell_type": "code",
   "execution_count": 3,
   "id": "4f923e1b",
   "metadata": {},
   "outputs": [],
   "source": [
    "mpg_name = \"fraud-detection\""
   ]
  },
  {
   "cell_type": "code",
   "execution_count": 18,
   "id": "6dc4597b",
   "metadata": {},
   "outputs": [],
   "source": [
    "sagemaker_iam_role = sagemaker.get_execution_role()"
   ]
  },
  {
   "cell_type": "code",
   "execution_count": 19,
   "id": "74025afa",
   "metadata": {},
   "outputs": [
    {
     "data": {
      "text/plain": [
       "'arn:aws:iam::470086202700:role/sagemaker-developers'"
      ]
     },
     "execution_count": 19,
     "metadata": {},
     "output_type": "execute_result"
    }
   ],
   "source": [
    "sagemaker_iam_role"
   ]
  },
  {
   "cell_type": "code",
   "execution_count": 129,
   "id": "7f5ccc08",
   "metadata": {},
   "outputs": [
    {
     "data": {
      "text/plain": [
       "[{'ModelPackageGroupName': 'fraud-detection',\n",
       "  'ModelPackageVersion': 1,\n",
       "  'ModelPackageArn': 'arn:aws:sagemaker:us-east-1:470086202700:model-package/fraud-detection/1',\n",
       "  'ModelPackageDescription': 'XGBoost classifier to detect credit fraud.',\n",
       "  'CreationTime': datetime.datetime(2024, 1, 9, 19, 10, 41, 620000, tzinfo=tzlocal()),\n",
       "  'ModelPackageStatus': 'Completed',\n",
       "  'ModelApprovalStatus': 'Approved'}]"
      ]
     },
     "execution_count": 129,
     "metadata": {},
     "output_type": "execute_result"
    }
   ],
   "source": [
    "sagemaker_boto_client.list_model_packages(ModelPackageGroupName=mpg_name)[\"ModelPackageSummaryList\"]"
   ]
  },
  {
   "cell_type": "code",
   "execution_count": 5,
   "id": "a7184a34",
   "metadata": {},
   "outputs": [],
   "source": [
    "model_package_group_name = 'fraud-detection'"
   ]
  },
  {
   "cell_type": "markdown",
   "id": "487ea85c",
   "metadata": {},
   "source": [
    "# Create EventBridge client"
   ]
  },
  {
   "cell_type": "code",
   "execution_count": 6,
   "id": "a5d62709",
   "metadata": {},
   "outputs": [],
   "source": [
    "eventbridge_client = boto3.client('events')\n",
    "\n",
    "rule_name = 'model-approval-rule-specific-group'\n",
    "event_pattern = {\n",
    "    \"source\": [\"aws.sagemaker\"],\n",
    "    \"detail-type\": [\"SageMaker Model Package State Change\"],\n",
    "    \"detail\": {\n",
    "        \"ModelPackageGroupName\": [model_package_group_name],\n",
    "        \"ModelPackageStatus\": [\"Approved\"]\n",
    "    }\n",
    "}"
   ]
  },
  {
   "cell_type": "code",
   "execution_count": 1,
   "id": "9fbd6ab4",
   "metadata": {},
   "outputs": [
    {
     "ename": "NameError",
     "evalue": "name 'eventbridge_client' is not defined",
     "output_type": "error",
     "traceback": [
      "\u001b[0;31m---------------------------------------------------------------------------\u001b[0m",
      "\u001b[0;31mNameError\u001b[0m                                 Traceback (most recent call last)",
      "Cell \u001b[0;32mIn[1], line 2\u001b[0m\n\u001b[1;32m      1\u001b[0m \u001b[38;5;66;03m# Create update the rule\u001b[39;00m\n\u001b[0;32m----> 2\u001b[0m response \u001b[38;5;241m=\u001b[39m \u001b[43meventbridge_client\u001b[49m\u001b[38;5;241m.\u001b[39mput_rule(\n\u001b[1;32m      3\u001b[0m     Name\u001b[38;5;241m=\u001b[39mrule_name,\n\u001b[1;32m      4\u001b[0m     EventPattern\u001b[38;5;241m=\u001b[39mjson\u001b[38;5;241m.\u001b[39mdumps(event_pattern),\n\u001b[1;32m      5\u001b[0m     State\u001b[38;5;241m=\u001b[39m\u001b[38;5;124m'\u001b[39m\u001b[38;5;124mENABLED\u001b[39m\u001b[38;5;124m'\u001b[39m\n\u001b[1;32m      6\u001b[0m )\n",
      "\u001b[0;31mNameError\u001b[0m: name 'eventbridge_client' is not defined"
     ]
    }
   ],
   "source": [
    "# Create update the rule\n",
    "response = eventbridge_client.put_rule(\n",
    "    Name=rule_name,\n",
    "    EventPattern=json.dumps(event_pattern),\n",
    "    State='ENABLED'\n",
    ")"
   ]
  },
  {
   "cell_type": "code",
   "execution_count": 121,
   "id": "7e2383b3",
   "metadata": {},
   "outputs": [
    {
     "data": {
      "text/plain": [
       "{'RuleArn': 'arn:aws:events:us-east-1:470086202700:rule/model-approval-rule-specific-group',\n",
       " 'ResponseMetadata': {'RequestId': 'b67343f5-a8b9-4df0-b123-bd6ede8feb5d',\n",
       "  'HTTPStatusCode': 200,\n",
       "  'HTTPHeaders': {'x-amzn-requestid': 'b67343f5-a8b9-4df0-b123-bd6ede8feb5d',\n",
       "   'content-type': 'application/x-amz-json-1.1',\n",
       "   'content-length': '91',\n",
       "   'date': 'Wed, 10 Jan 2024 19:37:19 GMT'},\n",
       "  'RetryAttempts': 0}}"
      ]
     },
     "execution_count": 121,
     "metadata": {},
     "output_type": "execute_result"
    }
   ],
   "source": [
    "response"
   ]
  },
  {
   "cell_type": "markdown",
   "id": "7294219c",
   "metadata": {},
   "source": [
    "## Attach lambda to eventbridge"
   ]
  },
  {
   "cell_type": "code",
   "execution_count": 122,
   "id": "e8f1980c",
   "metadata": {},
   "outputs": [],
   "source": [
    "lambda_client = boto3.client('lambda')\n",
    "lambda_arn = 'lambda_Arn'\n",
    "\n",
    "response_check = eventbridge_client.put_targets(\n",
    "    Rule=rule_name,\n",
    "    Targets=[\n",
    "        {\n",
    "            'Id': '1',\n",
    "            'Arn': lambda_arn\n",
    "        }\n",
    "    ]\n",
    ")"
   ]
  },
  {
   "cell_type": "code",
   "execution_count": 123,
   "id": "77640755",
   "metadata": {},
   "outputs": [
    {
     "data": {
      "text/plain": [
       "{'RuleArn': 'arn:aws:events:us-east-1:470086202700:rule/model-approval-rule-specific-group',\n",
       " 'ResponseMetadata': {'RequestId': 'b67343f5-a8b9-4df0-b123-bd6ede8feb5d',\n",
       "  'HTTPStatusCode': 200,\n",
       "  'HTTPHeaders': {'x-amzn-requestid': 'b67343f5-a8b9-4df0-b123-bd6ede8feb5d',\n",
       "   'content-type': 'application/x-amz-json-1.1',\n",
       "   'content-length': '91',\n",
       "   'date': 'Wed, 10 Jan 2024 19:37:19 GMT'},\n",
       "  'RetryAttempts': 0}}"
      ]
     },
     "execution_count": 123,
     "metadata": {},
     "output_type": "execute_result"
    }
   ],
   "source": [
    "response"
   ]
  },
  {
   "cell_type": "code",
   "execution_count": 124,
   "id": "76c5f688",
   "metadata": {},
   "outputs": [
    {
     "data": {
      "text/plain": [
       "{'ResponseMetadata': {'RequestId': 'd72d26e5-358d-4967-8b88-f56cf52313ae',\n",
       "  'HTTPStatusCode': 201,\n",
       "  'HTTPHeaders': {'date': 'Wed, 10 Jan 2024 19:37:45 GMT',\n",
       "   'content-type': 'application/json',\n",
       "   'content-length': '378',\n",
       "   'connection': 'keep-alive',\n",
       "   'x-amzn-requestid': 'd72d26e5-358d-4967-8b88-f56cf52313ae'},\n",
       "  'RetryAttempts': 0},\n",
       " 'Statement': '{\"Sid\":\"EventBridgeInvoke\",\"Effect\":\"Allow\",\"Principal\":{\"Service\":\"events.amazonaws.com\"},\"Action\":\"lambda:InvokeFunction\",\"Resource\":\"arn:aws:lambda:us-east-1:470086202700:function:fraud-endpoint-deployment\",\"Condition\":{\"ArnLike\":{\"AWS:SourceArn\":\"arn:aws:events:us-east-1:470086202700:rule/model-approval-rule-specific-group\"}}}'}"
      ]
     },
     "execution_count": 124,
     "metadata": {},
     "output_type": "execute_result"
    }
   ],
   "source": [
    "# Grant EventBridge permission to invoke the Lambda function\n",
    "lambda_client.add_permission(\n",
    "    FunctionName='fraud-endpoint-deployment',\n",
    "    StatementId='EventBridgeInvoke',\n",
    "    Action='lambda:InvokeFunction',\n",
    "    Principal='events.amazonaws.com',\n",
    "    SourceArn=response['RuleArn']\n",
    ")"
   ]
  },
  {
   "cell_type": "markdown",
   "id": "700d0edc",
   "metadata": {},
   "source": [
    "## Approve model"
   ]
  },
  {
   "cell_type": "code",
   "execution_count": 128,
   "id": "635812e6",
   "metadata": {},
   "outputs": [
    {
     "name": "stdout",
     "output_type": "stream",
     "text": [
      "{'ModelPackageArn': 'arn:aws:sagemaker:us-east-1:470086202700:model-package/fraud-detection/1', 'ResponseMetadata': {'RequestId': '388f50cf-3845-4de0-a69e-fd0b81af0f8f', 'HTTPStatusCode': 200, 'HTTPHeaders': {'x-amzn-requestid': '388f50cf-3845-4de0-a69e-fd0b81af0f8f', 'content-type': 'application/x-amz-json-1.1', 'content-length': '94', 'date': 'Wed, 10 Jan 2024 20:21:28 GMT'}, 'RetryAttempts': 0}}\n"
     ]
    }
   ],
   "source": [
    "# Update the model package status to 'Approved'\n",
    "response = sagemaker_boto_client.update_model_package(\n",
    "    ModelPackageArn=model_package_arn,\n",
    "    ModelApprovalStatus=\"Approved\"\n",
    ")\n",
    "\n",
    "print(response)"
   ]
  },
  {
   "cell_type": "code",
   "execution_count": null,
   "id": "fa8d5c2e",
   "metadata": {},
   "outputs": [],
   "source": []
  }
 ],
 "metadata": {
  "kernelspec": {
   "display_name": "conda_python3",
   "language": "python",
   "name": "conda_python3"
  },
  "language_info": {
   "codemirror_mode": {
    "name": "ipython",
    "version": 3
   },
   "file_extension": ".py",
   "mimetype": "text/x-python",
   "name": "python",
   "nbconvert_exporter": "python",
   "pygments_lexer": "ipython3",
   "version": "3.10.13"
  }
 },
 "nbformat": 4,
 "nbformat_minor": 5
}
