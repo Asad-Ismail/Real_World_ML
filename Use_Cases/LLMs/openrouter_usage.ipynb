{
 "cells": [
  {
   "cell_type": "code",
   "execution_count": 18,
   "metadata": {},
   "outputs": [],
   "source": [
    "import openai\n",
    "import os\n",
    "from dotenv import load_dotenv"
   ]
  },
  {
   "cell_type": "code",
   "execution_count": 19,
   "metadata": {},
   "outputs": [],
   "source": [
    "openai.api_base = \"https://openrouter.ai/api/v1\""
   ]
  },
  {
   "cell_type": "code",
   "execution_count": 20,
   "metadata": {},
   "outputs": [],
   "source": [
    "load_dotenv() \n",
    "api_key = os.getenv(\"OPENROUTER_API_KEY\")"
   ]
  },
  {
   "cell_type": "code",
   "execution_count": 21,
   "metadata": {},
   "outputs": [
    {
     "name": "stdout",
     "output_type": "stream",
     "text": [
      "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\n"
     ]
    }
   ],
   "source": [
    "print(api_key)"
   ]
  },
  {
   "cell_type": "code",
   "execution_count": 22,
   "metadata": {},
   "outputs": [],
   "source": [
    "openai.api_key = api_key"
   ]
  },
  {
   "cell_type": "code",
   "execution_count": 25,
   "metadata": {},
   "outputs": [],
   "source": [
    "response = openai.ChatCompletion.create(\n",
    "    model=\"moonshotai/kimi-k2:free\",  \n",
    "    messages=[\n",
    "        {\"role\": \"system\", \"content\": \"You are a helpful AI coder.\"},\n",
    "        {\"role\": \"user\", \"content\": \"Write a Python function to sort a list of dictionaries by a key\"},\n",
    "    ],\n",
    "    temperature=0.7,\n",
    ")"
   ]
  },
  {
   "cell_type": "code",
   "execution_count": 28,
   "metadata": {},
   "outputs": [
    {
     "name": "stdout",
     "output_type": "stream",
     "text": [
      "```python\n",
      "from typing import List, Dict, Any\n",
      "\n",
      "def sort_dicts(data: List[Dict[str, Any]], key: str, reverse: bool = False) -> List[Dict[str, Any]]:\n",
      "    \"\"\"\n",
      "    Return a new list of dictionaries sorted by the given key.\n",
      "\n",
      "    Parameters\n",
      "    ----------\n",
      "    data : list of dict\n",
      "        The list to be sorted.\n",
      "    key : str\n",
      "        Dictionary key to sort by.\n",
      "    reverse : bool, optional\n",
      "        If True, sort in descending order. Default is False (ascending).\n",
      "\n",
      "    Returns\n",
      "    -------\n",
      "    list of dict\n",
      "        A new sorted list; the original list is left untouched.\n",
      "\n",
      "    Raises\n",
      "    ------\n",
      "    KeyError\n",
      "        If any dictionary does not contain the specified key.\n",
      "    \"\"\"\n",
      "    if not all(key in d for d in data):\n",
      "        missing = next(d for d in data if key not in d)\n",
      "        raise KeyError(f\"Key '{key}' not found in dictionary: {missing}\")\n",
      "\n",
      "    return sorted(data, key=lambda d: d[key], reverse=reverse)\n",
      "\n",
      "\n",
      "# ------------------ quick demo ------------------\n",
      "if __name__ == \"__main__\":\n",
      "    people = [\n",
      "        {\"name\": \"Alice\", \"age\": 30},\n",
      "        {\"name\": \"Bob\",   \"age\": 25},\n",
      "        {\"name\": \"Chloe\", \"age\": 35}\n",
      "    ]\n",
      "\n",
      "    print(sort_dicts(people, \"age\"))               # ascending\n",
      "    print(sort_dicts(people, \"age\", reverse=True)) # descending\n",
      "```\n"
     ]
    }
   ],
   "source": [
    "\n",
    "print(response['choices'][0]['message']['content'])"
   ]
  },
  {
   "cell_type": "code",
   "execution_count": null,
   "metadata": {},
   "outputs": [],
   "source": []
  }
 ],
 "metadata": {
  "kernelspec": {
   "display_name": "base",
   "language": "python",
   "name": "python3"
  },
  "language_info": {
   "codemirror_mode": {
    "name": "ipython",
    "version": 3
   },
   "file_extension": ".py",
   "mimetype": "text/x-python",
   "name": "python",
   "nbconvert_exporter": "python",
   "pygments_lexer": "ipython3",
   "version": "3.12.7"
  }
 },
 "nbformat": 4,
 "nbformat_minor": 2
}
